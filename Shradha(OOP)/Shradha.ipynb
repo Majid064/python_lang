{
 "cells": [
  {
   "cell_type": "code",
   "execution_count": 6,
   "metadata": {},
   "outputs": [],
   "source": [
    "class Student:\n",
    "\n",
    "    # def __init__(self):           # default constructor\n",
    "    #     pass\n",
    "\n",
    "    college_name = \"Gift College\"     # class attributes\n",
    "    name = \"Majid Ali\"\n",
    "\n",
    "    def __init__(self, name, age):      # parameterized constructor\n",
    "        self.name = name   # objects attributes\n",
    "        self.age = age "
   ]
  },
  {
   "cell_type": "code",
   "execution_count": 7,
   "metadata": {},
   "outputs": [],
   "source": [
    "s1 = Student(\"Atif\",16)"
   ]
  },
  {
   "cell_type": "code",
   "execution_count": 14,
   "metadata": {},
   "outputs": [
    {
     "data": {
      "text/plain": [
       "16"
      ]
     },
     "execution_count": 14,
     "metadata": {},
     "output_type": "execute_result"
    }
   ],
   "source": [
    "s1.age"
   ]
  },
  {
   "cell_type": "code",
   "execution_count": 21,
   "metadata": {},
   "outputs": [
    {
     "data": {
      "text/plain": [
       "'Atif'"
      ]
     },
     "execution_count": 21,
     "metadata": {},
     "output_type": "execute_result"
    }
   ],
   "source": [
    "s1.name"
   ]
  },
  {
   "cell_type": "code",
   "execution_count": 15,
   "metadata": {},
   "outputs": [
    {
     "data": {
      "text/plain": [
       "'Gift College'"
      ]
     },
     "execution_count": 15,
     "metadata": {},
     "output_type": "execute_result"
    }
   ],
   "source": [
    "s1.college_name"
   ]
  },
  {
   "cell_type": "code",
   "execution_count": 16,
   "metadata": {},
   "outputs": [
    {
     "data": {
      "text/plain": [
       "'Gift College'"
      ]
     },
     "execution_count": 16,
     "metadata": {},
     "output_type": "execute_result"
    }
   ],
   "source": [
    "Student.college_name"
   ]
  },
  {
   "cell_type": "code",
   "execution_count": 6,
   "metadata": {},
   "outputs": [],
   "source": [
    "class Student1:\n",
    "    def __init__(self, name, marks):\n",
    "        self.name = name\n",
    "        self.marks = marks\n",
    "\n",
    "    @staticmethod      #  decorator\n",
    "    def hello():       #  static method (method wihtout self), this is the same for the whole class\n",
    "        print(\"Hello\")\n",
    "    \n",
    "    def get_avg(self):\n",
    "        sum = 0\n",
    "        for val in self.marks:\n",
    "            sum += val\n",
    "        print(f\"Hi {self.name}, your average marks is {sum/4}\")     \n",
    "\n",
    "    "
   ]
  },
  {
   "cell_type": "code",
   "execution_count": 2,
   "metadata": {},
   "outputs": [
    {
     "name": "stdout",
     "output_type": "stream",
     "text": [
      "Hi Majid Ali, your average marks is 87.0\n"
     ]
    }
   ],
   "source": [
    "s1 = Student1(\"Majid Ali\", [80,90,78,100])\n",
    "\n",
    "s1.get_avg()"
   ]
  },
  {
   "cell_type": "code",
   "execution_count": 17,
   "metadata": {},
   "outputs": [],
   "source": [
    "s1.name = \"Sajid Ali\""
   ]
  },
  {
   "cell_type": "code",
   "execution_count": 18,
   "metadata": {},
   "outputs": [
    {
     "name": "stdout",
     "output_type": "stream",
     "text": [
      "Hi Sajid Ali, your average marks is 87.0\n"
     ]
    }
   ],
   "source": [
    "s1.get_avg()"
   ]
  },
  {
   "cell_type": "code",
   "execution_count": 5,
   "metadata": {},
   "outputs": [
    {
     "name": "stdout",
     "output_type": "stream",
     "text": [
      "Hello\n"
     ]
    }
   ],
   "source": [
    "s1.hello()"
   ]
  },
  {
   "cell_type": "markdown",
   "metadata": {},
   "source": [
    "# Abstraction"
   ]
  },
  {
   "cell_type": "code",
   "execution_count": 29,
   "metadata": {},
   "outputs": [],
   "source": [
    "class Car:\n",
    "    def __init__(self,):\n",
    "        self.accelerator = False\n",
    "        self.brk = False\n",
    "        self.clutch = False\n",
    "\n",
    "    def start(self):\n",
    "        self.clutch = True\n",
    "        self.accelerator = True\n",
    "        print(\"Car started\")"
   ]
  },
  {
   "cell_type": "code",
   "execution_count": 30,
   "metadata": {},
   "outputs": [],
   "source": [
    "c1 = Car()"
   ]
  },
  {
   "cell_type": "code",
   "execution_count": 31,
   "metadata": {},
   "outputs": [
    {
     "name": "stdout",
     "output_type": "stream",
     "text": [
      "Car started\n"
     ]
    }
   ],
   "source": [
    "c1.start()"
   ]
  },
  {
   "cell_type": "code",
   "execution_count": 34,
   "metadata": {},
   "outputs": [],
   "source": [
    "class Account:\n",
    "    def __init__(self,bal,acc):\n",
    "        self.balance = bal\n",
    "        self.account_no = acc\n",
    "\n",
    "acc1 = Account(10000, 123456)\n"
   ]
  },
  {
   "cell_type": "code",
   "execution_count": 35,
   "metadata": {},
   "outputs": [
    {
     "data": {
      "text/plain": [
       "10000"
      ]
     },
     "execution_count": 35,
     "metadata": {},
     "output_type": "execute_result"
    }
   ],
   "source": [
    "acc1.balance"
   ]
  },
  {
   "cell_type": "code",
   "execution_count": 37,
   "metadata": {},
   "outputs": [
    {
     "data": {
      "text/plain": [
       "123456"
      ]
     },
     "execution_count": 37,
     "metadata": {},
     "output_type": "execute_result"
    }
   ],
   "source": [
    "acc1.account_no"
   ]
  },
  {
   "cell_type": "code",
   "execution_count": 12,
   "metadata": {},
   "outputs": [],
   "source": [
    "class Account:\n",
    "    def __init__(self,bal,acc):\n",
    "        self.balance = bal\n",
    "        self.account_no = acc\n",
    "        \n",
    "    def debit(self,amount):\n",
    "        self.balance = self.balance-amount\n",
    "        # self.balance -= amount\n",
    "        print(f\"Rs {amount} was debited\")  \n",
    "        print(f\"total balance: {self.get_balance()}\")  \n",
    "\n",
    "    def credit(self,amount):\n",
    "        self.balance += amount\n",
    "        print(f\"Rs. {amount} was credited\")  \n",
    "        print(f\"total balance: {self.get_balance()}\")  \n",
    "\n",
    "    def get_balance(self):\n",
    "        return self.balance      \n",
    "\n",
    "acc2 = Account(50000, 12345)"
   ]
  },
  {
   "cell_type": "code",
   "execution_count": 13,
   "metadata": {},
   "outputs": [
    {
     "data": {
      "text/plain": [
       "50000"
      ]
     },
     "execution_count": 13,
     "metadata": {},
     "output_type": "execute_result"
    }
   ],
   "source": [
    "acc2.get_balance()"
   ]
  },
  {
   "cell_type": "code",
   "execution_count": 14,
   "metadata": {},
   "outputs": [
    {
     "name": "stdout",
     "output_type": "stream",
     "text": [
      "Rs 10000 was debited\n",
      "total balance: 40000\n"
     ]
    }
   ],
   "source": [
    "acc2.debit(10000)"
   ]
  },
  {
   "cell_type": "code",
   "execution_count": 15,
   "metadata": {},
   "outputs": [
    {
     "name": "stdout",
     "output_type": "stream",
     "text": [
      "Rs. 60000 was credited\n",
      "total balance: 100000\n"
     ]
    }
   ],
   "source": [
    "acc2.credit(60000)"
   ]
  },
  {
   "cell_type": "code",
   "execution_count": 16,
   "metadata": {},
   "outputs": [
    {
     "data": {
      "text/plain": [
       "100000"
      ]
     },
     "execution_count": 16,
     "metadata": {},
     "output_type": "execute_result"
    }
   ],
   "source": [
    "acc2.get_balance()"
   ]
  },
  {
   "cell_type": "markdown",
   "metadata": {},
   "source": [
    "# Private attributes and methods"
   ]
  },
  {
   "cell_type": "code",
   "execution_count": 7,
   "metadata": {},
   "outputs": [],
   "source": [
    "class Account1:\n",
    "    def __init__(self, acc_no , ac_pass):\n",
    "        self.acc_no = acc_no\n",
    "        self.acc_pass = ac_pass\n",
    "\n",
    "info = Account1(343057552217, 12345678)\n",
    "\n",
    "    "
   ]
  },
  {
   "cell_type": "code",
   "execution_count": 8,
   "metadata": {},
   "outputs": [
    {
     "data": {
      "text/plain": [
       "343057552217"
      ]
     },
     "execution_count": 8,
     "metadata": {},
     "output_type": "execute_result"
    }
   ],
   "source": [
    "info.acc_no"
   ]
  },
  {
   "cell_type": "code",
   "execution_count": 17,
   "metadata": {},
   "outputs": [],
   "source": [
    "class Account1:\n",
    "    def __init__(self, acc_no , ac_pass):\n",
    "        self.__acc_no = acc_no\n",
    "        self.__acc_pass = ac_pass\n",
    "\n",
    "info = Account1(343057552217, 12345678)"
   ]
  },
  {
   "cell_type": "code",
   "execution_count": 10,
   "metadata": {},
   "outputs": [
    {
     "ename": "AttributeError",
     "evalue": "'Account1' object has no attribute '__acc_no'",
     "output_type": "error",
     "traceback": [
      "\u001b[1;31m---------------------------------------------------------------------------\u001b[0m",
      "\u001b[1;31mAttributeError\u001b[0m                            Traceback (most recent call last)",
      "Cell \u001b[1;32mIn[10], line 1\u001b[0m\n\u001b[1;32m----> 1\u001b[0m info\u001b[38;5;241m.\u001b[39m__acc_no\n",
      "\u001b[1;31mAttributeError\u001b[0m: 'Account1' object has no attribute '__acc_no'"
     ]
    }
   ],
   "source": [
    "info.__acc_no"
   ]
  },
  {
   "cell_type": "code",
   "execution_count": 1,
   "metadata": {},
   "outputs": [],
   "source": [
    "class Account1:\n",
    "    def __init__(self, acc_no , ac_pass):\n",
    "        self.__acc_no = acc_no\n",
    "        self.__acc_pass = ac_pass\n",
    "\n",
    "    def reset_pass(self):\n",
    "        print(self.__acc_no)\n",
    "\n",
    "info = Account1(343057552217, 12345678)"
   ]
  },
  {
   "cell_type": "code",
   "execution_count": 12,
   "metadata": {},
   "outputs": [
    {
     "name": "stdout",
     "output_type": "stream",
     "text": [
      "343057552217\n"
     ]
    }
   ],
   "source": [
    "info.reset_pass()"
   ]
  },
  {
   "cell_type": "markdown",
   "metadata": {},
   "source": [
    "# Inheritance"
   ]
  },
  {
   "cell_type": "code",
   "execution_count": 23,
   "metadata": {},
   "outputs": [],
   "source": [
    "class Car:\n",
    "    @staticmethod\n",
    "    def start():\n",
    "        print(\"Car started\")\n",
    "\n",
    "    @staticmethod\n",
    "    def stopped():\n",
    "        print(\"Car stopped\")\n",
    "\n",
    "class ToyataCar(Car):\n",
    "    def __init__(self,name):\n",
    "        self.name = name\n",
    "\n",
    "car1 = ToyataCar(\"Fortuner\")\n",
    "car2 = ToyataCar(\"Corola\")"
   ]
  },
  {
   "cell_type": "code",
   "execution_count": 24,
   "metadata": {},
   "outputs": [
    {
     "data": {
      "text/plain": [
       "'Fortuner'"
      ]
     },
     "execution_count": 24,
     "metadata": {},
     "output_type": "execute_result"
    }
   ],
   "source": [
    "car1.name"
   ]
  },
  {
   "cell_type": "code",
   "execution_count": 20,
   "metadata": {},
   "outputs": [
    {
     "data": {
      "text/plain": [
       "'Corola'"
      ]
     },
     "execution_count": 20,
     "metadata": {},
     "output_type": "execute_result"
    }
   ],
   "source": [
    "car2.name"
   ]
  },
  {
   "cell_type": "code",
   "execution_count": 26,
   "metadata": {},
   "outputs": [
    {
     "name": "stdout",
     "output_type": "stream",
     "text": [
      "Car started\n"
     ]
    }
   ],
   "source": [
    "car1.start()"
   ]
  },
  {
   "cell_type": "markdown",
   "metadata": {},
   "source": [
    "# Super () Method"
   ]
  },
  {
   "cell_type": "code",
   "execution_count": 21,
   "metadata": {},
   "outputs": [],
   "source": [
    "class Car:\n",
    "    def __init__(self,type):\n",
    "        self.type = type\n",
    "\n",
    "    @staticmethod\n",
    "    def start():\n",
    "        print(\"Car started\")\n",
    "\n",
    "    @staticmethod\n",
    "    def stopped():\n",
    "        print(\"Car stopped\")\n",
    "\n",
    "class ToyataCar(Car):\n",
    "    def __init__(self,name):\n",
    "        self.name = name     \n",
    "\n",
    "car1 = ToyataCar(\"Fortuner\")\n",
    "car2 = ToyataCar(\"Corola\")"
   ]
  },
  {
   "cell_type": "code",
   "execution_count": 24,
   "metadata": {},
   "outputs": [
    {
     "ename": "AttributeError",
     "evalue": "'ToyataCar' object has no attribute 'type'",
     "output_type": "error",
     "traceback": [
      "\u001b[1;31m---------------------------------------------------------------------------\u001b[0m",
      "\u001b[1;31mAttributeError\u001b[0m                            Traceback (most recent call last)",
      "Cell \u001b[1;32mIn[24], line 1\u001b[0m\n\u001b[1;32m----> 1\u001b[0m car1\u001b[38;5;241m.\u001b[39mtype\n",
      "\u001b[1;31mAttributeError\u001b[0m: 'ToyataCar' object has no attribute 'type'"
     ]
    }
   ],
   "source": [
    "car1.type"
   ]
  },
  {
   "cell_type": "code",
   "execution_count": 1,
   "metadata": {},
   "outputs": [],
   "source": [
    "class Car:\n",
    "    def __init__(self,type):\n",
    "        self.type = type\n",
    "\n",
    "    @staticmethod\n",
    "    def start():\n",
    "        print(\"Car started\")\n",
    "\n",
    "    @staticmethod\n",
    "    def stopped():\n",
    "        print(\"Car stopped\")\n",
    "\n",
    "    def ApplyBreak(self):\n",
    "        print(\"Breaks are applied\")\n",
    "    \n",
    "    \n",
    "\n",
    "class ToyataCar(Car):\n",
    "    def __init__(self,name,type):\n",
    "        super().__init__(type)\n",
    "        self.name = name\n",
    "        \n",
    "\n",
    "car1 = ToyataCar(\"Fortuner\", \"Electric\")\n",
    "car2 = ToyataCar(\"Corola\", \"Electric\")"
   ]
  },
  {
   "cell_type": "code",
   "execution_count": 2,
   "metadata": {},
   "outputs": [
    {
     "data": {
      "text/plain": [
       "'Electric'"
      ]
     },
     "execution_count": 2,
     "metadata": {},
     "output_type": "execute_result"
    }
   ],
   "source": [
    "car1.type"
   ]
  },
  {
   "cell_type": "code",
   "execution_count": 43,
   "metadata": {},
   "outputs": [
    {
     "name": "stdout",
     "output_type": "stream",
     "text": [
      "Car started\n"
     ]
    }
   ],
   "source": [
    "car1.start()"
   ]
  },
  {
   "cell_type": "code",
   "execution_count": 44,
   "metadata": {},
   "outputs": [
    {
     "name": "stdout",
     "output_type": "stream",
     "text": [
      "Car stopped\n"
     ]
    }
   ],
   "source": [
    "car2.stopped()"
   ]
  },
  {
   "cell_type": "code",
   "execution_count": 45,
   "metadata": {},
   "outputs": [
    {
     "name": "stdout",
     "output_type": "stream",
     "text": [
      "Breaks are applied\n"
     ]
    }
   ],
   "source": [
    "car1.ApplyBreak()"
   ]
  },
  {
   "cell_type": "markdown",
   "metadata": {},
   "source": [
    "# Changing class attributes"
   ]
  },
  {
   "cell_type": "code",
   "execution_count": 25,
   "metadata": {},
   "outputs": [
    {
     "data": {
      "text/plain": [
       "'Anonymous'"
      ]
     },
     "execution_count": 25,
     "metadata": {},
     "output_type": "execute_result"
    }
   ],
   "source": [
    "class Person:\n",
    "    name = \"Anonymous\"            # clsss attributes\n",
    "\n",
    "    def ChangeName(self,name):\n",
    "        self.name = name\n",
    "\n",
    "p1 = Person()\n",
    "\n",
    "p1.name\n"
   ]
  },
  {
   "cell_type": "code",
   "execution_count": 26,
   "metadata": {},
   "outputs": [
    {
     "data": {
      "text/plain": [
       "'Majid Ali'"
      ]
     },
     "execution_count": 26,
     "metadata": {},
     "output_type": "execute_result"
    }
   ],
   "source": [
    "p1.ChangeName(\"Majid Ali\")\n",
    "p1.name"
   ]
  },
  {
   "cell_type": "code",
   "execution_count": 27,
   "metadata": {},
   "outputs": [
    {
     "data": {
      "text/plain": [
       "'Anonymous'"
      ]
     },
     "execution_count": 27,
     "metadata": {},
     "output_type": "execute_result"
    }
   ],
   "source": [
    "Person.name"
   ]
  },
  {
   "cell_type": "code",
   "execution_count": 10,
   "metadata": {},
   "outputs": [],
   "source": [
    "class Person:\n",
    "    name = \"Anonymous\"            # clsss attributes\n",
    "\n",
    "    def ChangeName(self,name):\n",
    "        Person.name = name\n",
    "\n",
    "p1 = Person()\n",
    "p1.ChangeName(\"Majid Ali\")\n"
   ]
  },
  {
   "cell_type": "code",
   "execution_count": 11,
   "metadata": {},
   "outputs": [
    {
     "name": "stdout",
     "output_type": "stream",
     "text": [
      "Majid Ali\n",
      "Majid Ali\n"
     ]
    }
   ],
   "source": [
    "print(p1.name)\n",
    "print(Person.name)"
   ]
  },
  {
   "cell_type": "code",
   "execution_count": 30,
   "metadata": {},
   "outputs": [],
   "source": [
    "class Person:\n",
    "    name = \"Anonymous\"            # clsss attributes\n",
    "\n",
    "    def ChangeName(self,name):\n",
    "        self.__class__.name = name\n",
    "\n",
    "p1 = Person()\n",
    "p1.ChangeName(\"Majid Ali\")"
   ]
  },
  {
   "cell_type": "code",
   "execution_count": 31,
   "metadata": {},
   "outputs": [
    {
     "name": "stdout",
     "output_type": "stream",
     "text": [
      "Majid Ali\n",
      "Majid Ali\n"
     ]
    }
   ],
   "source": [
    "print(p1.name)\n",
    "print(Person.name)"
   ]
  },
  {
   "cell_type": "code",
   "execution_count": 32,
   "metadata": {},
   "outputs": [],
   "source": [
    "class Person:\n",
    "    name = \"Anonymous\"            # clsss attributes\n",
    "\n",
    "    @classmethod\n",
    "    def ChangeName(cls,name):\n",
    "        cls.name = name\n",
    "\n",
    "p1 = Person()\n",
    "\n",
    "p1.ChangeName(\"Majid Ali\")"
   ]
  },
  {
   "cell_type": "code",
   "execution_count": 33,
   "metadata": {},
   "outputs": [
    {
     "name": "stdout",
     "output_type": "stream",
     "text": [
      "Majid Ali\n",
      "Majid Ali\n"
     ]
    }
   ],
   "source": [
    "print(p1.name)\n",
    "print(Person.name)"
   ]
  },
  {
   "cell_type": "code",
   "execution_count": 34,
   "metadata": {},
   "outputs": [],
   "source": [
    "class Student:\n",
    "    def __init__(self,phy, che, math):\n",
    "        self.phy = phy\n",
    "        self.che = che\n",
    "        self.math = math\n",
    "        self.percentage = str((self.phy + self.che + self.phy) / 3) + \"%\"\n",
    "\n",
    "stu1 = Student(98,97,99)\n"
   ]
  },
  {
   "cell_type": "code",
   "execution_count": 35,
   "metadata": {},
   "outputs": [
    {
     "data": {
      "text/plain": [
       "'97.66666666666667%'"
      ]
     },
     "execution_count": 35,
     "metadata": {},
     "output_type": "execute_result"
    }
   ],
   "source": [
    "stu1.percentage"
   ]
  },
  {
   "cell_type": "code",
   "execution_count": 36,
   "metadata": {},
   "outputs": [],
   "source": [
    "stu1.phy = 86"
   ]
  },
  {
   "cell_type": "code",
   "execution_count": 37,
   "metadata": {},
   "outputs": [
    {
     "name": "stdout",
     "output_type": "stream",
     "text": [
      "97.66666666666667%\n",
      "86\n"
     ]
    }
   ],
   "source": [
    "print(stu1.percentage)\n",
    "print(stu1.phy)"
   ]
  },
  {
   "cell_type": "markdown",
   "metadata": {},
   "source": [
    "# Solutions:\n",
    "\n",
    "\n",
    "The reason the percentage attribute does not change after you modify the phy marks is because the percentage is calculated once during the initialization of the Student object and is not recalculated when the marks change. To make it dynamically update, you need to calculate the percentage each time you access it."
   ]
  },
  {
   "cell_type": "code",
   "execution_count": 41,
   "metadata": {},
   "outputs": [
    {
     "name": "stdout",
     "output_type": "stream",
     "text": [
      "98.0%\n",
      "94.0%\n",
      "86\n"
     ]
    }
   ],
   "source": [
    "class Student:\n",
    "    def __init__(self, phy, che, math):\n",
    "        self.phy = phy\n",
    "        self.che = che\n",
    "        self.math = math\n",
    "\n",
    "    def calculate_percentage(self):\n",
    "        return str((self.phy + self.che + self.math) / 3) + \"%\"\n",
    "\n",
    "# Create an instance of Student\n",
    "stu1 = Student(98, 97, 99)\n",
    "\n",
    "# Calculate and print the initial percentage\n",
    "print(stu1.calculate_percentage())  # Output: \"98.0%\"\n",
    "\n",
    "# Change the physics marks\n",
    "stu1.phy = 86\n",
    "\n",
    "# Calculate and print the updated percentage\n",
    "print(stu1.calculate_percentage())  # Output: \"94.0%\"\n",
    "\n",
    "# Print the updated physics marks\n",
    "print(stu1.phy)  # Output: 86\n"
   ]
  },
  {
   "cell_type": "code",
   "execution_count": 38,
   "metadata": {},
   "outputs": [],
   "source": [
    "#   Sloutions:\n",
    "\n",
    "\n",
    "class Student:\n",
    "    def __init__(self,phy, che, math):\n",
    "        self.phy = phy\n",
    "        self.che = che\n",
    "        self.math = math\n",
    "        self.percentage = str((self.phy + self.che + self.phy) / 3) + \"%\"\n",
    "\n",
    "    def CalcPercentage(self):\n",
    "        self.percentage = str((self.phy + self.che + self.phy) / 3) + \"%\"\n",
    "\n",
    "\n",
    "stu1 = Student(98,97,99)"
   ]
  },
  {
   "cell_type": "code",
   "execution_count": 39,
   "metadata": {},
   "outputs": [],
   "source": [
    "stu1.phy = 86"
   ]
  },
  {
   "cell_type": "code",
   "execution_count": 40,
   "metadata": {},
   "outputs": [
    {
     "name": "stdout",
     "output_type": "stream",
     "text": [
      "86\n",
      "89.66666666666667%\n"
     ]
    }
   ],
   "source": [
    "print(stu1.phy)\n",
    "stu1.CalcPercentage()\n",
    "print(stu1.percentage)"
   ]
  },
  {
   "cell_type": "code",
   "execution_count": 1,
   "metadata": {},
   "outputs": [],
   "source": [
    "#   Sloutions:\n",
    "\n",
    "\n",
    "class Student:\n",
    "    def __init__(self,phy, che, math):\n",
    "        self.phy = phy\n",
    "        self.che = che\n",
    "        self.math = math\n",
    "\n",
    "    @property\n",
    "    def percentage(self):\n",
    "        return str((self.phy + self.che + self.phy) / 3) + \"%\"\n",
    "\n",
    "\n",
    "stu1 = Student(98,97,99)"
   ]
  },
  {
   "cell_type": "code",
   "execution_count": 27,
   "metadata": {},
   "outputs": [],
   "source": [
    "stu1.phy = 86"
   ]
  },
  {
   "cell_type": "code",
   "execution_count": 2,
   "metadata": {},
   "outputs": [
    {
     "name": "stdout",
     "output_type": "stream",
     "text": [
      "98\n",
      "97.66666666666667%\n"
     ]
    }
   ],
   "source": [
    "print(stu1.phy)\n",
    "\n",
    "print(stu1.percentage)"
   ]
  },
  {
   "cell_type": "markdown",
   "metadata": {},
   "source": [
    "# Polymorphism"
   ]
  },
  {
   "cell_type": "code",
   "execution_count": 12,
   "metadata": {},
   "outputs": [],
   "source": [
    "class Complex:\n",
    "    def __init__(self,real,img):\n",
    "        self.real = real\n",
    "        self.img = img\n",
    "\n",
    "    def ShowNumber(self):\n",
    "        print(f\"{self.real}i + {self.img}j\")\n",
    "\n",
    "num1 = Complex(4,5)\n",
    "num2 = Complex(1,3)\n",
    "        "
   ]
  },
  {
   "cell_type": "code",
   "execution_count": 15,
   "metadata": {},
   "outputs": [
    {
     "name": "stdout",
     "output_type": "stream",
     "text": [
      "4i + 5j\n",
      "1i + 3j\n"
     ]
    }
   ],
   "source": [
    "num1.ShowNumber()\n",
    "num2.ShowNumber()"
   ]
  },
  {
   "cell_type": "code",
   "execution_count": 21,
   "metadata": {},
   "outputs": [
    {
     "name": "stdout",
     "output_type": "stream",
     "text": [
      "1i + 3j\n",
      "3i + 4j\n",
      "4i + 7j\n"
     ]
    }
   ],
   "source": [
    "class Complex:\n",
    "    def __init__(self,real,img):\n",
    "        self.real = real\n",
    "        self.img = img\n",
    "\n",
    "    def ShowNumber(self):\n",
    "        print(f\"{self.real}i + {self.img}j\")\n",
    "\n",
    "    def add(self,num2):\n",
    "       newReal = self.real + num2.real\n",
    "       newImg = self.img + num2.img\n",
    "       return Complex(newReal , newImg)\n",
    "\n",
    "num1 = Complex(1,3)\n",
    "num1.ShowNumber()\n",
    "\n",
    "num2 = Complex(3,4)\n",
    "num2.ShowNumber()\n",
    "\n",
    "num3 = num1.add(num2)\n",
    "num3.ShowNumber()\n"
   ]
  },
  {
   "cell_type": "code",
   "execution_count": 28,
   "metadata": {},
   "outputs": [
    {
     "name": "stdout",
     "output_type": "stream",
     "text": [
      "1i + 3j\n",
      "3i + 4j\n",
      "4i + 7j\n"
     ]
    }
   ],
   "source": [
    "class Complex:\n",
    "    def __init__(self,real,img):\n",
    "        self.real = real\n",
    "        self.img = img\n",
    "\n",
    "    def ShowNumber(self):\n",
    "        print(f\"{self.real}i + {self.img}j\")\n",
    "\n",
    "    def add(self, num1, num2):\n",
    "       newReal = num1.real + num2.real\n",
    "       newImg = num1.img + num2.img\n",
    "       return Complex(newReal , newImg)\n",
    "       \n",
    "\n",
    "num1 = Complex(1,3)\n",
    "num1.ShowNumber()\n",
    "\n",
    "num2 = Complex(3,4)\n",
    "num2.ShowNumber()\n",
    "\n",
    "# num3 = num1.add(num1,num2) \n",
    "num3 = num2 .add(num1, num2)\n",
    "\n",
    "num3.ShowNumber()\n"
   ]
  },
  {
   "cell_type": "code",
   "execution_count": 42,
   "metadata": {},
   "outputs": [
    {
     "name": "stdout",
     "output_type": "stream",
     "text": [
      "1i + 3j\n",
      "3i + 4j\n",
      "4i + 7j\n"
     ]
    }
   ],
   "source": [
    "class Complex:\n",
    "    def __init__(self,real,img):\n",
    "        self.real = real\n",
    "        self.img = img\n",
    "\n",
    "    def ShowNumber(self):\n",
    "        print(f\"{self.real}i + {self.img}j\")\n",
    "\n",
    "    def __add__(num1, num2):   # dunder function\n",
    "       newReal = num1.real + num2.real\n",
    "       newImg = num1.img + num2.img\n",
    "       return Complex(newReal , newImg)\n",
    "       \n",
    "\n",
    "num1 = Complex(1,3)\n",
    "num1.ShowNumber()\n",
    "\n",
    "num2 = Complex(3,4)\n",
    "num2.ShowNumber()\n",
    "\n",
    "num3 = num1 + num2 \n",
    "\n",
    "num3.ShowNumber()"
   ]
  },
  {
   "cell_type": "code",
   "execution_count": 45,
   "metadata": {},
   "outputs": [
    {
     "name": "stdout",
     "output_type": "stream",
     "text": [
      "1i + 3j\n",
      "3i + 4j\n",
      "4i + 7j\n"
     ]
    }
   ],
   "source": [
    "class Complex:\n",
    "    def __init__(self,real,img):\n",
    "        self.real = real\n",
    "        self.img = img\n",
    "\n",
    "    def ShowNumber(self):\n",
    "        print(f\"{self.real}i + {self.img}j\")\n",
    "\n",
    "    def __add__(self,num2):              #    dunder function\n",
    "       newReal = self.real + num2.real\n",
    "       newImg = self.img + num2.img\n",
    "       return Complex(newReal , newImg)\n",
    "\n",
    "num1 = Complex(1,3)\n",
    "num1.ShowNumber()\n",
    "\n",
    "num2 = Complex(3,4)\n",
    "num2.ShowNumber()\n",
    "\n",
    "num3 = num1 + num2\n",
    "\n",
    "num3.ShowNumber()"
   ]
  },
  {
   "cell_type": "code",
   "execution_count": 2,
   "metadata": {},
   "outputs": [
    {
     "name": "stdout",
     "output_type": "stream",
     "text": [
      "1i + 3j\n",
      "3i + 4j\n",
      "-2i + -1j\n"
     ]
    }
   ],
   "source": [
    "class Complex:\n",
    "    def __init__(self,real,img):\n",
    "        self.real = real\n",
    "        self.img = img\n",
    "\n",
    "    def ShowNumber(self):\n",
    "        print(f\"{self.real}i + {self.img}j\")\n",
    "\n",
    "    def __sub__(self,num2):\n",
    "       newReal = self.real - num2.real\n",
    "       newImg = self.img - num2.img\n",
    "       return Complex(newReal , newImg)\n",
    "\n",
    "num1 = Complex(1,3)\n",
    "num1.ShowNumber()\n",
    "\n",
    "num2 = Complex(3,4)\n",
    "num2.ShowNumber()\n",
    "\n",
    "num3 = num1 - num2\n",
    "\n",
    "num3.ShowNumber()"
   ]
  },
  {
   "cell_type": "code",
   "execution_count": 37,
   "metadata": {},
   "outputs": [
    {
     "name": "stdout",
     "output_type": "stream",
     "text": [
      "616.0\n",
      "88.0\n"
     ]
    }
   ],
   "source": [
    "class Circle:\n",
    "    def __init__(self,radius):\n",
    "        self.radius = radius\n",
    "\n",
    "    def Area(self):\n",
    "        return (22/7) * self.radius**2\n",
    "    \n",
    "    def Perimeter(self):\n",
    "        return 2 * (22/7) * self.radius\n",
    "    \n",
    "c1 = Circle(14)\n",
    "print(c1.Area())\n",
    "print(c1.Perimeter())"
   ]
  },
  {
   "cell_type": "code",
   "execution_count": 58,
   "metadata": {},
   "outputs": [],
   "source": [
    "class Order:\n",
    "    def __init__(self,item,price):\n",
    "        self.item = item\n",
    "        self.price = price\n",
    "\n",
    "    def __gt__(self,ord2):                # dunder function (custom greater-than comparison (__gt__) method)\n",
    "        return self.price > ord2.price\n",
    "    \n",
    "ord1 = Order(\"chips\", 20)\n",
    "ord2 = Order(\"tea\",150) "
   ]
  },
  {
   "cell_type": "code",
   "execution_count": 60,
   "metadata": {},
   "outputs": [
    {
     "name": "stdout",
     "output_type": "stream",
     "text": [
      "False\n",
      "True\n"
     ]
    }
   ],
   "source": [
    "print(ord1 > ord2)\n",
    "print(ord2>ord1)\n"
   ]
  },
  {
   "cell_type": "code",
   "execution_count": 49,
   "metadata": {},
   "outputs": [],
   "source": [
    "class Order:\n",
    "    def __init__(self,item,price):\n",
    "        self.item = item\n",
    "        self.price = price\n",
    "\n",
    "    def __gt__(ord1,ord2):                # dunder function\n",
    "        return ord1.price > ord2.price\n",
    "    \n",
    "ord1 = Order(\"chips\", 20)\n",
    "ord2 = Order(\"tea\",15) "
   ]
  },
  {
   "cell_type": "code",
   "execution_count": 50,
   "metadata": {},
   "outputs": [
    {
     "name": "stdout",
     "output_type": "stream",
     "text": [
      "True\n"
     ]
    }
   ],
   "source": [
    "print(ord1>ord2)"
   ]
  },
  {
   "cell_type": "code",
   "execution_count": 67,
   "metadata": {},
   "outputs": [
    {
     "name": "stdout",
     "output_type": "stream",
     "text": [
      "30\n"
     ]
    }
   ],
   "source": [
    "class Number:\n",
    "    def __init__(self, value):\n",
    "        self.value = value\n",
    "\n",
    "    def __add__(self, other):\n",
    "        return Number(self.value + other.value)\n",
    "\n",
    "    def __str__(self):\n",
    "        return str(self.value)\n",
    "\n",
    "num1 = Number(10)\n",
    "num2 = Number(20)\n",
    "result = num1 + num2\n",
    "print(result)  # Output: 30\n",
    "\n"
   ]
  },
  {
   "cell_type": "code",
   "execution_count": 2,
   "metadata": {},
   "outputs": [
    {
     "name": "stdout",
     "output_type": "stream",
     "text": [
      "Maji Ali\n",
      "Pakistan zinda bad\n"
     ]
    }
   ],
   "source": [
    "class xyz:\n",
    "    def __init__(self,name) -> None:\n",
    "        self.name = name\n",
    "\n",
    "    def __str__(self) -> str:\n",
    "        return f\"Pakistan zinda bad\"\n",
    "    \n",
    "\n",
    "a = xyz(\"Maji Ali\")\n",
    "\n",
    "print(a.name)\n",
    "\n",
    "print(a)"
   ]
  }
 ],
 "metadata": {
  "kernelspec": {
   "display_name": "python12",
   "language": "python",
   "name": "python3"
  },
  "language_info": {
   "codemirror_mode": {
    "name": "ipython",
    "version": 3
   },
   "file_extension": ".py",
   "mimetype": "text/x-python",
   "name": "python",
   "nbconvert_exporter": "python",
   "pygments_lexer": "ipython3",
   "version": "3.12.2"
  }
 },
 "nbformat": 4,
 "nbformat_minor": 2
}
