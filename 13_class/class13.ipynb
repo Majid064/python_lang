{
 "cells": [
  {
   "cell_type": "markdown",
   "metadata": {},
   "source": [
    "## OOP\n",
    "\n",
    "* class\n",
    "    * method\n",
    "        * first argument must be additional variable(self , this, or anything else )\n",
    "    * attribute\n",
    "        * connect with individual object\n",
    "    * class variables\n",
    "        * this value is used for all objects\n",
    "            * ClassName.class_variable\n",
    "            * object_name.class_variable\n",
    "        '''\n",
    "        * class ClassName():\n",
    "            class_variable : str = value\n",
    "        '''    \n",
    "    * constructor\n",
    "        * def '''__init__(self,arg1,arg2,..)'''\n",
    "\n",
    "# Syntax of class\n",
    "\n",
    "'''\n",
    "class ClassName():\n",
    "   pass\n",
    "'''"
   ]
  },
  {
   "cell_type": "code",
   "execution_count": 1,
   "metadata": {},
   "outputs": [],
   "source": [
    "class Teacher():\n",
    "    def __init__(self,teacher_name : str, teacher_id :int) -> None:   # method/constructor\n",
    "        self.name : str = teacher_name\n",
    "        self.teacher_id : int = teacher_id\n",
    "        self.organization : str = \"PIAIC\"\n",
    "\n",
    "    def speak(self,words:str) -> None:                 # method\n",
    "        print(f\"{self.name} is speaking {words}\")\n",
    "\n",
    "    def teaching(self, subject:str) -> None:           # method\n",
    "        print(f\"{self.name} teaches {subject}\")"
   ]
  },
  {
   "cell_type": "code",
   "execution_count": 2,
   "metadata": {},
   "outputs": [],
   "source": [
    "obj1 :Teacher = Teacher(\"Sir Zia\",1)   # iniatialize object-> calling constructor method only this\n",
    "# obj1 = object, intstance of teacher class\n",
    "\n",
    "obj2 : Teacher = Teacher(\"Sir Qasim\",2)"
   ]
  },
  {
   "cell_type": "code",
   "execution_count": 3,
   "metadata": {},
   "outputs": [
    {
     "name": "stdout",
     "output_type": "stream",
     "text": [
      "Sir Zia\n",
      "1\n",
      "PIAIC\n",
      "Sir Qasim\n",
      "2\n",
      "PIAIC\n"
     ]
    }
   ],
   "source": [
    "print(obj1.name)\n",
    "print(obj1.teacher_id)\n",
    "print(obj1.organization)\n",
    "\n",
    "print(obj2.name)\n",
    "print(obj2.teacher_id)\n",
    "print(obj2.organization)"
   ]
  },
  {
   "cell_type": "code",
   "execution_count": 5,
   "metadata": {},
   "outputs": [
    {
     "name": "stdout",
     "output_type": "stream",
     "text": [
      "Sir Zia teaches Physics\n"
     ]
    }
   ],
   "source": [
    "obj1.teaching(\"Physics\")"
   ]
  },
  {
   "cell_type": "code",
   "execution_count": 15,
   "metadata": {},
   "outputs": [
    {
     "name": "stdout",
     "output_type": "stream",
     "text": [
      "Sir Qasim teaches AI\n"
     ]
    }
   ],
   "source": [
    "obj2.teaching(\"AI\")"
   ]
  },
  {
   "cell_type": "code",
   "execution_count": 6,
   "metadata": {},
   "outputs": [],
   "source": [
    "class Teacher():\n",
    "    def __init__(this,teacher_name : str, teacher_id :int) -> None:   # method/constructor\n",
    "        this.name = teacher_name\n",
    "        this.teacher_id = teacher_id\n",
    "        this.organization = \"PIAIC\"\n",
    "\n",
    "    def speak(this,words:str) -> None:                 # method\n",
    "        print(f\"{this.name} is speaking {words}\")\n",
    "\n",
    "    def teaching(this, subject:str) -> None:           # method\n",
    "        print(f\"{this.name} teaches {subject}\")\n",
    "\n",
    "obj1 :Teacher = Teacher(\"Sir Zia\",1)\n",
    "obj2 : Teacher = Teacher(\"Sir Qasim\",2)"
   ]
  },
  {
   "cell_type": "code",
   "execution_count": 7,
   "metadata": {},
   "outputs": [
    {
     "data": {
      "text/plain": [
       "'PIAIC'"
      ]
     },
     "execution_count": 7,
     "metadata": {},
     "output_type": "execute_result"
    }
   ],
   "source": [
    "obj1.organization"
   ]
  },
  {
   "cell_type": "markdown",
   "metadata": {},
   "source": [
    "# Class Variable"
   ]
  },
  {
   "cell_type": "code",
   "execution_count": 22,
   "metadata": {},
   "outputs": [],
   "source": [
    "class Teacher():\n",
    "    counter : int = 1    # class varible1 / static variable\n",
    "    help_line_number : str = \"03226519708\"       # class variable2 / static variable\n",
    "    \n",
    "    def __init__(self,teacher_name : str, teacher_id :int) -> None:   # method/constructor\n",
    "        self.name : str = teacher_name\n",
    "        self.teacher_id : int = teacher_id\n",
    "        self.organization : str = \"PIAIC\"\n",
    "        Teacher.counter +=1\n",
    "\n",
    "    def speak(self,words:str) -> None:                 # method\n",
    "        print(f\"{self.name} is speaking {words}\")\n",
    "\n",
    "    def teaching(self, subject:str) -> None:           # method\n",
    "        print(f\"{self.name} teaches {subject}\")\n",
    "\n",
    "    def details(self) -> None:\n",
    "        information : str = f'''\n",
    "Teacher name is {self.name}\n",
    "Our help line number is {self.help_line_number}\n",
    "'''\n",
    "        print(information)\n",
    "\n",
    "obj1 :Teacher = Teacher(\"Sir Zia\",1)\n",
    "obj2 : Teacher = Teacher(\"Sir Qasim\",2)     \n",
    "\n",
    "obj3 : Teacher = Teacher(\"Majid\",3)"
   ]
  },
  {
   "cell_type": "code",
   "execution_count": 26,
   "metadata": {},
   "outputs": [
    {
     "name": "stdout",
     "output_type": "stream",
     "text": [
      "4\n",
      "4\n",
      "4\n",
      "03226519708\n",
      "03226519708\n",
      "03226519708\n",
      "Majid is speaking I can write code in python\n",
      "\n",
      "Teacher name is Sir Zia\n",
      "Our help line number is 03226519708\n",
      "\n"
     ]
    }
   ],
   "source": [
    "print(obj1.counter)\n",
    "print(obj2.counter)\n",
    "print(Teacher.counter)\n",
    "\n",
    "print(obj1.help_line_number)\n",
    "print(obj2.help_line_number)\n",
    "print(Teacher.help_line_number)\n",
    "\n",
    "obj3.speak(\"I can write code in python\")\n",
    "\n",
    "obj1.details()"
   ]
  },
  {
   "cell_type": "markdown",
   "metadata": {},
   "source": [
    "# 1. Inheritance\n",
    "class ChileClass(ParentClass):\n",
    "    pass"
   ]
  },
  {
   "cell_type": "code",
   "execution_count": 27,
   "metadata": {},
   "outputs": [
    {
     "name": "stdout",
     "output_type": "stream",
     "text": [
      "Black\n",
      "Brown\n",
      "Praent method speak: \"I am learning python\"\n",
      "you are looking TV\n",
      "=====Child class=====\n",
      "Black\n",
      "Brown\n",
      "Praent method speak: \"I am learning python\"\n",
      "you are looking TV\n"
     ]
    }
   ],
   "source": [
    "class Parents():\n",
    "    def __init__(self) -> None:\n",
    "        self.eye_color :str = \"Black\"\n",
    "        self.hair_color :str = \"Brown\"\n",
    "\n",
    "    def speak(self,words:str) -> None:\n",
    "        print(f\"Praent method speak: \\\"{words}\\\"\")\n",
    "\n",
    "    def watching(self, object_name:str) -> None:\n",
    "        print(f\"you are looking {object_name}\")   \n",
    "\n",
    "class Child (Parents):\n",
    "    pass\n",
    "\n",
    "\n",
    "obj1 : Parents = Parents()\n",
    "\n",
    "print(obj1.eye_color)\n",
    "print(obj1.hair_color)\n",
    "obj1.speak(\"I am learning python\")\n",
    "obj1.watching(\"TV\")\n",
    "\n",
    "print(\"=====Child class=====\")\n",
    "\n",
    "# Child object\n",
    "\n",
    "obj2 : Child = Child()\n",
    "\n",
    "print(obj2.eye_color)\n",
    "print(obj2.hair_color)\n",
    "obj2.speak(\"I am learning python\")\n",
    "obj2.watching(\"TV\")\n",
    "\n",
    "\n",
    "        "
   ]
  },
  {
   "cell_type": "code",
   "execution_count": 28,
   "metadata": {},
   "outputs": [
    {
     "name": "stdout",
     "output_type": "stream",
     "text": [
      "Black\n",
      "Brown\n",
      "Praent method speak: \"I am learning python\"\n",
      "you are looking TV\n",
      "=====Child class=====\n",
      "Black\n",
      "Brown\n",
      "Praent method speak: \"I am learning python\"\n",
      "you are looking TV\n",
      "Child method for teaching: Generative AI\n"
     ]
    }
   ],
   "source": [
    "class Parents():\n",
    "    def __init__(self) -> None:\n",
    "        self.eye_color :str = \"Black\"\n",
    "        self.hair_color :str = \"Brown\"\n",
    "\n",
    "    def speak(self,words:str) -> None:\n",
    "        print(f\"Praent method speak: \\\"{words}\\\"\")\n",
    "\n",
    "    def watching(self, object_name:str) -> None:\n",
    "        print(f\"you are looking {object_name}\")   \n",
    "\n",
    "class Child (Parents):\n",
    "    def teaching(self, subject : str = None) -> None:\n",
    "        print(f\"Child method for teaching: {subject}\")\n",
    "\n",
    "\n",
    "obj1 : Parents = Parents()\n",
    "\n",
    "print(obj1.eye_color)\n",
    "print(obj1.hair_color)\n",
    "obj1.speak(\"I am learning python\")\n",
    "obj1.watching(\"TV\")\n",
    "\n",
    "print(\"=====Child class=====\")\n",
    "\n",
    "# Child object\n",
    "\n",
    "obj2 : Child = Child()\n",
    "\n",
    "print(obj2.eye_color)\n",
    "print(obj2.hair_color)\n",
    "obj2.speak(\"I am learning python\")\n",
    "obj2.watching(\"TV\")\n",
    "\n",
    "obj2.teaching(\"Generative AI\")"
   ]
  },
  {
   "cell_type": "code",
   "execution_count": 30,
   "metadata": {},
   "outputs": [
    {
     "name": "stdout",
     "output_type": "stream",
     "text": [
      "Animation Artist\n",
      "['python']\n",
      "Master\n",
      "Majid Ali\n",
      "Majid Ali\n"
     ]
    }
   ],
   "source": [
    "from typing import List\n",
    "\n",
    "class Employee:\n",
    "    def __init__(self, name: str) -> None:\n",
    "        self.name: str = \"Majid Ali\"\n",
    "        self.education: str = \"Master\"\n",
    "        self.department: str = \"Bcom\"\n",
    "\n",
    "class Designer(Employee):\n",
    "    def __init__(self, title: str, name: str) -> None:\n",
    "        super().__init__(name)\n",
    "        self.title: str = title\n",
    "\n",
    "class Developer(Employee):\n",
    "    def __init__(self, title: str, name: str) -> None:\n",
    "        super().__init__(name)\n",
    "        self.title: str = title\n",
    "        self.programming_skills: List[str] = [\"python\"]\n",
    "\n",
    "designer1: Designer = Designer(\"Animation Artist\",\"Aslam\")\n",
    "dev1: Developer = Developer(\"GenAI Engineer\", \"John Doe\")\n",
    "\n",
    "print(designer1.title)  # Output: Animation Artist\n",
    "print(dev1.programming_skills)  # Output: ['python']\n",
    "\n",
    "print(designer1.education)\n",
    "print(designer1.name)\n",
    "\n",
    "print(dev1.name)"
   ]
  },
  {
   "cell_type": "code",
   "execution_count": 32,
   "metadata": {},
   "outputs": [
    {
     "name": "stdout",
     "output_type": "stream",
     "text": [
      "Animation Artist\n",
      "['python']\n",
      "Asif Khan\n"
     ]
    }
   ],
   "source": [
    "from typing import List\n",
    "\n",
    "class Employee:\n",
    "    def __init__(self, name: str) -> None:\n",
    "        self.name: str = name\n",
    "        self.education: str = \"\"\n",
    "        self.department: str = \"\"\n",
    "\n",
    "class Designer(Employee):\n",
    "    def __init__(self, title: str, name: str) -> None:\n",
    "        super().__init__(name)\n",
    "        self.title: str = title\n",
    "\n",
    "class Developer(Employee):\n",
    "    def __init__(self, title: str, name: str) -> None:\n",
    "        super().__init__(name)\n",
    "        self.title: str = title\n",
    "        self.programming_skills: List[str] = [\"python\"]\n",
    "\n",
    "designer1: Designer = Designer(\"Animation Artist\", \"Asif Khan\")\n",
    "dev1: Developer = Developer(\"GenAI Engineer\", \"John Doe\")\n",
    "\n",
    "print(designer1.title)  # Output: Animation Artist\n",
    "print(dev1.programming_skills)  # Output: ['python']\n",
    "\n",
    "print(designer1.name)"
   ]
  },
  {
   "cell_type": "code",
   "execution_count": 33,
   "metadata": {},
   "outputs": [
    {
     "name": "stdout",
     "output_type": "stream",
     "text": [
      "Animation Artist\n",
      "Asif Khan\n",
      "Majid Ali\n",
      "['python']\n",
      "Advanced AI\n",
      "Advanced AI\n",
      "Robotics\n",
      "AI\n"
     ]
    }
   ],
   "source": [
    "class Employee():\n",
    "    def __init__(self, name:str) -> None:\n",
    "        self.name :str = name\n",
    "        self.education : str = \"Advanced AI\"\n",
    "        self.department : str = \"AI\"\n",
    "\n",
    "class Designer(Employee):\n",
    "    def __init__(self, title:str ,name : str) -> None:\n",
    "        super().__init__(name) \n",
    "        self.title : str = title  \n",
    "        self.department : str = \"Robotics\"     \n",
    "\n",
    "class Developer(Employee):\n",
    "    def __init__(self, title:str,name:str) -> None:\n",
    "        super().__init__(name)\n",
    "        self.title : str = title  \n",
    "        self.programming_list : list[str] = [\"python\"]       \n",
    "\n",
    "designer1 : Designer = Designer(\"Animation Artist\", \"Asif Khan\")\n",
    "\n",
    "dev1 : Developer = Developer(\"Web Developer\",\"Majid Ali\")\n",
    "\n",
    "\n",
    "print(designer1.title)\n",
    "print(designer1.name)\n",
    "\n",
    "print(dev1.name)\n",
    "\n",
    "print(dev1.programming_list)\n",
    "\n",
    "print(designer1.education)\n",
    "\n",
    "print(dev1.education)\n",
    "\n",
    "print(designer1.department)\n",
    "\n",
    "print(dev1.department)\n"
   ]
  },
  {
   "cell_type": "markdown",
   "metadata": {},
   "source": [
    "# 1. Encapsulation\n",
    "Encapsulation: The bundling of data with the methods that operate on that data. It restricts direct access to some of an object's components and can prevent the accidental modification of data.\n",
    "\n",
    "# 2. Abstraction\n",
    "Abstraction: The concept of hiding the complex reality while exposing only the necessary parts. It helps to reduce programming complexity and effort.\n",
    "\n",
    "# 3. Inheritance\n",
    "Inheritance: A mechanism wherein a new class inherits properties and behavior (methods) from another class. This helps to create a new class based on an existing class.\n",
    "\n",
    "# 4. Polymorphism\n",
    "Polymorphism: The ability of different classes to respond to the same message (method call) in different ways. This allows for code to work with objects of various classes as if they were objects of a common superclass."
   ]
  },
  {
   "cell_type": "markdown",
   "metadata": {},
   "source": []
  }
 ],
 "metadata": {
  "kernelspec": {
   "display_name": "python12",
   "language": "python",
   "name": "python3"
  },
  "language_info": {
   "codemirror_mode": {
    "name": "ipython",
    "version": 3
   },
   "file_extension": ".py",
   "mimetype": "text/x-python",
   "name": "python",
   "nbconvert_exporter": "python",
   "pygments_lexer": "ipython3",
   "version": "3.12.2"
  }
 },
 "nbformat": 4,
 "nbformat_minor": 2
}
