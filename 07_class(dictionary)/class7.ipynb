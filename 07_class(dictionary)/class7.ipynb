{
 "cells": [
  {
   "cell_type": "code",
   "execution_count": null,
   "metadata": {},
   "outputs": [],
   "source": [
    "#                        0                 1           2\n",
    "data : list[str] = [\"Muhammad Qasim\", \"Abu Bakr\", \"Engineering\"]"
   ]
  },
  {
   "cell_type": "markdown",
   "metadata": {},
   "source": [
    "# Dictionary\n",
    "\n",
    "* key : value  (items)\n",
    "    * key is the replacement of indexes\n",
    "    * value is the same as item in list"
   ]
  },
  {
   "cell_type": "code",
   "execution_count": 1,
   "metadata": {},
   "outputs": [
    {
     "data": {
      "text/plain": [
       "{'fname': 'Muhammad Qasim', 'name': 'Abu Bakr', 'Education': 'Engineering'}"
      ]
     },
     "metadata": {},
     "output_type": "display_data"
    }
   ],
   "source": [
    "from typing import Dict\n",
    "\n",
    "\n",
    "data : Dict[str,str] = {\"fname\" : \"Muhammad Qasim\",\n",
    "                        \"name\" : \"Abu Bakr\",\n",
    "                         \"Education\" :\"Engineering\"\n",
    "                         }\n",
    "\n",
    "display(data)"
   ]
  },
  {
   "cell_type": "code",
   "execution_count": 2,
   "metadata": {},
   "outputs": [
    {
     "name": "stdout",
     "output_type": "stream",
     "text": [
      "{'fname': 'Muhammad Qasim', 'name': 'Abu Bakr', 'Education': 'Engineering'}\n"
     ]
    }
   ],
   "source": [
    "print(data)"
   ]
  },
  {
   "cell_type": "code",
   "execution_count": 5,
   "metadata": {},
   "outputs": [
    {
     "data": {
      "text/plain": [
       "'Abu Bakr'"
      ]
     },
     "execution_count": 5,
     "metadata": {},
     "output_type": "execute_result"
    }
   ],
   "source": [
    "data['name']"
   ]
  },
  {
   "cell_type": "code",
   "execution_count": 9,
   "metadata": {},
   "outputs": [
    {
     "name": "stdout",
     "output_type": "stream",
     "text": [
      "{'Education': 'Engineering', 'fname': 'Muhammad Qasim', 'name': 'Abu Bakr'}\n"
     ]
    }
   ],
   "source": [
    "from typing import Dict\n",
    "import pprint             # pprint is used to show data more beautifully\n",
    "\n",
    "data : Dict[str,str] = {\"fname\" : \"Muhammad Qasim\",\n",
    "                        \"name\" : \"Abu Bakr\",\n",
    "                         \"Education\" :\"Engineering\"\n",
    "                         }\n",
    "\n",
    "pprint.pprint(data)"
   ]
  },
  {
   "cell_type": "code",
   "execution_count": 4,
   "metadata": {},
   "outputs": [
    {
     "name": "stdout",
     "output_type": "stream",
     "text": [
      "Sajid\n"
     ]
    },
    {
     "data": {
      "text/plain": [
       "{1, 3, 5, 6}"
      ]
     },
     "execution_count": 4,
     "metadata": {},
     "output_type": "execute_result"
    }
   ],
   "source": [
    "from typing import Dict, Union, Optional\n",
    "import pprint             # pprint is used to show data more beautifully\n",
    "\n",
    "Key = Union[int,str]\n",
    "Value = Union[int,str,list, dict, tuple,set]\n",
    "\n",
    "data : Dict[Key,Value] = {\"fname\" : \"Muhammad Qasim\",\n",
    "                        \"name\" : \"Abu Bakr\",\n",
    "                         \"Education\" :\"Engineering\", \n",
    "                         1: [\"Majid Ali\", 5, 6, True],\n",
    "                         'abc' : (1,2,5,8),\n",
    "                         'cde' : {'a': \"Majid\", 'b':\"Sajid\"},\n",
    "                         'dge' : {1,3,5,5,5,5,6}          # set return unique values, i.e {1,3,5,6}\n",
    "                         }\n",
    "\n",
    "\n",
    "print(data['cde']['b'])   # jupyter note book show the result of last line. while print() is mandatory for py file to show result\n",
    "data['dge']"
   ]
  },
  {
   "cell_type": "code",
   "execution_count": 11,
   "metadata": {},
   "outputs": [
    {
     "name": "stdout",
     "output_type": "stream",
     "text": [
      "{'Education': 'Engineering',\n",
      " 'fname': 'Muhammad Qasim',\n",
      " 'name': 'Abu Bakr',\n",
      " (1, 2, 3, 4): ['Majid Ali', 5, 6, True]}\n",
      "Engineering\n"
     ]
    }
   ],
   "source": [
    "from typing import Dict, Union, Optional\n",
    "import pprint             # pprint is used to show data more beautifully\n",
    "\n",
    "Key = Union[int,str,tuple]\n",
    "Value = Union[int,str,list, dict, tuple,set]\n",
    "\n",
    "data : Dict[Key,Value] = {\"fname\" : \"Muhammad Qasim\",\n",
    "                        \"name\" : \"Abu Bakr\",\n",
    "                         \"Education\" :\"Engineering\",\n",
    "                        #  [1,2,3]: [\"Majid Ali\", 5, 6, True]  # error (only hashable/immuteabe data type can beceme key)\n",
    "                         (1,2,3,4): [\"Majid Ali\", 5, 6, True]          # immuteable data type can become key\n",
    "                        #  {1,2,3}: [\"Majid Ali\", 5, 6, True]       # error\n",
    "\n",
    "                         }        # hashable mean immuteable data type like tuple\n",
    "\n",
    "pprint.pprint(data) \n",
    "\n",
    "print(data[\"Education\"])"
   ]
  },
  {
   "cell_type": "code",
   "execution_count": 12,
   "metadata": {},
   "outputs": [
    {
     "name": "stdout",
     "output_type": "stream",
     "text": [
      "{1, 2, 3, 4, 7, 10}\n"
     ]
    }
   ],
   "source": [
    "data : set = {7,1,4,4,4,4,2,3,10}\n",
    "\n",
    "print(data)"
   ]
  },
  {
   "cell_type": "code",
   "execution_count": 13,
   "metadata": {},
   "outputs": [
    {
     "data": {
      "text/plain": [
       "['add',\n",
       " 'clear',\n",
       " 'copy',\n",
       " 'difference',\n",
       " 'discard',\n",
       " 'intersection',\n",
       " 'isdisjoint',\n",
       " 'issubset',\n",
       " 'issuperset',\n",
       " 'pop',\n",
       " 'remove',\n",
       " 'union',\n",
       " 'update']"
      ]
     },
     "execution_count": 13,
     "metadata": {},
     "output_type": "execute_result"
    }
   ],
   "source": [
    "[i for i in dir(data) if \"_\" not in i]"
   ]
  },
  {
   "cell_type": "code",
   "execution_count": 27,
   "metadata": {},
   "outputs": [
    {
     "name": "stdout",
     "output_type": "stream",
     "text": [
      "{0, 2, 3, 6, 8, 9}\n",
      "[0, 2, 3, 6, 8, 9]\n"
     ]
    }
   ],
   "source": [
    "abc : set = {9,2,0,3,3,6,8}\n",
    "print(abc)\n",
    "\n",
    "xyz : list[int] = list(abc)          # type caste\n",
    "print(xyz)"
   ]
  },
  {
   "cell_type": "code",
   "execution_count": 17,
   "metadata": {},
   "outputs": [
    {
     "name": "stdout",
     "output_type": "stream",
     "text": [
      "{'name': 'Majid Ali', 'fname': 'Haji Muneer Ahmed', 'education': 'BSc Electrical Engineering'}\n"
     ]
    }
   ],
   "source": [
    "from typing import Dict, Union, Optional\n",
    "import pprint             # pprint is used to show data more beautifully\n",
    "\n",
    "Key = Union[int,str]\n",
    "Value = Union[int,str,list, dict, tuple,set]\n",
    "\n",
    "data : dict[Key,Value] =  {}\n",
    "\n",
    "data['name'] = \"Majid Ali\"\n",
    "data['fname'] = \"Haji Muneer Ahmed\"\n",
    "data['education'] = \"BSc Electrical Engineering\"\n",
    "\n",
    "print(data)"
   ]
  },
  {
   "cell_type": "code",
   "execution_count": 19,
   "metadata": {},
   "outputs": [
    {
     "name": "stdout",
     "output_type": "stream",
     "text": [
      "NA\n",
      "Abu Bakr\n",
      "['Majid Ali', 5, 6, True]\n"
     ]
    }
   ],
   "source": [
    "from typing import Dict, Union, Optional\n",
    "import pprint             # pprint is used to show data more beautifully\n",
    "\n",
    "Key = Union[int,str]\n",
    "Value = Union[int,str,list, dict, tuple,set]\n",
    "\n",
    "data : Dict[Key,Value] = {\"fname\" : \"Muhammad Qasim\",\n",
    "                        \"name\" : \"Abu Bakr\",\n",
    "                         \"Education\" :\"Engineering\",\n",
    "                         1: [\"Majid Ali\", 5, 6, True],\n",
    "                         'abc' : (1,2,5,8),\n",
    "                         'cde' : {'a': \"Majid\", 'b':\"Sajid\"},\n",
    "                         'dge' : {1,3,5,5,5,5}\n",
    "                         }\n",
    "\n",
    "\n",
    "#print(data[\"Pakistan\"])    # if we run this our program  crashed . to avoid this error we use get method\n",
    "\n",
    "print(data.get(\"Pakistan\",\"NA\"))\n",
    "print(data.get('name','NA'))\n",
    "print(data.get(1))\n",
    "print"
   ]
  },
  {
   "cell_type": "code",
   "execution_count": 32,
   "metadata": {},
   "outputs": [
    {
     "data": {
      "text/plain": [
       "['clear',\n",
       " 'copy',\n",
       " 'fromkeys',\n",
       " 'get',\n",
       " 'items',\n",
       " 'keys',\n",
       " 'pop',\n",
       " 'popitem',\n",
       " 'setdefault',\n",
       " 'update',\n",
       " 'values']"
      ]
     },
     "execution_count": 32,
     "metadata": {},
     "output_type": "execute_result"
    }
   ],
   "source": [
    "[i for i in dir(data) if \"_\" not in i]"
   ]
  },
  {
   "cell_type": "code",
   "execution_count": 20,
   "metadata": {},
   "outputs": [
    {
     "name": "stdout",
     "output_type": "stream",
     "text": [
      "fname\n",
      "name\n",
      "Education\n",
      "1\n",
      "abc\n",
      "cde\n",
      "dge\n"
     ]
    }
   ],
   "source": [
    "from typing import Dict, Union, Optional\n",
    "import pprint             # pprint is used to show data more beautifully\n",
    "\n",
    "Key = Union[int,str]\n",
    "Value = Union[int,str,list, dict, tuple,set]\n",
    "\n",
    "data : Dict[Key,Value] = {\"fname\" : \"Muhammad Qasim\",\n",
    "                        \"name\" : \"Abu Bakr\",\n",
    "                         \"Education\" :\"Engineering\",\n",
    "                         1: [\"Majid Ali\", 5, 6, True],\n",
    "                         'abc' : (1,2,5,8),\n",
    "                         'cde' : {'a': \"Majid\", 'b':\"Sajid\"},\n",
    "                         'dge' : {1,3,5,5,5,5}\n",
    "                         }\n",
    "\n",
    "for d in data:\n",
    "    print(d)  # returns keys"
   ]
  },
  {
   "cell_type": "code",
   "execution_count": 21,
   "metadata": {},
   "outputs": [
    {
     "name": "stdout",
     "output_type": "stream",
     "text": [
      "dict_keys(['fname', 'name', 'Education', 1, 'abc', 'cde', 'dge'])\n",
      "dict_values(['Muhammad Qasim', 'Abu Bakr', 'Engineering', ['Majid Ali', 5, 6, True], (1, 2, 5, 8), {'a': 'Majid', 'b': 'Sajid'}, {1, 3, 5}])\n",
      "dict_items([('fname', 'Muhammad Qasim'), ('name', 'Abu Bakr'), ('Education', 'Engineering'), (1, ['Majid Ali', 5, 6, True]), ('abc', (1, 2, 5, 8)), ('cde', {'a': 'Majid', 'b': 'Sajid'}), ('dge', {1, 3, 5})])\n"
     ]
    }
   ],
   "source": [
    "print(data.keys())\n",
    "print(data.values())\n",
    "print(data.items())"
   ]
  },
  {
   "cell_type": "code",
   "execution_count": 22,
   "metadata": {},
   "outputs": [
    {
     "name": "stdout",
     "output_type": "stream",
     "text": [
      "fname : Muhammad Qasim\n",
      "name : Abu Bakr\n",
      "Education : Engineering\n",
      "1 : ['Majid Ali', 5, 6, True]\n",
      "abc : (1, 2, 5, 8)\n",
      "cde : {'a': 'Majid', 'b': 'Sajid'}\n",
      "dge : {1, 3, 5}\n"
     ]
    }
   ],
   "source": [
    "for k in data.keys():\n",
    "    print(k , ':', data[k])\n"
   ]
  },
  {
   "cell_type": "code",
   "execution_count": 23,
   "metadata": {},
   "outputs": [
    {
     "name": "stdout",
     "output_type": "stream",
     "text": [
      "Muhammad Qasim\n",
      "Abu Bakr\n",
      "Engineering\n",
      "['Majid Ali', 5, 6, True]\n",
      "(1, 2, 5, 8)\n",
      "{'a': 'Majid', 'b': 'Sajid'}\n",
      "{1, 3, 5}\n"
     ]
    }
   ],
   "source": [
    "for v in data.values():\n",
    "    print(v)"
   ]
  },
  {
   "cell_type": "code",
   "execution_count": 24,
   "metadata": {},
   "outputs": [
    {
     "name": "stdout",
     "output_type": "stream",
     "text": [
      "fname : Muhammad Qasim\n",
      "name : Abu Bakr\n",
      "Education : Engineering\n",
      "1 : ['Majid Ali', 5, 6, True]\n",
      "abc : (1, 2, 5, 8)\n",
      "cde : {'a': 'Majid', 'b': 'Sajid'}\n",
      "dge : {1, 3, 5}\n"
     ]
    }
   ],
   "source": [
    "for k,v in data.items():\n",
    "    print(k,':',v)"
   ]
  },
  {
   "cell_type": "code",
   "execution_count": 27,
   "metadata": {},
   "outputs": [
    {
     "data": {
      "text/plain": [
       "{'fname': 'Muhammad Qasim',\n",
       " 'name': 'Abu Bakr',\n",
       " 'Education': 'Engineering',\n",
       " 1: ['Majid Ali', 5, 6, True],\n",
       " 'abc': (1, 2, 5, 8),\n",
       " 'cde': {'a': 'Majid', 'b': 'Sajid'},\n",
       " 'dge': {1, 3, 5}}"
      ]
     },
     "execution_count": 27,
     "metadata": {},
     "output_type": "execute_result"
    }
   ],
   "source": [
    "{k:v for k,v in data.items()}   # dictionary comprehensive"
   ]
  },
  {
   "cell_type": "code",
   "execution_count": 26,
   "metadata": {},
   "outputs": [
    {
     "ename": "TypeError",
     "evalue": "unhashable type: 'list'",
     "output_type": "error",
     "traceback": [
      "\u001b[1;31m---------------------------------------------------------------------------\u001b[0m",
      "\u001b[1;31mTypeError\u001b[0m                                 Traceback (most recent call last)",
      "Cell \u001b[1;32mIn[26], line 1\u001b[0m\n\u001b[1;32m----> 1\u001b[0m {v:k \u001b[38;5;28;01mfor\u001b[39;00m k,v \u001b[38;5;129;01min\u001b[39;00m data\u001b[38;5;241m.\u001b[39mitems()}\n",
      "\u001b[1;31mTypeError\u001b[0m: unhashable type: 'list'"
     ]
    }
   ],
   "source": [
    "{v:k for k,v in data.items()} "
   ]
  },
  {
   "cell_type": "code",
   "execution_count": 35,
   "metadata": {},
   "outputs": [
    {
     "name": "stdout",
     "output_type": "stream",
     "text": [
      "{'name': 'Majid', 'age': 29, 1: (1, 2, 3), (4, 5, 6): 25}\n"
     ]
    }
   ],
   "source": [
    "data1 = {\n",
    "    \"name\": \"Majid\",\n",
    "    \"age\": 29,\n",
    "    1 : (1,2,3),\n",
    "    (4,5,6): 25 ,\n",
    "    \n",
    "\n",
    "}\n",
    "\n",
    "print(data1)"
   ]
  },
  {
   "cell_type": "code",
   "execution_count": 36,
   "metadata": {},
   "outputs": [
    {
     "data": {
      "text/plain": [
       "{'name': 'Majid', 'age': 29, 1: (1, 2, 3), (4, 5, 6): 25}"
      ]
     },
     "execution_count": 36,
     "metadata": {},
     "output_type": "execute_result"
    }
   ],
   "source": [
    "{k:v for k,v in data1.items()} "
   ]
  },
  {
   "cell_type": "code",
   "execution_count": 37,
   "metadata": {},
   "outputs": [
    {
     "data": {
      "text/plain": [
       "{'Majid': 'name', 29: 'age', (1, 2, 3): 1, 25: (4, 5, 6)}"
      ]
     },
     "execution_count": 37,
     "metadata": {},
     "output_type": "execute_result"
    }
   ],
   "source": [
    "{v:k for k,v in data1.items()} "
   ]
  },
  {
   "cell_type": "code",
   "execution_count": 38,
   "metadata": {},
   "outputs": [],
   "source": [
    "from typing import Dict, Union, Optional\n",
    "import pprint             # pprint(pretty print) is used to show data more beautifully\n",
    "\n",
    "Key = Union[int,str]\n",
    "Value = Union[int,str,list, dict, tuple,set]\n",
    "\n",
    "data : Dict[Key,Value] = {\"fname\" : \"Muhammad Qasim\",\n",
    "                        \"name\" : \"Abu Bakr\",\n",
    "                         \"Education\" :\"Engineering\",\n",
    "                         1: [\"Majid Ali\", 5, 6, True],\n",
    "                         'abc' : (1,2,5,8),\n",
    "                         'cde' : {'a': \"Majid\", 'b':\"Sajid\"},\n",
    "                         'dge' : {1,3,5,5,5,5}\n",
    "                         }"
   ]
  },
  {
   "cell_type": "code",
   "execution_count": 39,
   "metadata": {},
   "outputs": [
    {
     "name": "stdout",
     "output_type": "stream",
     "text": [
      "9 7\n"
     ]
    }
   ],
   "source": [
    "a : int = 7\n",
    "b : int = 9\n",
    "\n",
    "a,b = b,a\n",
    "\n",
    "print(a,b)"
   ]
  },
  {
   "cell_type": "code",
   "execution_count": 40,
   "metadata": {},
   "outputs": [
    {
     "name": "stdout",
     "output_type": "stream",
     "text": [
      "world! hello\n"
     ]
    }
   ],
   "source": [
    "a : str = \"hello\"\n",
    "b : str = \"world!\"\n",
    "\n",
    "a,b = b,a\n",
    "\n",
    "print(a,b)"
   ]
  },
  {
   "cell_type": "code",
   "execution_count": 41,
   "metadata": {},
   "outputs": [
    {
     "name": "stdout",
     "output_type": "stream",
     "text": [
      "{}\n",
      "{'id': None, 'name': None, 'fname': None, 'course': None}\n"
     ]
    }
   ],
   "source": [
    "keys : list[str]  = ['id','name','fname','course']\n",
    "\n",
    "data : dict[Key, Value] ={}\n",
    "\n",
    "print(data)\n",
    "\n",
    "data = data.fromkeys(keys)    # inline operation\n",
    "\n",
    "print(data)"
   ]
  }
 ],
 "metadata": {
  "kernelspec": {
   "display_name": "python12",
   "language": "python",
   "name": "python3"
  },
  "language_info": {
   "codemirror_mode": {
    "name": "ipython",
    "version": 3
   },
   "file_extension": ".py",
   "mimetype": "text/x-python",
   "name": "python",
   "nbconvert_exporter": "python",
   "pygments_lexer": "ipython3",
   "version": "3.12.2"
  }
 },
 "nbformat": 4,
 "nbformat_minor": 2
}
