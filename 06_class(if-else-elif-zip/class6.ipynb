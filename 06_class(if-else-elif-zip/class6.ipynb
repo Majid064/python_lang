{
 "cells": [
  {
   "cell_type": "markdown",
   "id": "6bfbfdbf-bdd9-4a1b-89e2-8eb1cefabe65",
   "metadata": {},
   "source": [
    "# if_else_elif\n",
    "'''\n",
    "if logic:\n",
    "    True_block\n",
    "else:\n",
    "    False_block\n",
    "        \n",
    "'''\n",
    "\n",
    "## comprehensive if_else\n",
    "\n",
    "'''\n",
    " True_block if logic else False_block\n",
    "'''\n",
    "\n",
    "* if\n",
    "* if_else\n",
    "* if_elif_else "
   ]
  },
  {
   "cell_type": "code",
   "execution_count": 1,
   "id": "2bfd5040-f592-418c-b1f7-3fb05db1140e",
   "metadata": {},
   "outputs": [
    {
     "name": "stdout",
     "output_type": "stream",
     "text": [
      "Pakistan zinda bad\n"
     ]
    }
   ],
   "source": [
    "if True:\n",
    "    print(\"Pakistan zinda bad\")\n",
    "else:\n",
    "    print(\"Hello world!\")"
   ]
  },
  {
   "cell_type": "code",
   "execution_count": 1,
   "id": "a5fe2d46-e149-48ba-8248-f1fe59629a72",
   "metadata": {},
   "outputs": [
    {
     "name": "stdout",
     "output_type": "stream",
     "text": [
      "Hello world!\n"
     ]
    }
   ],
   "source": [
    "if False:\n",
    "    print(\"Pakistan zinda bad\")\n",
    "else:\n",
    "    print(\"Hello world!\")"
   ]
  },
  {
   "cell_type": "code",
   "execution_count": 5,
   "id": "8bd9c956",
   "metadata": {},
   "outputs": [
    {
     "name": "stdout",
     "output_type": "stream",
     "text": [
      "Pakistan zinda bad\n"
     ]
    }
   ],
   "source": [
    "print(\"Pakistan zinda bad\") if True else print(\"Hello world!\")   # in comprehensive style"
   ]
  },
  {
   "cell_type": "code",
   "execution_count": 2,
   "id": "44c8dc59",
   "metadata": {},
   "outputs": [
    {
     "name": "stdout",
     "output_type": "stream",
     "text": [
      "Hello world!\n"
     ]
    }
   ],
   "source": [
    "print(\"Pakistan zinda bad\") if False else print(\"Hello world!\") "
   ]
  },
  {
   "cell_type": "code",
   "execution_count": 7,
   "id": "af7be5ea",
   "metadata": {},
   "outputs": [
    {
     "name": "stdout",
     "output_type": "stream",
     "text": [
      "Ture block\n",
      "1\n",
      "2\n"
     ]
    }
   ],
   "source": [
    "if True:\n",
    "    print(\"Ture block\")\n",
    "print(1)\n",
    "print(2)    "
   ]
  },
  {
   "cell_type": "code",
   "execution_count": 8,
   "id": "07fbc0c8",
   "metadata": {},
   "outputs": [
    {
     "name": "stdout",
     "output_type": "stream",
     "text": [
      "1\n",
      "2\n"
     ]
    }
   ],
   "source": [
    "if False:\n",
    "    print(\"Ture block\")\n",
    "print(1)\n",
    "print(2)   "
   ]
  },
  {
   "cell_type": "code",
   "execution_count": 9,
   "id": "b0137309",
   "metadata": {},
   "outputs": [
    {
     "name": "stdout",
     "output_type": "stream",
     "text": [
      "True block\n"
     ]
    }
   ],
   "source": [
    "# chain1 run only one block\n",
    "\n",
    "if True:\n",
    "    print(\"True block\")\n",
    "elif False:\n",
    "    print(\"elif logic1\")\n",
    "elif False:\n",
    "    print(\"elif block2\")\n",
    "elif False:\n",
    "    print(\"elif block3\")\n",
    "else:\n",
    "    print(\"else block\")    "
   ]
  },
  {
   "cell_type": "code",
   "execution_count": 10,
   "id": "40f5aa1a",
   "metadata": {},
   "outputs": [
    {
     "name": "stdout",
     "output_type": "stream",
     "text": [
      "elif logic1\n"
     ]
    }
   ],
   "source": [
    "if False:\n",
    "    print(\"True block\")\n",
    "elif True:\n",
    "    print(\"elif logic1\")\n",
    "elif False:\n",
    "    print(\"elif block2\")\n",
    "elif False:\n",
    "    print(\"elif block3\")\n",
    "else:\n",
    "    print(\"else block\") "
   ]
  },
  {
   "cell_type": "code",
   "execution_count": 11,
   "id": "8618c75b",
   "metadata": {},
   "outputs": [
    {
     "name": "stdout",
     "output_type": "stream",
     "text": [
      "elif block2\n"
     ]
    }
   ],
   "source": [
    "if False:\n",
    "    print(\"True block\")\n",
    "elif False:\n",
    "    print(\"elif logic1\")\n",
    "elif True:\n",
    "    print(\"elif block2\")\n",
    "elif False:\n",
    "    print(\"elif block3\")\n",
    "else:\n",
    "    print(\"else block\") "
   ]
  },
  {
   "cell_type": "code",
   "execution_count": 12,
   "id": "12a8dbf7",
   "metadata": {},
   "outputs": [
    {
     "name": "stdout",
     "output_type": "stream",
     "text": [
      "elif block3\n"
     ]
    }
   ],
   "source": [
    "if False:\n",
    "    print(\"True block\")\n",
    "elif False:\n",
    "    print(\"elif logic1\")\n",
    "elif False:\n",
    "    print(\"elif block2\")\n",
    "elif True:\n",
    "    print(\"elif block3\")\n",
    "else:\n",
    "    print(\"else block\") "
   ]
  },
  {
   "cell_type": "code",
   "execution_count": 13,
   "id": "0fc73fb1",
   "metadata": {},
   "outputs": [
    {
     "name": "stdout",
     "output_type": "stream",
     "text": [
      "else block\n"
     ]
    }
   ],
   "source": [
    "if False:\n",
    "    print(\"True block\")\n",
    "elif False:\n",
    "    print(\"elif logic1\")\n",
    "elif False:\n",
    "    print(\"elif block2\")\n",
    "elif False:\n",
    "    print(\"elif block3\")\n",
    "else:\n",
    "    print(\"else block\") "
   ]
  },
  {
   "cell_type": "code",
   "execution_count": 14,
   "id": "493327fd",
   "metadata": {},
   "outputs": [
    {
     "name": "stdout",
     "output_type": "stream",
     "text": [
      "elif logic1\n"
     ]
    }
   ],
   "source": [
    "if False:\n",
    "    print(\"True block\")\n",
    "elif True:\n",
    "    print(\"elif logic1\")     # if 2 elif true the first elif will print\n",
    "elif True:\n",
    "    print(\"elif block2\")\n",
    "elif False:\n",
    "    print(\"elif block3\")\n",
    "else:\n",
    "    print(\"else block\") "
   ]
  },
  {
   "cell_type": "markdown",
   "id": "5f14d421",
   "metadata": {},
   "source": [
    "# Grading rule"
   ]
  },
  {
   "cell_type": "code",
   "execution_count": 4,
   "id": "cb4b261a",
   "metadata": {},
   "outputs": [
    {
     "name": "stdout",
     "output_type": "stream",
     "text": [
      "Dear student your percentage is \"40\" and you calculated grade is:\t D\n"
     ]
    }
   ],
   "source": [
    "from typing import Union\n",
    "\n",
    "#per : Union[float,int] = 60\n",
    "\n",
    "per : float | int = 40       # we can use | pipe operator in place of Union\n",
    "grade : Union[str,None] = None\n",
    "\n",
    "if per >= 80:\n",
    "    grade = \"A+\"\n",
    "elif per >=70:\n",
    "    grade = \"A\"\n",
    "elif per >= 60:\n",
    "    grade = \"B\"\n",
    "elif per >= 50:\n",
    "    grade = \"C\"\n",
    "elif per >= 40:\n",
    "    grade= \"D\"\n",
    "elif per >=30:\n",
    "    grade = \"E\"\n",
    "else:\n",
    "    grade = \"Fail\"\n",
    "\n",
    "print(f\"Dear student your percentage is \\\"{per}\\\" and you calculated grade is:\\t {grade}\")"
   ]
  },
  {
   "cell_type": "code",
   "execution_count": 8,
   "id": "0c488c6f",
   "metadata": {},
   "outputs": [
    {
     "name": "stdout",
     "output_type": "stream",
     "text": [
      "Dear student your percentage is \"60\" and you calculated grade is:\t B\n"
     ]
    }
   ],
   "source": [
    "from typing import Union , Optional\n",
    "\n",
    "#per : Union[float,int] = 60\n",
    "\n",
    "per : float | int = 60       # we can use | pipe operator in place of Union\n",
    "grade : Optional[str] = None\n",
    "\n",
    "if per >= 80:\n",
    "    grade = \"A+\"\n",
    "elif per >=70:\n",
    "    grade = \"A\"\n",
    "elif per >= 60:\n",
    "    grade = \"B\"\n",
    "elif per >= 50:\n",
    "    grade = \"C\"\n",
    "elif per >= 40:\n",
    "    grade= \"D\"\n",
    "elif per >=30:\n",
    "    grade = \"E\"\n",
    "else:\n",
    "    grade = \"Fail\"\n",
    "\n",
    "print(f\"Dear student your percentage is \\\"{per}\\\" and you calculated grade is:\\t {grade}\")"
   ]
  },
  {
   "cell_type": "code",
   "execution_count": 5,
   "id": "900004d0",
   "metadata": {},
   "outputs": [
    {
     "name": "stdout",
     "output_type": "stream",
     "text": [
      "Dear student your percentage is \"60\" and you calculated grade is: B\n"
     ]
    }
   ],
   "source": [
    "from typing import Union\n",
    "\n",
    "per : Union[float,int] = int(input(\"Enter you percentage:\\t\"))   # input fuction return by default str value, so we apply\n",
    "grade : Union[str,None] = None                                   # type cast fucntion int\n",
    "\n",
    "if per >= 80:\n",
    "    grade = \"A+\"\n",
    "elif per >=70:\n",
    "    grade = \"A\"\n",
    "elif per >= 60:\n",
    "    grade = \"B\"\n",
    "elif per >= 50:\n",
    "    grade = \"C\"\n",
    "elif per >= 40:\n",
    "    grade= \"D\"\n",
    "elif per >=30:\n",
    "    grade = \"E\"\n",
    "else:\n",
    "    grade = \"Fail\"\n",
    "\n",
    "print(f\"Dear student your percentage is \\\"{per}\\\" and you calculated grade is: {grade}\")"
   ]
  },
  {
   "cell_type": "code",
   "execution_count": 22,
   "id": "d8e9198b",
   "metadata": {},
   "outputs": [
    {
     "name": "stdout",
     "output_type": "stream",
     "text": [
      "78\n",
      "<class 'str'>\n"
     ]
    }
   ],
   "source": [
    "a = input(\"Enter you percentage\")\n",
    "\n",
    "print(a)\n",
    "print(type(a))"
   ]
  },
  {
   "cell_type": "code",
   "execution_count": 23,
   "id": "8c22d18c",
   "metadata": {},
   "outputs": [
    {
     "name": "stdout",
     "output_type": "stream",
     "text": [
      "78\n",
      "<class 'int'>\n"
     ]
    }
   ],
   "source": [
    "a = int(input(\"Enter you percentage\"))   # type casting\n",
    "\n",
    "print(a)\n",
    "print(type(a))"
   ]
  },
  {
   "cell_type": "markdown",
   "id": "0aee6b00",
   "metadata": {},
   "source": [
    "# Logical Error"
   ]
  },
  {
   "cell_type": "code",
   "execution_count": 6,
   "id": "510662b2",
   "metadata": {},
   "outputs": [
    {
     "name": "stdout",
     "output_type": "stream",
     "text": [
      "Dear student your percentage is \"42.0\" and you calculated grade is: Fail\n"
     ]
    }
   ],
   "source": [
    "from typing import Union\n",
    "\n",
    "per : Union[float,int] = float(input(\"Enter you percentage:\\t\"))   # input fuction return by default str value, so we apply\n",
    "grade : Union[str,None] = None                                   # type cast fucntion int\n",
    "\n",
    "if per >= 0:\n",
    "    grade = \"Fail\"\n",
    "elif per >=33:\n",
    "    grade = \"E\"\n",
    "elif per >= 40:\n",
    "    grade = \"D\"\n",
    "elif per >= 50:\n",
    "    grade = \"C\"\n",
    "elif per >= 60:\n",
    "    grade= \"B\"\n",
    "elif per >=80:\n",
    "    grade = \"A\"\n",
    "else:\n",
    "    grade = \"A+\"\n",
    "\n",
    "print(f\"Dear student your percentage is \\\"{per}\\\" and you calculated grade is: {grade}\")"
   ]
  },
  {
   "cell_type": "markdown",
   "id": "787621ce",
   "metadata": {},
   "source": [
    "# How to avoid logical error?"
   ]
  },
  {
   "cell_type": "code",
   "execution_count": 7,
   "id": "9ff13f2b",
   "metadata": {},
   "outputs": [
    {
     "name": "stdout",
     "output_type": "stream",
     "text": [
      "Dear student your percentage is \"65\" and you calculated grade is: B\n"
     ]
    }
   ],
   "source": [
    "from typing import Union\n",
    "\n",
    "per : Union[float,int] = int(input(\"Enter you percentage:\\t\"))   # input fuction return by default str value, so we apply\n",
    "grade : Union[str,None] = None                                   # type cast fucntion int\n",
    "\n",
    "if per >= 0 and per < 33:\n",
    "    grade = \"Fail\"\n",
    "elif per >=33 and per < 40:\n",
    "    grade = \"E\"\n",
    "elif per >= 40 and per < 50:\n",
    "    grade = \"D\"\n",
    "elif per >= 50  and per <60:\n",
    "    grade = \"C\"\n",
    "elif per >= 60 and per <80:\n",
    "    grade= \"B\"\n",
    "elif per >=80 and per < 85:\n",
    "    grade = \"A\"\n",
    "else:\n",
    "    grade = \"A+\"\n",
    "\n",
    "print(f\"Dear student your percentage is \\\"{per}\\\" and you calculated grade is: {grade}\")"
   ]
  },
  {
   "cell_type": "markdown",
   "id": "1772d192",
   "metadata": {},
   "source": [
    "# Dynamic Data Type"
   ]
  },
  {
   "cell_type": "code",
   "execution_count": 8,
   "id": "b0ca3429",
   "metadata": {},
   "outputs": [
    {
     "name": "stdout",
     "output_type": "stream",
     "text": [
      "[88, 59.5, 90.5, 75, 68, 20]\n",
      "['A+', 'C', 'A+', 'A', 'B', 'Fail']\n"
     ]
    }
   ],
   "source": [
    "from typing import Union\n",
    "PerType = Union[float,int]\n",
    "\n",
    "percentages : list[PerType] = [88 , 59.5 , 90.5 , 75 , 68 ,20]\n",
    "\n",
    "grades : list[str] = []\n",
    "\n",
    "for per in percentages:\n",
    "\n",
    "    grade : str = \"\"\n",
    "    \n",
    "    if per >= 80:\n",
    "        grade = \"A+\"\n",
    "    elif per >=70:\n",
    "        grade = \"A\"\n",
    "    elif per >= 60:\n",
    "        grade = \"B\"\n",
    "    elif per >= 50:\n",
    "        grade = \"C\"\n",
    "    elif per >= 40:\n",
    "        grade= \"D\"\n",
    "    elif per >=30:\n",
    "        grade = \"E\"\n",
    "    else:\n",
    "        grade = \"Fail\"\n",
    "    grades.append(grade)\n",
    "\n",
    "print(percentages)\n",
    "print(grades)\n",
    "\n",
    "    "
   ]
  },
  {
   "cell_type": "code",
   "execution_count": 9,
   "id": "6f92b2e0",
   "metadata": {},
   "outputs": [
    {
     "data": {
      "text/plain": [
       "[(88, 'A+'), (59.5, 'C'), (90.5, 'A+'), (75, 'A'), (68, 'B'), (20, 'Fail')]"
      ]
     },
     "execution_count": 9,
     "metadata": {},
     "output_type": "execute_result"
    }
   ],
   "source": [
    "list(zip(percentages,grades))     # zip is a generator function"
   ]
  },
  {
   "cell_type": "code",
   "execution_count": 16,
   "id": "dbd51775",
   "metadata": {},
   "outputs": [
    {
     "data": {
      "text/plain": [
       "[(88, 'A+', 0),\n",
       " (59.5, 'C', 1),\n",
       " (90.5, 'A+', 2),\n",
       " (75, 'A', 3),\n",
       " (68, 'B', 4),\n",
       " (20, 'Fail', 5)]"
      ]
     },
     "execution_count": 16,
     "metadata": {},
     "output_type": "execute_result"
    }
   ],
   "source": [
    "list(zip(percentages,grades , list(range(len(grades))))) \n"
   ]
  },
  {
   "cell_type": "code",
   "execution_count": 11,
   "id": "ff491bf0",
   "metadata": {},
   "outputs": [
    {
     "data": {
      "text/plain": [
       "[0, 1, 2, 3, 4, 5]"
      ]
     },
     "execution_count": 11,
     "metadata": {},
     "output_type": "execute_result"
    }
   ],
   "source": [
    "roll_numbers : list[int] = list(range(len(percentages)))\n",
    "roll_numbers"
   ]
  },
  {
   "cell_type": "code",
   "execution_count": 12,
   "id": "a05d49f6",
   "metadata": {},
   "outputs": [],
   "source": [
    "data_base = list(zip(roll_numbers,percentages,grades)) "
   ]
  },
  {
   "cell_type": "code",
   "execution_count": 13,
   "id": "9accef4c",
   "metadata": {},
   "outputs": [
    {
     "data": {
      "text/plain": [
       "[(0, 88, 'A+'),\n",
       " (1, 59.5, 'C'),\n",
       " (2, 90.5, 'A+'),\n",
       " (3, 75, 'A'),\n",
       " (4, 68, 'B'),\n",
       " (5, 20, 'Fail')]"
      ]
     },
     "metadata": {},
     "output_type": "display_data"
    },
    {
     "data": {
      "text/plain": [
       "[(0, 88, 'A+'),\n",
       " (1, 59.5, 'C'),\n",
       " (2, 90.5, 'A+'),\n",
       " (3, 75, 'A'),\n",
       " (4, 68, 'B'),\n",
       " (5, 20, 'Fail')]"
      ]
     },
     "execution_count": 13,
     "metadata": {},
     "output_type": "execute_result"
    }
   ],
   "source": [
    "display(data_base)\n",
    "sorted(data_base)"
   ]
  },
  {
   "cell_type": "code",
   "execution_count": 18,
   "id": "8c5f3a76",
   "metadata": {},
   "outputs": [
    {
     "data": {
      "text/plain": [
       "[(0, 88, 'A+'),\n",
       " (1, 59.5, 'C'),\n",
       " (2, 90.5, 'A+'),\n",
       " (3, 75, 'A'),\n",
       " (4, 68, 'B'),\n",
       " (5, 20, 'Fail')]"
      ]
     },
     "metadata": {},
     "output_type": "display_data"
    },
    {
     "data": {
      "text/plain": [
       "[(5, 20, 'Fail'),\n",
       " (1, 59.5, 'C'),\n",
       " (4, 68, 'B'),\n",
       " (3, 75, 'A'),\n",
       " (0, 88, 'A+'),\n",
       " (2, 90.5, 'A+')]"
      ]
     },
     "execution_count": 18,
     "metadata": {},
     "output_type": "execute_result"
    }
   ],
   "source": [
    "display(data_base)\n",
    "sorted(data_base , key= lambda x : x[1])"
   ]
  },
  {
   "cell_type": "code",
   "execution_count": 22,
   "id": "2f0e6077",
   "metadata": {},
   "outputs": [
    {
     "data": {
      "text/plain": [
       "[(0, 88, 'A+'),\n",
       " (1, 59.5, 'C'),\n",
       " (2, 90.5, 'A+'),\n",
       " (3, 75, 'A'),\n",
       " (4, 68, 'B'),\n",
       " (5, 20, 'Fail')]"
      ]
     },
     "metadata": {},
     "output_type": "display_data"
    },
    {
     "data": {
      "text/plain": [
       "[(2, 90.5, 'A+'),\n",
       " (0, 88, 'A+'),\n",
       " (3, 75, 'A'),\n",
       " (4, 68, 'B'),\n",
       " (1, 59.5, 'C'),\n",
       " (5, 20, 'Fail')]"
      ]
     },
     "execution_count": 22,
     "metadata": {},
     "output_type": "execute_result"
    }
   ],
   "source": [
    "display(data_base)\n",
    "sorted(data_base , key= lambda x : x[1], reverse=True)"
   ]
  },
  {
   "cell_type": "code",
   "execution_count": 21,
   "id": "ef0d8925",
   "metadata": {},
   "outputs": [
    {
     "data": {
      "text/plain": [
       "[(0, 88, 'A+'),\n",
       " (1, 59.5, 'C'),\n",
       " (2, 90.5, 'A+'),\n",
       " (3, 75, 'A'),\n",
       " (4, 68, 'B'),\n",
       " (5, 20, 'Fail')]"
      ]
     },
     "metadata": {},
     "output_type": "display_data"
    },
    {
     "data": {
      "text/plain": [
       "[(3, 75, 'A'),\n",
       " (0, 88, 'A+'),\n",
       " (2, 90.5, 'A+'),\n",
       " (4, 68, 'B'),\n",
       " (1, 59.5, 'C'),\n",
       " (5, 20, 'Fail')]"
      ]
     },
     "execution_count": 21,
     "metadata": {},
     "output_type": "execute_result"
    }
   ],
   "source": [
    "display(data_base)\n",
    "sorted(data_base , key= lambda x : x[2])"
   ]
  },
  {
   "cell_type": "code",
   "execution_count": 19,
   "id": "d52e1a7e",
   "metadata": {},
   "outputs": [
    {
     "name": "stdout",
     "output_type": "stream",
     "text": [
      "Audi\n",
      "BMW\n",
      "Subaru\n",
      "Toyota\n"
     ]
    }
   ],
   "source": [
    "cars : list[str] = ['audi', 'bmw', 'subaru', 'toyota']\n",
    "for car in cars:\n",
    "    if car == 'bmw':\n",
    "        print(car.upper())\n",
    "    else:\n",
    "        print(car.title())"
   ]
  },
  {
   "cell_type": "code",
   "execution_count": 2,
   "id": "78e5d17a",
   "metadata": {},
   "outputs": [
    {
     "data": {
      "text/plain": [
       "['audi', 'bmw', 'subaru', 'toyota']"
      ]
     },
     "execution_count": 2,
     "metadata": {},
     "output_type": "execute_result"
    }
   ],
   "source": [
    "cars : list[str] = ['audi', 'bmw', 'subaru', 'toyota']\n",
    "\n",
    "[i for i in cars]"
   ]
  },
  {
   "cell_type": "code",
   "execution_count": 19,
   "id": "8a0e497f",
   "metadata": {},
   "outputs": [
    {
     "data": {
      "text/plain": [
       "['Audi', 'BMW', 'Subaru', 'Toyota']"
      ]
     },
     "execution_count": 19,
     "metadata": {},
     "output_type": "execute_result"
    }
   ],
   "source": [
    "cars : list[str] = ['audi', 'bmw', 'subaru', 'toyota']\n",
    "\n",
    "[car.upper() if car=='bmw' else car.title() for car in cars]"
   ]
  },
  {
   "cell_type": "code",
   "execution_count": 26,
   "id": "f9bb6d91",
   "metadata": {},
   "outputs": [
    {
     "name": "stdout",
     "output_type": "stream",
     "text": [
      "AUDI\n",
      "BMW\n",
      "Mehran\n",
      "SUBARU\n",
      "TOYOTA\n"
     ]
    }
   ],
   "source": [
    "cars : list[str] = ['audi', 'bmw','meHraN','subaru', 'toyota']\n",
    "for car in cars:\n",
    "    if car != 'meHraN':\n",
    "        print(car.upper())\n",
    "    else:\n",
    "        print(car.title())"
   ]
  },
  {
   "cell_type": "code",
   "execution_count": 27,
   "id": "d43aeb15",
   "metadata": {},
   "outputs": [
    {
     "name": "stdout",
     "output_type": "stream",
     "text": [
      "AUDI\n",
      "BMW\n",
      "SUBARU\n",
      "TOYOTA\n"
     ]
    }
   ],
   "source": [
    "cars : list[str] = ['audi', 'bmw','meHraN','subaru', 'toyota']\n",
    "for car in cars:\n",
    "    if car != 'meHraN':\n",
    "        print(car.upper())\n"
   ]
  },
  {
   "cell_type": "code",
   "execution_count": 20,
   "id": "313e1656",
   "metadata": {},
   "outputs": [
    {
     "name": "stdout",
     "output_type": "stream",
     "text": [
      "Majid Ali, you can post a response if you wish.\n"
     ]
    }
   ],
   "source": [
    "banned_users : list[str] = ['andrew', 'carolina', 'david']\n",
    "user = 'majiD aLi'\n",
    "\n",
    "if user not in banned_users:\n",
    "    print(f\"{user.title()}, you can post a response if you wish.\")"
   ]
  },
  {
   "cell_type": "code",
   "execution_count": 31,
   "id": "2bc120e3",
   "metadata": {},
   "outputs": [
    {
     "name": "stdout",
     "output_type": "stream",
     "text": [
      "Sorry, you are too young to vote.\n",
      "Please register to vote as soon as you turn 18!\n"
     ]
    }
   ],
   "source": [
    "age = 17\n",
    "if age >= 18:\n",
    "    print(\"You are old enough to vote!\")\n",
    "    print(\"Have you registered to vote yet?\")\n",
    "else:\n",
    "    print(\"Sorry, you are too young to vote.\")\n",
    "    print(\"Please register to vote as soon as you turn 18!\")"
   ]
  },
  {
   "cell_type": "code",
   "execution_count": 33,
   "id": "909ed053",
   "metadata": {},
   "outputs": [
    {
     "name": "stdout",
     "output_type": "stream",
     "text": [
      "Your admission cost is $25.\n"
     ]
    }
   ],
   "source": [
    "age = 12\n",
    "if age < 4:\n",
    "    print(\"Your admission cost is $0.\")\n",
    "elif age < 18:\n",
    "    print(\"Your admission cost is $25.\")\n",
    "else:\n",
    "    print(\"Your admission cost is $40.\")"
   ]
  },
  {
   "cell_type": "code",
   "execution_count": 34,
   "id": "7dc6e2b0",
   "metadata": {},
   "outputs": [
    {
     "name": "stdout",
     "output_type": "stream",
     "text": [
      "Adding mushrooms.\n",
      "Adding extra cheese.\n",
      "\n",
      "Finished making your pizza!\n"
     ]
    }
   ],
   "source": [
    "requested_toppings : list[str] = ['mushrooms', 'extra cheese']\n",
    "\n",
    "if 'mushrooms' in requested_toppings:\n",
    "    print(\"Adding mushrooms.\")\n",
    "\n",
    "if 'pepperoni' in requested_toppings:\n",
    "    print(\"Adding pepperoni.\")\n",
    "\n",
    "if 'extra cheese' in requested_toppings:\n",
    "    print(\"Adding extra cheese.\")\n",
    "    \n",
    "print(\"\\nFinished making your pizza!\")"
   ]
  },
  {
   "cell_type": "code",
   "execution_count": 25,
   "id": "9967c18f",
   "metadata": {},
   "outputs": [
    {
     "name": "stdout",
     "output_type": "stream",
     "text": [
      "A one time password OTP is sent on you registered mobile number\n",
      "Invalid OTP\n"
     ]
    }
   ],
   "source": [
    "# Nested if\n",
    "\n",
    "user_name : str = input(\"Enter your user name:\\t\")\n",
    "user_password : str = input(\"Enter your password: \\t\")\n",
    "\n",
    "if user_name == 'admin' and user_password == 'admin':\n",
    "    print(\"A one time password OTP is sent on you registered mobile number\")   # 1st level if\n",
    "    otp :str = input(\"Pleaee enter your OTP\")\n",
    "    if otp == '123':                                                           # 2nd level if\n",
    "        print(\"Welcome to PIAIC\")\n",
    "    else:\n",
    "        print(\"Invalid OTP\")\n",
    "else:\n",
    "    print(\"Invalid user name or password\")"
   ]
  },
  {
   "cell_type": "code",
   "execution_count": null,
   "id": "5d6ece65",
   "metadata": {},
   "outputs": [],
   "source": [
    "\n"
   ]
  }
 ],
 "metadata": {
  "kernelspec": {
   "display_name": "Python 3 (ipykernel)",
   "language": "python",
   "name": "python3"
  },
  "language_info": {
   "codemirror_mode": {
    "name": "ipython",
    "version": 3
   },
   "file_extension": ".py",
   "mimetype": "text/x-python",
   "name": "python",
   "nbconvert_exporter": "python",
   "pygments_lexer": "ipython3",
   "version": "3.12.2"
  }
 },
 "nbformat": 4,
 "nbformat_minor": 5
}
