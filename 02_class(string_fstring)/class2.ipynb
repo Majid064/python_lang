{
 "cells": [
  {
   "cell_type": "code",
   "execution_count": 1,
   "metadata": {},
   "outputs": [
    {
     "name": "stdout",
     "output_type": "stream",
     "text": [
      "PIAIC Student Card: \n",
      "father's name:\n"
     ]
    }
   ],
   "source": [
    "message : str = \"PIAIC Student Card: \\nfather's name:\"\n",
    "print(message)"
   ]
  },
  {
   "cell_type": "code",
   "execution_count": 2,
   "metadata": {},
   "outputs": [
    {
     "name": "stdout",
     "output_type": "stream",
     "text": [
      "PIAIC \"Student Card\" \n",
      "father name\n"
     ]
    }
   ],
   "source": [
    "message : str = 'PIAIC \"Student Card\" \\nfather name'\n",
    "print(message)"
   ]
  },
  {
   "cell_type": "code",
   "execution_count": 2,
   "metadata": {},
   "outputs": [
    {
     "name": "stdout",
     "output_type": "stream",
     "text": [
      "PIAIC Student Card \n",
      "father's name\n"
     ]
    }
   ],
   "source": [
    "message : str = 'PIAIC Student Card \\nfather\\'s name'\n",
    "print(message)"
   ]
  },
  {
   "cell_type": "code",
   "execution_count": 4,
   "metadata": {},
   "outputs": [
    {
     "name": "stdout",
     "output_type": "stream",
     "text": [
      "PIAIC Student Card \n",
      "father's name\n"
     ]
    }
   ],
   "source": [
    "message : str = \"PIAIC Student Card \\nfather\\'s name\"\n",
    "print(message)"
   ]
  },
  {
   "cell_type": "code",
   "execution_count": 2,
   "metadata": {},
   "outputs": [
    {
     "data": {
      "text/plain": [
       "'abc'"
      ]
     },
     "execution_count": 2,
     "metadata": {},
     "output_type": "execute_result"
    }
   ],
   "source": [
    "\"a\" + \"b\" + \"c\""
   ]
  },
  {
   "cell_type": "code",
   "execution_count": 3,
   "metadata": {},
   "outputs": [
    {
     "name": "stdout",
     "output_type": "stream",
     "text": [
      "PIAIC Student\n",
      "Student name:Majid Ali\n",
      "Age:32\n"
     ]
    }
   ],
   "source": [
    "name : str = \"Majid Ali\"\n",
    "fname : str = \"Haji Muneer Ahmed\"\n",
    "education : str = \"Electrical Engineeing\"\n",
    "age : int = 32\n",
    "\n",
    "card : str = \"PIAIC Student\\nStudent name:\" + name + \"\\nAge:\" + str(age)\n",
    "print(card)"
   ]
  },
  {
   "cell_type": "code",
   "execution_count": 9,
   "metadata": {},
   "outputs": [
    {
     "name": "stdout",
     "output_type": "stream",
     "text": [
      "17\n"
     ]
    }
   ],
   "source": [
    "print (7 + 8 + 2)"
   ]
  },
  {
   "cell_type": "code",
   "execution_count": 10,
   "metadata": {},
   "outputs": [
    {
     "name": "stdout",
     "output_type": "stream",
     "text": [
      "17\n"
     ]
    }
   ],
   "source": [
    "print(7 + \\\n",
    "      8 + \\\n",
    "        2)"
   ]
  },
  {
   "cell_type": "code",
   "execution_count": 9,
   "metadata": {},
   "outputs": [
    {
     "name": "stdout",
     "output_type": "stream",
     "text": [
      "24\n"
     ]
    }
   ],
   "source": [
    "print(7+\n",
    "      8+\n",
    "      9)"
   ]
  },
  {
   "cell_type": "code",
   "execution_count": 1,
   "metadata": {},
   "outputs": [
    {
     "name": "stdout",
     "output_type": "stream",
     "text": [
      "PIAIC Student\n",
      "Student name:Majid Ali\n",
      "Age:32\n",
      "Education:Electrical Engineeing\n"
     ]
    }
   ],
   "source": [
    "name : str = \"Majid Ali\"\n",
    "fname : str = \"Haji Muneer Ahmed\"\n",
    "education : str = \"Electrical Engineeing\"\n",
    "age : int = 32\n",
    "\n",
    "card : str = \"PIAIC Student\\nStudent name:\" +name + \"\\nAge:\" + str(age) + \"\\n\" + \\\n",
    "\"Education:\" + education\n",
    "print(card)"
   ]
  },
  {
   "cell_type": "markdown",
   "metadata": {},
   "source": [
    "Define multiline string  \"\"\" \"\"\" , ''' '''"
   ]
  },
  {
   "cell_type": "code",
   "execution_count": 13,
   "metadata": {},
   "outputs": [
    {
     "name": "stdout",
     "output_type": "stream",
     "text": [
      "\n",
      "PIAIC Student Card\n",
      "Student name : ....\n",
      "Father name : ...\n",
      "Age : ...\n",
      "Education : ...\n",
      "\n"
     ]
    }
   ],
   "source": [
    "name : str = \"Majid Ali\"\n",
    "fname : str = \"Haji Muneer Ahmed\"\n",
    "education : str = \"Electrical Engineeing\"\n",
    "age : int = 32\n",
    "\n",
    "card : str = \"\"\"\n",
    "PIAIC Student Card\n",
    "Student name : ....\n",
    "Father name : ...\n",
    "Age : ...\n",
    "Education : ...\n",
    "\"\"\"\n",
    "print(card)"
   ]
  },
  {
   "cell_type": "markdown",
   "metadata": {},
   "source": [
    "## Recommended F-string python format"
   ]
  },
  {
   "cell_type": "code",
   "execution_count": 6,
   "metadata": {},
   "outputs": [
    {
     "name": "stdout",
     "output_type": "stream",
     "text": [
      "\n",
      "PIAIC Student Card\n",
      "Student name : Majid Ali\n",
      "Father name : Haji Muneer Ahmed\n",
      "Age : 32\n",
      "Education : Electrical Engineeing\n",
      "\n"
     ]
    }
   ],
   "source": [
    "name : str = \"Majid Ali\"\n",
    "fname : str = \"Haji Muneer Ahmed\"\n",
    "education : str = \"Electrical Engineeing\"\n",
    "age : int = 32\n",
    "\n",
    "card : str = f\"\"\"\n",
    "PIAIC Student Card\n",
    "Student name : {name}\n",
    "Father name : {fname}\n",
    "Age : {age}\n",
    "Education : {education}\n",
    "\"\"\"\n",
    "print(card)"
   ]
  },
  {
   "cell_type": "code",
   "execution_count": 2,
   "metadata": {},
   "outputs": [
    {
     "name": "stdout",
     "output_type": "stream",
     "text": [
      "\n",
      "PIAIC Student Card\n",
      "Student name : Majid Ali\n",
      "Father name : Haji Muneer Ahmed\n",
      "Age : 32\n",
      "Education : Electrical Engineeing\n",
      "\n",
      "Total : 38\n",
      "\n"
     ]
    }
   ],
   "source": [
    "name : str = \"Majid Ali\"\n",
    "fname : str = \"Haji Muneer Ahmed\"\n",
    "education : str = \"Electrical Engineeing\"\n",
    "age : int = 32\n",
    "\n",
    "card : str = f\"\"\"\n",
    "PIAIC Student Card\n",
    "Student name : {name}\n",
    "Father name : {fname}\n",
    "Age : {age}\n",
    "Education : {education}\n",
    "\n",
    "Total : {8+9+15+6}\n",
    "\"\"\"\n",
    "print(card)"
   ]
  },
  {
   "cell_type": "markdown",
   "metadata": {},
   "source": [
    "## F-string and jinja style"
   ]
  },
  {
   "cell_type": "code",
   "execution_count": null,
   "metadata": {},
   "outputs": [],
   "source": [
    "# jinja style\n",
    "\n",
    "\"\"\"\n",
    "Student name : {{name}}\n",
    "\"\"\""
   ]
  },
  {
   "cell_type": "code",
   "execution_count": 1,
   "metadata": {},
   "outputs": [
    {
     "name": "stdout",
     "output_type": "stream",
     "text": [
      "\n",
      "PIAIC Student Card\n",
      "Student name : {{name}}\n",
      "Father name : {{fname}}\n",
      "Age : {{age}}\n",
      "Education : {{education}}\n",
      "\n",
      "Total : {{8+9+15+6}}\n",
      "\n"
     ]
    }
   ],
   "source": [
    "name : str = \"Majid Ali\"\n",
    "fname : str = \"Haji Muneer Ahmed\"\n",
    "education : str = \"Electrical Engineeing\"\n",
    "age : int = 32\n",
    "\n",
    "card : str = \"\"\"\n",
    "PIAIC Student Card\n",
    "Student name : {{name}}\n",
    "Father name : {{fname}}\n",
    "Age : {{age}}\n",
    "Education : {{education}}\n",
    "\n",
    "Total : {{8+9+15+6}}\n",
    "\"\"\"\n",
    "print(card)"
   ]
  },
  {
   "cell_type": "code",
   "execution_count": 3,
   "metadata": {},
   "outputs": [
    {
     "name": "stdout",
     "output_type": "stream",
     "text": [
      "\n",
      "PIAIC Student Card\n",
      "Student name : Majid Ali\n",
      "Father name : Haji Muneer Ahmed\n",
      "Age : 32\n",
      "Education : Electrical Engineeing\n",
      "\n"
     ]
    }
   ],
   "source": [
    "# This is done in C or Java Script\n",
    "\n",
    "name : str = \"Majid Ali\"\n",
    "fname : str = \"Haji Muneer Ahmed\"\n",
    "education : str = \"Electrical Engineeing\"\n",
    "age : int = 32\n",
    "\n",
    "card : str = f\"\"\"\n",
    "PIAIC Student Card\n",
    "Student name : %s\n",
    "Father name : %s\n",
    "Age : %d\n",
    "Education : %s\n",
    "\"\"\" % (name, fname, age, education)\n",
    "print(card)"
   ]
  },
  {
   "cell_type": "code",
   "execution_count": 4,
   "metadata": {},
   "outputs": [],
   "source": [
    "## Mehtods and attributes"
   ]
  },
  {
   "cell_type": "code",
   "execution_count": 5,
   "metadata": {},
   "outputs": [
    {
     "data": {
      "text/plain": [
       "['__add__',\n",
       " '__class__',\n",
       " '__contains__',\n",
       " '__delattr__',\n",
       " '__dir__',\n",
       " '__doc__',\n",
       " '__eq__',\n",
       " '__format__',\n",
       " '__ge__',\n",
       " '__getattribute__',\n",
       " '__getitem__',\n",
       " '__getnewargs__',\n",
       " '__getstate__',\n",
       " '__gt__',\n",
       " '__hash__',\n",
       " '__init__',\n",
       " '__init_subclass__',\n",
       " '__iter__',\n",
       " '__le__',\n",
       " '__len__',\n",
       " '__lt__',\n",
       " '__mod__',\n",
       " '__mul__',\n",
       " '__ne__',\n",
       " '__new__',\n",
       " '__reduce__',\n",
       " '__reduce_ex__',\n",
       " '__repr__',\n",
       " '__rmod__',\n",
       " '__rmul__',\n",
       " '__setattr__',\n",
       " '__sizeof__',\n",
       " '__str__',\n",
       " '__subclasshook__',\n",
       " 'capitalize',\n",
       " 'casefold',\n",
       " 'center',\n",
       " 'count',\n",
       " 'encode',\n",
       " 'endswith',\n",
       " 'expandtabs',\n",
       " 'find',\n",
       " 'format',\n",
       " 'format_map',\n",
       " 'index',\n",
       " 'isalnum',\n",
       " 'isalpha',\n",
       " 'isascii',\n",
       " 'isdecimal',\n",
       " 'isdigit',\n",
       " 'isidentifier',\n",
       " 'islower',\n",
       " 'isnumeric',\n",
       " 'isprintable',\n",
       " 'isspace',\n",
       " 'istitle',\n",
       " 'isupper',\n",
       " 'join',\n",
       " 'ljust',\n",
       " 'lower',\n",
       " 'lstrip',\n",
       " 'maketrans',\n",
       " 'partition',\n",
       " 'removeprefix',\n",
       " 'removesuffix',\n",
       " 'replace',\n",
       " 'rfind',\n",
       " 'rindex',\n",
       " 'rjust',\n",
       " 'rpartition',\n",
       " 'rsplit',\n",
       " 'rstrip',\n",
       " 'split',\n",
       " 'splitlines',\n",
       " 'startswith',\n",
       " 'strip',\n",
       " 'swapcase',\n",
       " 'title',\n",
       " 'translate',\n",
       " 'upper',\n",
       " 'zfill']"
      ]
     },
     "execution_count": 5,
     "metadata": {},
     "output_type": "execute_result"
    }
   ],
   "source": [
    "dir(str)"
   ]
  },
  {
   "cell_type": "code",
   "execution_count": 9,
   "metadata": {},
   "outputs": [
    {
     "data": {
      "text/plain": [
       "['capitalize',\n",
       " 'casefold',\n",
       " 'center',\n",
       " 'count',\n",
       " 'encode',\n",
       " 'endswith',\n",
       " 'expandtabs',\n",
       " 'find',\n",
       " 'format',\n",
       " 'index',\n",
       " 'isalnum',\n",
       " 'isalpha',\n",
       " 'isascii',\n",
       " 'isdecimal',\n",
       " 'isdigit',\n",
       " 'isidentifier',\n",
       " 'islower',\n",
       " 'isnumeric',\n",
       " 'isprintable',\n",
       " 'isspace',\n",
       " 'istitle',\n",
       " 'isupper',\n",
       " 'join',\n",
       " 'ljust',\n",
       " 'lower',\n",
       " 'lstrip',\n",
       " 'maketrans',\n",
       " 'partition',\n",
       " 'removeprefix',\n",
       " 'removesuffix',\n",
       " 'replace',\n",
       " 'rfind',\n",
       " 'rindex',\n",
       " 'rjust',\n",
       " 'rpartition',\n",
       " 'rsplit',\n",
       " 'rstrip',\n",
       " 'split',\n",
       " 'splitlines',\n",
       " 'startswith',\n",
       " 'strip',\n",
       " 'swapcase',\n",
       " 'title',\n",
       " 'translate',\n",
       " 'upper',\n",
       " 'zfill']"
      ]
     },
     "execution_count": 9,
     "metadata": {},
     "output_type": "execute_result"
    }
   ],
   "source": [
    "[i for i in dir(str) if \"_\" not in i]"
   ]
  },
  {
   "cell_type": "code",
   "execution_count": 7,
   "metadata": {},
   "outputs": [
    {
     "name": "stdout",
     "output_type": "stream",
     "text": [
      "Majid ali\n",
      "majid ali\n",
      "majid ali\n",
      "Majid Ali\n"
     ]
    }
   ],
   "source": [
    "name :str = \"maJiD ALi\"\n",
    "\n",
    "print(name.capitalize())\n",
    "print(name.lower())\n",
    "print(name.casefold())\n",
    "print(name.title())"
   ]
  },
  {
   "cell_type": "code",
   "execution_count": 15,
   "metadata": {},
   "outputs": [
    {
     "data": {
      "text/plain": [
       "'Pakistan value a = 7 and b = 9'"
      ]
     },
     "execution_count": 15,
     "metadata": {},
     "output_type": "execute_result"
    }
   ],
   "source": [
    "a = 7\n",
    "b = 9\n",
    "\n",
    "# {}  place holder\n",
    "\"Pakistan value a = {} and b = {}\".format(a,b)"
   ]
  },
  {
   "cell_type": "code",
   "execution_count": 17,
   "metadata": {},
   "outputs": [
    {
     "name": "stdout",
     "output_type": "stream",
     "text": [
      "\n",
      "PIAIC Student Card\n",
      "Student name : Haji Muneer Ahmed\n",
      "Father name : Majid Ali\n",
      "Age : Electrical Engineeing\n",
      "Education : 32\n",
      "\n"
     ]
    }
   ],
   "source": [
    "name : str = \"Majid Ali\"\n",
    "fname : str = \"Haji Muneer Ahmed\"\n",
    "education : str = \"Electrical Engineeing\"\n",
    "age : int = 32\n",
    "\n",
    "card : str = \"\"\"\n",
    "PIAIC Student Card\n",
    "Student name : {}\n",
    "Father name : {}\n",
    "Age : {}\n",
    "Education : {}\n",
    "\"\"\".format(fname,name,education,age)\n",
    "#            0     1    2        3\n",
    "print(card)"
   ]
  },
  {
   "cell_type": "code",
   "execution_count": 18,
   "metadata": {},
   "outputs": [
    {
     "name": "stdout",
     "output_type": "stream",
     "text": [
      "\n",
      "PIAIC Student Card\n",
      "Student name : Majid Ali\n",
      "Father name : Haji Muneer Ahmed\n",
      "Age : 32\n",
      "Education : Electrical Engineeing\n",
      "\n"
     ]
    }
   ],
   "source": [
    "name : str = \"Majid Ali\"\n",
    "fname : str = \"Haji Muneer Ahmed\"\n",
    "education : str = \"Electrical Engineeing\"\n",
    "age : int = 32\n",
    "\n",
    "card : str = \"\"\"\n",
    "PIAIC Student Card\n",
    "Student name : {1}\n",
    "Father name : {0}\n",
    "Age : {3}\n",
    "Education : {2}\n",
    "\"\"\".format(fname,name,education,age)\n",
    "#            0     1    2        3\n",
    "print(card)"
   ]
  },
  {
   "cell_type": "code",
   "execution_count": 1,
   "metadata": {},
   "outputs": [
    {
     "name": "stdout",
     "output_type": "stream",
     "text": [
      "\n",
      "PIAIC Student Card\n",
      "Student name : Majid Ali\n",
      "Father name : Haji Muneer Ahmed\n",
      "Age : 32\n",
      "Education : Electrical Engineeing\n",
      "\n"
     ]
    }
   ],
   "source": [
    "name : str = \"Majid Ali\"\n",
    "fname : str = \"Haji Muneer Ahmed\"\n",
    "education : str = \"Electrical Engineeing\"\n",
    "age : int = 32\n",
    "\n",
    "card : str = \"\"\"\n",
    "PIAIC Student Card\n",
    "Student name : {a}\n",
    "Father name : {b}\n",
    "Age : {c}\n",
    "Education : {d}\n",
    "\"\"\".format(a=name,b=fname,d=education,c=age)\n",
    "\n",
    "print(card)"
   ]
  },
  {
   "cell_type": "code",
   "execution_count": 8,
   "metadata": {},
   "outputs": [
    {
     "name": "stdout",
     "output_type": "stream",
     "text": [
      "My name is Majid Ali\n",
      "15\n"
     ]
    }
   ],
   "source": [
    "student_code : str = \"\"\"\n",
    "print(\"My name is Majid Ali\")\n",
    "a : int = 7\n",
    "b : int = 8\n",
    "print(a+b)\n",
    "\n",
    "\"\"\"\n",
    "exec(student_code)"
   ]
  },
  {
   "cell_type": "code",
   "execution_count": 3,
   "metadata": {},
   "outputs": [
    {
     "name": "stdout",
     "output_type": "stream",
     "text": [
      "\n",
      "print(\"My name is Majid Ali\")\n",
      "a : int = 7\n",
      "b : int = 8\n",
      "print(a+b)\n",
      "\n",
      "\n"
     ]
    }
   ],
   "source": [
    "print(student_code)"
   ]
  },
  {
   "cell_type": "markdown",
   "metadata": {},
   "source": [
    "# Explore String method and attributes"
   ]
  },
  {
   "cell_type": "code",
   "execution_count": 4,
   "metadata": {},
   "outputs": [
    {
     "name": "stdout",
     "output_type": "stream",
     "text": [
      "['capitalize', 'casefold', 'center', 'count', 'encode', 'endswith', 'expandtabs', 'find', 'format', 'index', 'isalnum', 'isalpha', 'isascii', 'isdecimal', 'isdigit', 'isidentifier', 'islower', 'isnumeric', 'isprintable', 'isspace', 'istitle', 'isupper', 'join', 'ljust', 'lower', 'lstrip', 'maketrans', 'partition', 'removeprefix', 'removesuffix', 'replace', 'rfind', 'rindex', 'rjust', 'rpartition', 'rsplit', 'rstrip', 'split', 'splitlines', 'startswith', 'strip', 'swapcase', 'title', 'translate', 'upper', 'zfill']\n",
      "46\n"
     ]
    }
   ],
   "source": [
    "a : list[str] = [i for i in dir(str) if \"_\" not in i]\n",
    "print(a)\n",
    "print(len(a))"
   ]
  },
  {
   "cell_type": "code",
   "execution_count": 35,
   "metadata": {},
   "outputs": [
    {
     "name": "stdout",
     "output_type": "stream",
     "text": [
      "Majid ali\n",
      "majid ali\n",
      "majid ali\n",
      "MAJID ALI\n",
      "Majid Ali\n"
     ]
    }
   ],
   "source": [
    "name : str = \"mAjID aLi\"\n",
    "\n",
    "# variable_name.method()\n",
    "\n",
    "print(name.capitalize())\n",
    "print(name.casefold())\n",
    "print(name.lower())\n",
    "print(name.upper())\n",
    "print(name.title())\n"
   ]
  },
  {
   "cell_type": "code",
   "execution_count": 7,
   "metadata": {},
   "outputs": [
    {
     "name": "stdout",
     "output_type": "stream",
     "text": [
      "     mAjID aLi     \n"
     ]
    },
    {
     "data": {
      "text/plain": [
       "'     mAjID aLi     '"
      ]
     },
     "metadata": {},
     "output_type": "display_data"
    },
    {
     "data": {
      "text/plain": [
       "'mAjID aLi     '"
      ]
     },
     "metadata": {},
     "output_type": "display_data"
    },
    {
     "data": {
      "text/plain": [
       "'     mAjID aLi'"
      ]
     },
     "metadata": {},
     "output_type": "display_data"
    },
    {
     "data": {
      "text/plain": [
       "'mAjID aLi'"
      ]
     },
     "metadata": {},
     "output_type": "display_data"
    },
    {
     "name": "stdout",
     "output_type": "stream",
     "text": [
      "mAjID aLi\n"
     ]
    }
   ],
   "source": [
    "name : str = \"     mAjID aLi     \"\n",
    "\n",
    "print(name)\n",
    "display(name)\n",
    "display(name.lstrip())\n",
    "display(name.rstrip())\n",
    "display(name.strip())\n",
    "print(name.strip())"
   ]
  },
  {
   "cell_type": "code",
   "execution_count": 10,
   "metadata": {},
   "outputs": [
    {
     "data": {
      "text/plain": [
       "'     Majid     Ali     '"
      ]
     },
     "metadata": {},
     "output_type": "display_data"
    },
    {
     "data": {
      "text/plain": [
       "' # Majid # Ali # '"
      ]
     },
     "metadata": {},
     "output_type": "display_data"
    }
   ],
   "source": [
    "import re # Regular Expression__ A package name\n",
    "\n",
    "name : str = \"     Majid     Ali     \"\n",
    "\n",
    "display(name)\n",
    "\n",
    "name1 : str = re.sub(' {2,10}',' # ', name)   # sub mean subtitute sub(Pattern , replacement , varible name) >>> sub('', '', name)\n",
    "\n",
    "display(name1)\n"
   ]
  },
  {
   "cell_type": "code",
   "execution_count": 15,
   "metadata": {},
   "outputs": [
    {
     "data": {
      "text/plain": [
       "'     Majid         Ali     '"
      ]
     },
     "metadata": {},
     "output_type": "display_data"
    },
    {
     "data": {
      "text/plain": [
       "'Majid   Ali'"
      ]
     },
     "metadata": {},
     "output_type": "display_data"
    }
   ],
   "source": [
    "name : str = \"     Majid         Ali     \"\n",
    "\n",
    "display(name)\n",
    "\n",
    "name1 : str = re.sub(' {2,100}','   ', name).strip()\n",
    "\n",
    "display(name1)"
   ]
  },
  {
   "cell_type": "code",
   "execution_count": 41,
   "metadata": {},
   "outputs": [
    {
     "name": "stdout",
     "output_type": "stream",
     "text": [
      "Hello,\n",
      "Majid Ali!\n"
     ]
    }
   ],
   "source": [
    "first_name : str = \"MajID\"\n",
    "last_name : str = \"aLi\"\n",
    "full_name : str = f\"{first_name} {last_name}\"\n",
    "print(f\"Hello,\\n{full_name.title()}!\")"
   ]
  },
  {
   "cell_type": "code",
   "execution_count": 39,
   "metadata": {},
   "outputs": [
    {
     "name": "stdout",
     "output_type": "stream",
     "text": [
      "Name: Majid Ali\n"
     ]
    }
   ],
   "source": [
    "print(\"Name: \\b Majid Ali\") "
   ]
  },
  {
   "cell_type": "code",
   "execution_count": 18,
   "metadata": {},
   "outputs": [
    {
     "name": "stdout",
     "output_type": "stream",
     "text": [
      "Value of pi to 4 decimal places: 3.1416\n"
     ]
    }
   ],
   "source": [
    "pi: float = 3.14159\n",
    "print(f\"Value of pi to 4 decimal places: {pi:.4f}\")"
   ]
  },
  {
   "cell_type": "code",
   "execution_count": 19,
   "metadata": {},
   "outputs": [
    {
     "name": "stdout",
     "output_type": "stream",
     "text": [
      "Value of num to 3 decimal places: 3.145\n"
     ]
    }
   ],
   "source": [
    "num: float = 3.14459\n",
    "print(f\"Value of num to 3 decimal places: {num:.3f}\")"
   ]
  },
  {
   "cell_type": "code",
   "execution_count": 27,
   "metadata": {},
   "outputs": [
    {
     "name": "stdout",
     "output_type": "stream",
     "text": [
      "2.16\n"
     ]
    }
   ],
   "source": [
    "a = 2.15789\n",
    "print(f\"{a:.2f}\")"
   ]
  },
  {
   "cell_type": "code",
   "execution_count": 28,
   "metadata": {},
   "outputs": [
    {
     "name": "stdout",
     "output_type": "stream",
     "text": [
      "2.16\n"
     ]
    }
   ],
   "source": [
    "a = 2.15789\n",
    "print(round(a, 2))\n"
   ]
  }
 ],
 "metadata": {
  "kernelspec": {
   "display_name": "base",
   "language": "python",
   "name": "python3"
  },
  "language_info": {
   "codemirror_mode": {
    "name": "ipython",
    "version": 3
   },
   "file_extension": ".py",
   "mimetype": "text/x-python",
   "name": "python",
   "nbconvert_exporter": "python",
   "pygments_lexer": "ipython3",
   "version": "3.12.2"
  }
 },
 "nbformat": 4,
 "nbformat_minor": 2
}
