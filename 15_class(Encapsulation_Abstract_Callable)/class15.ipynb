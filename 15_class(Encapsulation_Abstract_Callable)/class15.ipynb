{
 "cells": [
  {
   "cell_type": "code",
   "execution_count": 8,
   "metadata": {},
   "outputs": [
    {
     "name": "stdout",
     "output_type": "stream",
     "text": [
      "you called method()!\n"
     ]
    }
   ],
   "source": [
    "class SampleClass:\n",
    "    @classmethod\n",
    "    def method(cls):\n",
    "        print(\"you called method()!\")\n",
    "\n",
    "type(SampleClass)\n",
    "\n",
    "SampleClass.method()"
   ]
  },
  {
   "cell_type": "code",
   "execution_count": 7,
   "metadata": {},
   "outputs": [
    {
     "name": "stdout",
     "output_type": "stream",
     "text": [
      "you called method()!\n"
     ]
    }
   ],
   "source": [
    "class SampleClass:\n",
    "    def method(self):\n",
    "        print(\"you called method()!\")\n",
    "\n",
    "# Create an instance of SampleClass\n",
    "sample_instance = SampleClass()\n",
    "\n",
    "# Call the method on the instance\n",
    "sample_instance.method()\n"
   ]
  },
  {
   "cell_type": "code",
   "execution_count": 2,
   "metadata": {},
   "outputs": [
    {
     "data": {
      "text/plain": [
       "['__abstractmethods__',\n",
       " '__annotations__',\n",
       " '__base__',\n",
       " '__bases__',\n",
       " '__basicsize__',\n",
       " '__call__',\n",
       " '__class__',\n",
       " '__delattr__',\n",
       " '__dict__',\n",
       " '__dictoffset__',\n",
       " '__dir__',\n",
       " '__doc__',\n",
       " '__eq__',\n",
       " '__flags__',\n",
       " '__format__',\n",
       " '__ge__',\n",
       " '__getattribute__',\n",
       " '__getstate__',\n",
       " '__gt__',\n",
       " '__hash__',\n",
       " '__init__',\n",
       " '__init_subclass__',\n",
       " '__instancecheck__',\n",
       " '__itemsize__',\n",
       " '__le__',\n",
       " '__lt__',\n",
       " '__module__',\n",
       " '__mro__',\n",
       " '__name__',\n",
       " '__ne__',\n",
       " '__new__',\n",
       " '__or__',\n",
       " '__prepare__',\n",
       " '__qualname__',\n",
       " '__reduce__',\n",
       " '__reduce_ex__',\n",
       " '__repr__',\n",
       " '__ror__',\n",
       " '__setattr__',\n",
       " '__sizeof__',\n",
       " '__str__',\n",
       " '__subclasscheck__',\n",
       " '__subclasses__',\n",
       " '__subclasshook__',\n",
       " '__text_signature__',\n",
       " '__type_params__',\n",
       " '__weakrefoffset__',\n",
       " 'mro']"
      ]
     },
     "execution_count": 2,
     "metadata": {},
     "output_type": "execute_result"
    }
   ],
   "source": [
    "dir(type)"
   ]
  },
  {
   "cell_type": "code",
   "execution_count": 3,
   "metadata": {},
   "outputs": [
    {
     "data": {
      "text/plain": [
       "['__call__',\n",
       " '__class__',\n",
       " '__delattr__',\n",
       " '__dir__',\n",
       " '__doc__',\n",
       " '__eq__',\n",
       " '__format__',\n",
       " '__func__',\n",
       " '__ge__',\n",
       " '__getattribute__',\n",
       " '__getstate__',\n",
       " '__gt__',\n",
       " '__hash__',\n",
       " '__init__',\n",
       " '__init_subclass__',\n",
       " '__le__',\n",
       " '__lt__',\n",
       " '__ne__',\n",
       " '__new__',\n",
       " '__reduce__',\n",
       " '__reduce_ex__',\n",
       " '__repr__',\n",
       " '__self__',\n",
       " '__setattr__',\n",
       " '__sizeof__',\n",
       " '__str__',\n",
       " '__subclasshook__']"
      ]
     },
     "execution_count": 3,
     "metadata": {},
     "output_type": "execute_result"
    }
   ],
   "source": [
    "sample_instance = SampleClass()\n",
    "dir(sample_instance.method)"
   ]
  },
  {
   "cell_type": "code",
   "execution_count": 21,
   "metadata": {},
   "outputs": [
    {
     "data": {
      "text/plain": [
       "True"
      ]
     },
     "execution_count": 21,
     "metadata": {},
     "output_type": "execute_result"
    }
   ],
   "source": [
    "class NonCallable:\n",
    "    def __call__(self):\n",
    "        raise TypeError(\"It is not really callable\")\n",
    "    \n",
    "instance = NonCallable()\n",
    "callable(instance)   # callable is used to check either an object has __call__ method"
   ]
  },
  {
   "cell_type": "code",
   "execution_count": 22,
   "metadata": {},
   "outputs": [
    {
     "ename": "TypeError",
     "evalue": "It is not really callable",
     "output_type": "error",
     "traceback": [
      "\u001b[1;31m---------------------------------------------------------------------------\u001b[0m",
      "\u001b[1;31mTypeError\u001b[0m                                 Traceback (most recent call last)",
      "Cell \u001b[1;32mIn[22], line 1\u001b[0m\n\u001b[1;32m----> 1\u001b[0m instance()\n",
      "Cell \u001b[1;32mIn[21], line 3\u001b[0m, in \u001b[0;36mNonCallable.__call__\u001b[1;34m(self)\u001b[0m\n\u001b[0;32m      2\u001b[0m \u001b[38;5;28;01mdef\u001b[39;00m \u001b[38;5;21m__call__\u001b[39m(\u001b[38;5;28mself\u001b[39m):\n\u001b[1;32m----> 3\u001b[0m     \u001b[38;5;28;01mraise\u001b[39;00m \u001b[38;5;167;01mTypeError\u001b[39;00m(\u001b[38;5;124m\"\u001b[39m\u001b[38;5;124mIt is not really callable\u001b[39m\u001b[38;5;124m\"\u001b[39m)\n",
      "\u001b[1;31mTypeError\u001b[0m: It is not really callable"
     ]
    }
   ],
   "source": [
    "instance()"
   ]
  },
  {
   "cell_type": "code",
   "execution_count": 18,
   "metadata": {},
   "outputs": [
    {
     "name": "stdout",
     "output_type": "stream",
     "text": [
      "True\n",
      "I love Pakistan\n"
     ]
    }
   ],
   "source": [
    "class NonCallable:\n",
    "    def __call__(self):\n",
    "        print(\"I love Pakistan\")\n",
    "    \n",
    "instance = NonCallable()\n",
    "\n",
    "print(callable(instance))\n",
    "instance()"
   ]
  },
  {
   "cell_type": "code",
   "execution_count": 27,
   "metadata": {},
   "outputs": [
    {
     "data": {
      "text/plain": [
       "3"
      ]
     },
     "execution_count": 27,
     "metadata": {},
     "output_type": "execute_result"
    }
   ],
   "source": [
    "class PowerFactory:\n",
    "    def __init__(self,exponent):\n",
    "        self.exponent = exponent\n",
    "\n",
    "    def __call__(self,base):\n",
    "        return base**self.exponent\n",
    "    \n",
    "a : PowerFactory = PowerFactory(3)\n",
    "a.exponent"
   ]
  },
  {
   "cell_type": "code",
   "execution_count": 7,
   "metadata": {},
   "outputs": [
    {
     "data": {
      "text/plain": [
       "100"
      ]
     },
     "execution_count": 7,
     "metadata": {},
     "output_type": "execute_result"
    }
   ],
   "source": [
    "a(10)"
   ]
  },
  {
   "cell_type": "code",
   "execution_count": 28,
   "metadata": {},
   "outputs": [],
   "source": [
    "class CumulativeAverage:\n",
    "    def __init__(self):\n",
    "        self.data = []\n",
    "\n",
    "    def __call__(self, new_vlue):\n",
    "        self.data.append(new_vlue)\n",
    "        print(self.data)\n",
    "        return sum(self.data) / len(self.data)"
   ]
  },
  {
   "cell_type": "code",
   "execution_count": 29,
   "metadata": {},
   "outputs": [
    {
     "name": "stdout",
     "output_type": "stream",
     "text": [
      "[12]\n",
      "12.0\n",
      "[12, 13]\n",
      "12.5\n",
      "[12, 13, 14]\n",
      "13.0\n"
     ]
    }
   ],
   "source": [
    "stream_average = CumulativeAverage()    # here __init__ method called\n",
    "\n",
    "# data = []\n",
    "\n",
    "print(stream_average(12))  # data =[12], When we place () after instance, then value will be passed in callabe function\n",
    "\n",
    "print(stream_average(13))\n",
    "\n",
    "print(stream_average(14))"
   ]
  },
  {
   "cell_type": "code",
   "execution_count": 31,
   "metadata": {},
   "outputs": [],
   "source": [
    "\n",
    "class Factorial:\n",
    "    def __init__(self):\n",
    "        self.cache = {0:1, 1:1 }\n",
    "\n",
    "    def __call__(self, number):\n",
    "        if number not in self.cache:\n",
    "            self.cache[number] = number * self(number - 1)\n",
    "        return self.cache[number]\n"
   ]
  },
  {
   "cell_type": "code",
   "execution_count": 32,
   "metadata": {},
   "outputs": [
    {
     "data": {
      "text/plain": [
       "{0: 1, 1: 1, 2: 2, 3: 6, 4: 24, 5: 120, 6: 720}"
      ]
     },
     "execution_count": 32,
     "metadata": {},
     "output_type": "execute_result"
    }
   ],
   "source": [
    "factorial_of = Factorial()\n",
    "\n",
    "factorial_of(4)\n",
    "\n",
    "factorial_of(6)\n",
    "\n",
    "factorial_of.cache"
   ]
  },
  {
   "cell_type": "code",
   "execution_count": 11,
   "metadata": {},
   "outputs": [
    {
     "data": {
      "text/plain": [
       "24"
      ]
     },
     "execution_count": 11,
     "metadata": {},
     "output_type": "execute_result"
    }
   ],
   "source": [
    "factorial_of(4)"
   ]
  },
  {
   "cell_type": "code",
   "execution_count": 14,
   "metadata": {},
   "outputs": [
    {
     "data": {
      "text/plain": [
       "5040"
      ]
     },
     "execution_count": 14,
     "metadata": {},
     "output_type": "execute_result"
    }
   ],
   "source": [
    "factorial_of(7)"
   ]
  },
  {
   "cell_type": "code",
   "execution_count": 17,
   "metadata": {},
   "outputs": [],
   "source": [
    "from piaic.genai import ExecutionTimer"
   ]
  },
  {
   "cell_type": "code",
   "execution_count": 18,
   "metadata": {},
   "outputs": [
    {
     "name": "stdout",
     "output_type": "stream",
     "text": [
      "square_numbers() took 0.0082 ms\n"
     ]
    },
    {
     "data": {
      "text/plain": [
       "[0, 1, 4, 9, 16, 25, 36, 49, 64, 81]"
      ]
     },
     "execution_count": 18,
     "metadata": {},
     "output_type": "execute_result"
    }
   ],
   "source": [
    "@ExecutionTimer\n",
    "def square_numbers(numbers):\n",
    "    return [number ** 2 for number in numbers]\n",
    "\n",
    "\n",
    "square_numbers(list(range(10)))"
   ]
  },
  {
   "cell_type": "code",
   "execution_count": 1,
   "metadata": {},
   "outputs": [
    {
     "name": "stdout",
     "output_type": "stream",
     "text": [
      "0800\n"
     ]
    }
   ],
   "source": [
    "class Piaic():\n",
    "    def __init__(self) -> None:\n",
    "        #self.name                             public\n",
    "        self.piaic_helpline : str = \"0800\" #\n",
    "        #self._name                             protected\n",
    "        self._total_expense : int = 6000000 #\n",
    "        # __ = dundder\n",
    "        #self.__name                             private\n",
    "        self.__test_announcement : str = \"5 Nov 2023\"\n",
    "\n",
    "\n",
    "isfhan : Piaic = Piaic()\n",
    "\n",
    "print(isfhan.piaic_helpline)"
   ]
  },
  {
   "cell_type": "code",
   "execution_count": 20,
   "metadata": {},
   "outputs": [
    {
     "name": "stdout",
     "output_type": "stream",
     "text": [
      "0322-1234567\n"
     ]
    }
   ],
   "source": [
    "isfhan.piaic_helpline ='0322-1234567'\n",
    "\n",
    "print(isfhan.piaic_helpline)"
   ]
  },
  {
   "cell_type": "code",
   "execution_count": 34,
   "metadata": {},
   "outputs": [
    {
     "ename": "NameError",
     "evalue": "name 'isfhan' is not defined",
     "output_type": "error",
     "traceback": [
      "\u001b[1;31m---------------------------------------------------------------------------\u001b[0m",
      "\u001b[1;31mNameError\u001b[0m                                 Traceback (most recent call last)",
      "Cell \u001b[1;32mIn[34], line 1\u001b[0m\n\u001b[1;32m----> 1\u001b[0m \u001b[38;5;28mprint\u001b[39m(isfhan\u001b[38;5;241m.\u001b[39m_total_expense)\n",
      "\u001b[1;31mNameError\u001b[0m: name 'isfhan' is not defined"
     ]
    }
   ],
   "source": [
    "print(isfhan._total_expense)"
   ]
  },
  {
   "cell_type": "code",
   "execution_count": 2,
   "metadata": {},
   "outputs": [
    {
     "ename": "AttributeError",
     "evalue": "'Piaic' object has no attribute '__test_announcement'",
     "output_type": "error",
     "traceback": [
      "\u001b[1;31m---------------------------------------------------------------------------\u001b[0m",
      "\u001b[1;31mAttributeError\u001b[0m                            Traceback (most recent call last)",
      "Cell \u001b[1;32mIn[2], line 1\u001b[0m\n\u001b[1;32m----> 1\u001b[0m \u001b[38;5;28mprint\u001b[39m(isfhan\u001b[38;5;241m.\u001b[39m__test_announcement)\n",
      "\u001b[1;31mAttributeError\u001b[0m: 'Piaic' object has no attribute '__test_announcement'"
     ]
    }
   ],
   "source": [
    "print(isfhan.__test_announcement)"
   ]
  },
  {
   "cell_type": "code",
   "execution_count": 4,
   "metadata": {},
   "outputs": [
    {
     "data": {
      "text/plain": [
       "'5 Nov 2023'"
      ]
     },
     "execution_count": 4,
     "metadata": {},
     "output_type": "execute_result"
    }
   ],
   "source": [
    "isfhan._Piaic__test_announcement         # private"
   ]
  },
  {
   "cell_type": "markdown",
   "metadata": {},
   "source": [
    "# Encapsulation"
   ]
  },
  {
   "cell_type": "code",
   "execution_count": 35,
   "metadata": {},
   "outputs": [],
   "source": [
    "class StudentLogin():\n",
    "    def __init__(self) -> None:\n",
    "        self.__username : str = \"Admin\" # private\n",
    "        self.__password : str = \"Admin\" # private\n",
    "\n",
    "\n",
    "    def __dbconnectivity(self, user:str, pswd:str):\n",
    "        print(\"Successfully connected\")\n",
    "        if user == self.__username and pswd == self.__password:\n",
    "            return \"Valid user\"\n",
    "        else:\n",
    "            return \"Invalid user\"\n",
    "        \n",
    "    def update_password(self,password:str):\n",
    "        self.__password = password\n",
    "\n",
    "    def student_login(self, user1: str , pass1: str):\n",
    "        message :str = self.__dbconnectivity(user1,pass1)\n",
    "        print(message)\n",
    "\n",
    "    def display_information(self):\n",
    "        print(f\"Hello Dear, User_Name: {self.__username} and password: {self.__password}\")\n",
    "\n",
    "\n",
    "qasim : StudentLogin = StudentLogin()"
   ]
  },
  {
   "cell_type": "code",
   "execution_count": 36,
   "metadata": {},
   "outputs": [
    {
     "ename": "AttributeError",
     "evalue": "'StudentLogin' object has no attribute '__password'",
     "output_type": "error",
     "traceback": [
      "\u001b[1;31m---------------------------------------------------------------------------\u001b[0m",
      "\u001b[1;31mAttributeError\u001b[0m                            Traceback (most recent call last)",
      "Cell \u001b[1;32mIn[36], line 1\u001b[0m\n\u001b[1;32m----> 1\u001b[0m qasim\u001b[38;5;241m.\u001b[39m__password\n",
      "\u001b[1;31mAttributeError\u001b[0m: 'StudentLogin' object has no attribute '__password'"
     ]
    }
   ],
   "source": [
    "qasim.__password"
   ]
  },
  {
   "cell_type": "code",
   "execution_count": 37,
   "metadata": {},
   "outputs": [
    {
     "name": "stdout",
     "output_type": "stream",
     "text": [
      "Hello Dear, User_Name: Admin and password: Admin\n"
     ]
    }
   ],
   "source": [
    "qasim.display_information()"
   ]
  },
  {
   "cell_type": "code",
   "execution_count": 15,
   "metadata": {},
   "outputs": [
    {
     "name": "stdout",
     "output_type": "stream",
     "text": [
      "Successfully connected\n",
      "Invalid user\n"
     ]
    }
   ],
   "source": [
    "qasim.student_login(\"qasim\",\"qasim123\")"
   ]
  },
  {
   "cell_type": "code",
   "execution_count": 16,
   "metadata": {},
   "outputs": [
    {
     "name": "stdout",
     "output_type": "stream",
     "text": [
      "Successfully connected\n",
      "Valid user\n"
     ]
    }
   ],
   "source": [
    "qasim.student_login(\"Admin\",\"Admin\")"
   ]
  },
  {
   "cell_type": "code",
   "execution_count": 17,
   "metadata": {},
   "outputs": [],
   "source": [
    "qasim.update_password(\"qasim123\")"
   ]
  },
  {
   "cell_type": "code",
   "execution_count": 19,
   "metadata": {},
   "outputs": [
    {
     "name": "stdout",
     "output_type": "stream",
     "text": [
      "Hello Dear, User_Name: Admin and password: qasim123\n"
     ]
    }
   ],
   "source": [
    "qasim.display_information()\n"
   ]
  },
  {
   "cell_type": "markdown",
   "metadata": {},
   "source": [
    "__str__"
   ]
  },
  {
   "cell_type": "code",
   "execution_count": 47,
   "metadata": {},
   "outputs": [
    {
     "name": "stdout",
     "output_type": "stream",
     "text": [
      "<__main__.Teacher object at 0x000002462C178A10>\n"
     ]
    }
   ],
   "source": [
    "class Teacher():\n",
    "    def __init__(self,name) -> None:\n",
    "        self.name : str = name\n",
    "\n",
    "sir_zia : Teacher = Teacher(\"Sir Zia\")\n",
    "\n",
    "print(sir_zia)\n"
   ]
  },
  {
   "cell_type": "code",
   "execution_count": 46,
   "metadata": {},
   "outputs": [
    {
     "name": "stdout",
     "output_type": "stream",
     "text": [
      " The teacher name is Sir Zia\n"
     ]
    }
   ],
   "source": [
    "class Teacher():\n",
    "    def __init__(self,name) -> None:\n",
    "        self.name : str = name\n",
    "\n",
    "        \"\"\"\n",
    "        def __str__(self) -> str: defines the __str__ method, which returns a string representation of the object. \n",
    "        This method is called when you use the print function on an instance of the class or when you convert the \n",
    "        object to a string.\n",
    "        \"\"\"\n",
    "\n",
    "    def __str__(self) -> str:\n",
    "        return f\" The teacher name is {self.name}\"\n",
    "\n",
    "sir_zia : Teacher = Teacher(\"Sir Zia\")\n",
    "\n",
    "print(sir_zia)\n",
    "\n"
   ]
  },
  {
   "cell_type": "markdown",
   "metadata": {},
   "source": [
    "# Abstract class"
   ]
  },
  {
   "cell_type": "code",
   "execution_count": 51,
   "metadata": {},
   "outputs": [],
   "source": [
    "from abc import ABC , abstractmethod\n",
    "\n",
    "class Animal(ABC):\n",
    "    def __init__(self) -> None:\n",
    "        super().__init__()\n",
    "    \n",
    "\n",
    "isfhan : Animal = Animal()"
   ]
  },
  {
   "cell_type": "code",
   "execution_count": 50,
   "metadata": {},
   "outputs": [
    {
     "ename": "TypeError",
     "evalue": "Can't instantiate abstract class Animal without an implementation for abstract method '__init__'",
     "output_type": "error",
     "traceback": [
      "\u001b[1;31m---------------------------------------------------------------------------\u001b[0m",
      "\u001b[1;31mTypeError\u001b[0m                                 Traceback (most recent call last)",
      "Cell \u001b[1;32mIn[50], line 9\u001b[0m\n\u001b[0;32m      4\u001b[0m     \u001b[38;5;129m@abstractmethod\u001b[39m\n\u001b[0;32m      5\u001b[0m     \u001b[38;5;28;01mdef\u001b[39;00m \u001b[38;5;21m__init__\u001b[39m(\u001b[38;5;28mself\u001b[39m) \u001b[38;5;241m-\u001b[39m\u001b[38;5;241m>\u001b[39m \u001b[38;5;28;01mNone\u001b[39;00m:\n\u001b[0;32m      6\u001b[0m         \u001b[38;5;28msuper\u001b[39m()\u001b[38;5;241m.\u001b[39m\u001b[38;5;21m__init__\u001b[39m()\n\u001b[1;32m----> 9\u001b[0m isfhan : Animal \u001b[38;5;241m=\u001b[39m Animal()\n",
      "\u001b[1;31mTypeError\u001b[0m: Can't instantiate abstract class Animal without an implementation for abstract method '__init__'"
     ]
    }
   ],
   "source": [
    "from abc import ABC , abstractmethod\n",
    "\n",
    "class Animal(ABC):\n",
    "    @abstractmethod\n",
    "    def __init__(self) -> None:\n",
    "        super().__init__()\n",
    "    \n",
    "\n",
    "isfhan : Animal = Animal()"
   ]
  },
  {
   "cell_type": "code",
   "execution_count": 49,
   "metadata": {},
   "outputs": [
    {
     "ename": "TypeError",
     "evalue": "Can't instantiate abstract class Animal without an implementation for abstract method '__init__'",
     "output_type": "error",
     "traceback": [
      "\u001b[1;31m---------------------------------------------------------------------------\u001b[0m",
      "\u001b[1;31mTypeError\u001b[0m                                 Traceback (most recent call last)",
      "Cell \u001b[1;32mIn[49], line 12\u001b[0m\n\u001b[0;32m      7\u001b[0m         \u001b[38;5;28msuper\u001b[39m()\u001b[38;5;241m.\u001b[39m\u001b[38;5;21m__init__\u001b[39m()\n\u001b[0;32m      8\u001b[0m         \u001b[38;5;28mself\u001b[39m\u001b[38;5;241m.\u001b[39mliving_thing : \u001b[38;5;28mbool\u001b[39m \u001b[38;5;241m=\u001b[39m \u001b[38;5;28;01mTrue\u001b[39;00m\n\u001b[1;32m---> 12\u001b[0m isfhan : Animal \u001b[38;5;241m=\u001b[39m Animal()\n",
      "\u001b[1;31mTypeError\u001b[0m: Can't instantiate abstract class Animal without an implementation for abstract method '__init__'"
     ]
    }
   ],
   "source": [
    "from abc import ABC , abstractmethod\n",
    "\n",
    "from traitlets import Bool\n",
    "class Animal(ABC):\n",
    "    @abstractmethod\n",
    "    def __init__(self) -> None:\n",
    "        super().__init__()\n",
    "        self.living_thing : bool = True\n",
    "\n",
    "    \n",
    "\n",
    "isfhan : Animal = Animal()"
   ]
  },
  {
   "cell_type": "code",
   "execution_count": 7,
   "metadata": {},
   "outputs": [
    {
     "name": "stdout",
     "output_type": "stream",
     "text": [
      "True\n"
     ]
    }
   ],
   "source": [
    "from abc import ABC , abstractmethod\n",
    "\n",
    "from traitlets import Bool\n",
    "class Animal(ABC):\n",
    "    @abstractmethod\n",
    "    def __init__(self) -> None:\n",
    "        super().__init__()\n",
    "        self.living_thing : bool = True\n",
    "\n",
    "class Cat(Animal):\n",
    "    def __init__(self) -> None:\n",
    "        super().__init__()        \n",
    "\n",
    "    \n",
    "\n",
    "isfhan : Cat = Cat()\n",
    "\n",
    "print(isfhan.living_thing)"
   ]
  },
  {
   "cell_type": "code",
   "execution_count": 9,
   "metadata": {},
   "outputs": [
    {
     "ename": "TypeError",
     "evalue": "Can't instantiate abstract class Cat without an implementation for abstract method 'eat'",
     "output_type": "error",
     "traceback": [
      "\u001b[1;31m---------------------------------------------------------------------------\u001b[0m",
      "\u001b[1;31mTypeError\u001b[0m                                 Traceback (most recent call last)",
      "Cell \u001b[1;32mIn[9], line 20\u001b[0m\n\u001b[0;32m     15\u001b[0m     \u001b[38;5;28;01mdef\u001b[39;00m \u001b[38;5;21m__init__\u001b[39m(\u001b[38;5;28mself\u001b[39m) \u001b[38;5;241m-\u001b[39m\u001b[38;5;241m>\u001b[39m \u001b[38;5;28;01mNone\u001b[39;00m:\n\u001b[0;32m     16\u001b[0m         \u001b[38;5;28msuper\u001b[39m()\u001b[38;5;241m.\u001b[39m\u001b[38;5;21m__init__\u001b[39m()        \n\u001b[1;32m---> 20\u001b[0m isfhan : Cat \u001b[38;5;241m=\u001b[39m Cat()\n\u001b[0;32m     22\u001b[0m \u001b[38;5;28mprint\u001b[39m(isfhan\u001b[38;5;241m.\u001b[39mliving_thing)\n",
      "\u001b[1;31mTypeError\u001b[0m: Can't instantiate abstract class Cat without an implementation for abstract method 'eat'"
     ]
    }
   ],
   "source": [
    "from abc import ABC , abstractmethod\n",
    "\n",
    "from traitlets import Bool\n",
    "class Animal(ABC):\n",
    "    @abstractmethod\n",
    "    def __init__(self) -> None:\n",
    "        super().__init__()\n",
    "        self.living_thing : bool = True\n",
    "\n",
    "    @abstractmethod\n",
    "    def eat(self,food):\n",
    "        ...    \n",
    "\n",
    "class Cat(Animal):\n",
    "    def __init__(self) -> None:\n",
    "        super().__init__()        \n",
    "\n",
    "    \n",
    "\n",
    "isfhan : Cat = Cat()\n",
    "\n",
    "print(isfhan.living_thing)"
   ]
  },
  {
   "cell_type": "code",
   "execution_count": 53,
   "metadata": {},
   "outputs": [
    {
     "name": "stdout",
     "output_type": "stream",
     "text": [
      "True\n"
     ]
    }
   ],
   "source": [
    "from abc import ABC , abstractmethod\n",
    "\n",
    "from traitlets import Bool\n",
    "class Animal(ABC):\n",
    "    @abstractmethod\n",
    "    def __init__(self) -> None:\n",
    "        super().__init__()\n",
    "        self.living_thing : bool = True\n",
    "\n",
    "    @abstractmethod\n",
    "    def eat(self,food):\n",
    "        ...    \n",
    "\n",
    "class Cat(Animal):\n",
    "    def __init__(self) -> None:\n",
    "        super().__init__()    \n",
    "\n",
    "    def eat(self,food:str):\n",
    "        return f\"Cat is eating {food}\"\n",
    "\n",
    "\n",
    "    \n",
    "\n",
    "isfhan : Cat = Cat()\n",
    "\n",
    "print(isfhan.living_thing)"
   ]
  },
  {
   "cell_type": "code",
   "execution_count": 11,
   "metadata": {},
   "outputs": [
    {
     "data": {
      "text/plain": [
       "'Cat is eating Mouse'"
      ]
     },
     "execution_count": 11,
     "metadata": {},
     "output_type": "execute_result"
    }
   ],
   "source": [
    "isfhan.eat('Mouse')"
   ]
  }
 ],
 "metadata": {
  "kernelspec": {
   "display_name": "Python 3",
   "language": "python",
   "name": "python3"
  },
  "language_info": {
   "codemirror_mode": {
    "name": "ipython",
    "version": 3
   },
   "file_extension": ".py",
   "mimetype": "text/x-python",
   "name": "python",
   "nbconvert_exporter": "python",
   "pygments_lexer": "ipython3",
   "version": "3.12.2"
  }
 },
 "nbformat": 4,
 "nbformat_minor": 2
}
