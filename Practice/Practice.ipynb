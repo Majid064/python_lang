{
 "cells": [
  {
   "cell_type": "code",
   "execution_count": 14,
   "metadata": {},
   "outputs": [
    {
     "name": "stdout",
     "output_type": "stream",
     "text": [
      "Epic\n",
      "Epic######\n",
      "______Epic\n",
      "...Epic...\n"
     ]
    }
   ],
   "source": [
    "text = 'Epic'\n",
    "\n",
    "print(f\"{text}\")\n",
    "print(f\"{text:#<10}\")\n",
    "print(f\"{text:_>10}\")\n",
    "print(f\"{text:.^10}\")\n",
    "\n",
    "# #<10 left-aligns \"Epic\" and pads with # to make the total length 10.\n",
    "# _>10 right-aligns \"Epic\" and pads with _ to make the total length 10.\n",
    "# .^10 center-aligns \"Epic\" and pads with . to make the total length 10."
   ]
  },
  {
   "cell_type": "code",
   "execution_count": 24,
   "metadata": {},
   "outputs": [
    {
     "name": "stdout",
     "output_type": "stream",
     "text": [
      "[0, 1, 2, 3, 4]\n"
     ]
    }
   ],
   "source": [
    "def simple_generator(n):\n",
    "    i = 0\n",
    "    while i < n:\n",
    "        yield i\n",
    "        i += 1\n",
    "\n",
    "# Using the generator\n",
    "gen = simple_generator(5)\n",
    "# for value in gen:\n",
    "#     print(value)\n",
    "\n",
    "print(list(gen))\n"
   ]
  },
  {
   "cell_type": "code",
   "execution_count": 22,
   "metadata": {},
   "outputs": [
    {
     "name": "stdout",
     "output_type": "stream",
     "text": [
      "0\n",
      "1\n",
      "4\n",
      "9\n",
      "16\n",
      "25\n",
      "36\n",
      "49\n",
      "64\n",
      "81\n"
     ]
    }
   ],
   "source": [
    "squares = (x * x for x in range(10))\n",
    "\n",
    "# Using the generator expression\n",
    "for value in squares:\n",
    "    print(value)\n"
   ]
  },
  {
   "cell_type": "code",
   "execution_count": 54,
   "metadata": {},
   "outputs": [
    {
     "name": "stdout",
     "output_type": "stream",
     "text": [
      "[0, 1, 4, 9, 16, 25, 36, 49, 64, 81]\n"
     ]
    }
   ],
   "source": [
    "def squares():\n",
    "    for x in range(10):\n",
    "        yield x * x\n",
    "\n",
    "# Using the generator function\n",
    "# for value in squares():\n",
    "#     print(value)\n",
    "\n",
    "print(list(squares()))\n"
   ]
  },
  {
   "cell_type": "code",
   "execution_count": 53,
   "metadata": {},
   "outputs": [
    {
     "name": "stdout",
     "output_type": "stream",
     "text": [
      "0\n",
      "1\n",
      "4\n",
      "9\n",
      "16\n",
      "25\n",
      "36\n",
      "49\n",
      "64\n",
      "81\n"
     ]
    }
   ],
   "source": [
    "def squares():\n",
    "    for x in range(10):\n",
    "        print(x * x) \n",
    "    \n",
    "squares()\n"
   ]
  },
  {
   "cell_type": "code",
   "execution_count": 25,
   "metadata": {},
   "outputs": [
    {
     "data": {
      "text/plain": [
       "True"
      ]
     },
     "execution_count": 25,
     "metadata": {},
     "output_type": "execute_result"
    }
   ],
   "source": [
    "string_variable = \"123456789\"\n",
    "\n",
    "string_variable.isalnum()"
   ]
  },
  {
   "cell_type": "code",
   "execution_count": 27,
   "metadata": {},
   "outputs": [
    {
     "data": {
      "text/plain": [
       "True"
      ]
     },
     "execution_count": 27,
     "metadata": {},
     "output_type": "execute_result"
    }
   ],
   "source": [
    "string_variable = \"abcdefgh\"\n",
    "\n",
    "string_variable.isalpha()"
   ]
  },
  {
   "cell_type": "code",
   "execution_count": 28,
   "metadata": {},
   "outputs": [
    {
     "data": {
      "text/plain": [
       "True"
      ]
     },
     "execution_count": 28,
     "metadata": {},
     "output_type": "execute_result"
    }
   ],
   "source": [
    "string_variable = \"abcdefgh\"\n",
    "\n",
    "string_variable.islower()"
   ]
  },
  {
   "cell_type": "code",
   "execution_count": 29,
   "metadata": {},
   "outputs": [
    {
     "data": {
      "text/plain": [
       "'abcdefgh'"
      ]
     },
     "execution_count": 29,
     "metadata": {},
     "output_type": "execute_result"
    }
   ],
   "source": [
    "string_variable = \"     abcdefgh     \"\n",
    "\n",
    "string_variable.strip()"
   ]
  },
  {
   "cell_type": "code",
   "execution_count": 32,
   "metadata": {},
   "outputs": [
    {
     "data": {
      "text/plain": [
       "[10, 9, 8, 7, 6, 5, 4, 3, 2, 1]"
      ]
     },
     "execution_count": 32,
     "metadata": {},
     "output_type": "execute_result"
    }
   ],
   "source": [
    "l1 = [1,2,3,4,5,6,7,8,9,10]\n",
    "\n",
    "l1.reverse()\n",
    "\n",
    "l1"
   ]
  },
  {
   "cell_type": "code",
   "execution_count": 35,
   "metadata": {},
   "outputs": [
    {
     "data": {
      "text/plain": [
       "[10, 9, 8, 7, 6, 5, 4, 3, 2, 1]"
      ]
     },
     "execution_count": 35,
     "metadata": {},
     "output_type": "execute_result"
    }
   ],
   "source": [
    "l1 = [1,2,3,4,5,6,7,8,9,10]\n",
    "\n",
    "list.reverse(l1)\n",
    "\n",
    "l1"
   ]
  },
  {
   "cell_type": "code",
   "execution_count": 37,
   "metadata": {},
   "outputs": [
    {
     "data": {
      "text/plain": [
       "[1, 2, 3, 4, 5, 6, 7, 8, 9, 10]"
      ]
     },
     "execution_count": 37,
     "metadata": {},
     "output_type": "execute_result"
    }
   ],
   "source": [
    "l1 = [1,2,3,4,5,6,7,8,9,10]\n",
    "\n",
    "list.sort(l1)\n",
    "\n",
    "l1"
   ]
  },
  {
   "cell_type": "code",
   "execution_count": 39,
   "metadata": {},
   "outputs": [
    {
     "data": {
      "text/plain": [
       "[10, 9, 8, 7, 6, 5, 4, 3, 2, 1]"
      ]
     },
     "execution_count": 39,
     "metadata": {},
     "output_type": "execute_result"
    }
   ],
   "source": [
    "l1 = [1,2,3,4,5,6,7,8,9,10]\n",
    "\n",
    "list.sort(l1, reverse= True)\n",
    "\n",
    "l1"
   ]
  },
  {
   "cell_type": "code",
   "execution_count": 41,
   "metadata": {},
   "outputs": [
    {
     "data": {
      "text/plain": [
       "[1, 2, 3, 4, 5, 6, 7, 8, 9, 10]"
      ]
     },
     "execution_count": 41,
     "metadata": {},
     "output_type": "execute_result"
    }
   ],
   "source": [
    "l2 = [10, 9, 8, 7, 6, 5, 4, 3, 2, 1]\n",
    "\n",
    "list.sort(l2)\n",
    "\n",
    "l2"
   ]
  },
  {
   "cell_type": "code",
   "execution_count": 42,
   "metadata": {},
   "outputs": [
    {
     "data": {
      "text/plain": [
       "[1, 3, 4, 5, 6, 7, 7, 8, 9]"
      ]
     },
     "execution_count": 42,
     "metadata": {},
     "output_type": "execute_result"
    }
   ],
   "source": [
    "l3 = [8,4,1,9,7,3,5,6,7]\n",
    "\n",
    "list.sort(l3)\n",
    "\n",
    "l3"
   ]
  },
  {
   "cell_type": "code",
   "execution_count": 55,
   "metadata": {},
   "outputs": [
    {
     "data": {
      "text/plain": [
       "'Hafizabad'"
      ]
     },
     "execution_count": 55,
     "metadata": {},
     "output_type": "execute_result"
    }
   ],
   "source": [
    "mydict = {\n",
    "    'name' : \"Majid Ali\",\n",
    "    \"fname\" : \"Haji Muneer Ahmed\",\n",
    "    \"city\" : \"Hafizabad\"\n",
    "\n",
    "}\n",
    "\n",
    "mydict.get('city')"
   ]
  },
  {
   "cell_type": "code",
   "execution_count": 56,
   "metadata": {},
   "outputs": [],
   "source": [
    "mydict.get('country')"
   ]
  },
  {
   "cell_type": "code",
   "execution_count": 57,
   "metadata": {},
   "outputs": [
    {
     "data": {
      "text/plain": [
       "'Not available'"
      ]
     },
     "execution_count": 57,
     "metadata": {},
     "output_type": "execute_result"
    }
   ],
   "source": [
    "mydict.get('country', 'Not available')"
   ]
  },
  {
   "cell_type": "code",
   "execution_count": 49,
   "metadata": {},
   "outputs": [
    {
     "data": {
      "text/plain": [
       "dict_items([('name', 'Majid Ali'), ('fname', 'Haji Muneer Ahmed'), ('city', 'Hafizabad')])"
      ]
     },
     "execution_count": 49,
     "metadata": {},
     "output_type": "execute_result"
    }
   ],
   "source": [
    "mydict.items()"
   ]
  },
  {
   "cell_type": "code",
   "execution_count": 50,
   "metadata": {},
   "outputs": [
    {
     "data": {
      "text/plain": [
       "dict_keys(['name', 'fname', 'city'])"
      ]
     },
     "execution_count": 50,
     "metadata": {},
     "output_type": "execute_result"
    }
   ],
   "source": [
    "mydict.keys()"
   ]
  },
  {
   "cell_type": "code",
   "execution_count": 52,
   "metadata": {},
   "outputs": [
    {
     "data": {
      "text/plain": [
       "dict_values(['Majid Ali', 'Haji Muneer Ahmed', 'Hafizabad'])"
      ]
     },
     "execution_count": 52,
     "metadata": {},
     "output_type": "execute_result"
    }
   ],
   "source": [
    "mydict.values()"
   ]
  },
  {
   "cell_type": "code",
   "execution_count": 55,
   "metadata": {},
   "outputs": [
    {
     "name": "stdout",
     "output_type": "stream",
     "text": [
      "20  is greatest\n"
     ]
    }
   ],
   "source": [
    "a=15\n",
    "b=20\n",
    "c=12\n",
    "if(a>b and a>c):\n",
    "      print(a,\"is greatest\")\n",
    "elif(b>c and b>a):\n",
    "      print(b,\" is greatest\")\n",
    "else:\n",
    "    print(c,\"is greatest\")\n"
   ]
  },
  {
   "cell_type": "markdown",
   "metadata": {},
   "source": [
    "for <variable> in <sequence>:\n",
    "    statements_to_repeat"
   ]
  },
  {
   "cell_type": "code",
   "execution_count": 57,
   "metadata": {},
   "outputs": [
    {
     "name": "stdout",
     "output_type": "stream",
     "text": [
      "1\n",
      "11\n",
      "21\n",
      "31\n",
      "41\n",
      "51\n",
      "61\n",
      "71\n",
      "81\n",
      "91\n",
      "101\n"
     ]
    }
   ],
   "source": [
    "for i in range(1,102,10):\n",
    "           print(i)"
   ]
  },
  {
   "cell_type": "markdown",
   "metadata": {},
   "source": [
    "while <logical-expression>:\n",
    "    loop-body"
   ]
  },
  {
   "cell_type": "code",
   "execution_count": 59,
   "metadata": {},
   "outputs": [
    {
     "name": "stdout",
     "output_type": "stream",
     "text": [
      "0\n",
      "10\n",
      "20\n",
      "30\n",
      "40\n",
      "50\n",
      "60\n",
      "70\n",
      "80\n",
      "90\n",
      "100\n"
     ]
    }
   ],
   "source": [
    "i=0\n",
    "while(i<=101):\n",
    "        print(i)\n",
    "        i=i+10"
   ]
  },
  {
   "cell_type": "code",
   "execution_count": 59,
   "metadata": {},
   "outputs": [
    {
     "name": "stdout",
     "output_type": "stream",
     "text": [
      "Rust\n",
      "Python\n"
     ]
    }
   ],
   "source": [
    "class Employee:\n",
    "    language = \"Python\"         # class attributes\n",
    "    salary = 120000\n",
    "\n",
    "harry = Employee()\n",
    "\n",
    "harry.language = \"Rust\"         # instance attributes\n",
    "                                # Instance attributes, take preference over class attributes during assignment &\n",
    "                                # retrieval\n",
    "print(harry.language)\n",
    "\n",
    "print(Employee.language)\n"
   ]
  },
  {
   "cell_type": "code",
   "execution_count": 68,
   "metadata": {},
   "outputs": [
    {
     "name": "stdout",
     "output_type": "stream",
     "text": [
      "The language is Python and salary is 120000\n"
     ]
    }
   ],
   "source": [
    "class Employee:\n",
    "    language = \"Python\"         # class attributes\n",
    "    salary = 120000\n",
    "\n",
    "    def info(self):\n",
    "        print(f\"The language is {self.language} and salary is {self.salary}\")    \n",
    "\n",
    "harry = Employee()\n",
    "\n",
    "# harry.info()\n",
    "\n",
    "Employee.info(harry)"
   ]
  },
  {
   "cell_type": "code",
   "execution_count": 60,
   "metadata": {},
   "outputs": [
    {
     "ename": "TypeError",
     "evalue": "Greeting.greet() takes 0 positional arguments but 1 was given",
     "output_type": "error",
     "traceback": [
      "\u001b[1;31m---------------------------------------------------------------------------\u001b[0m",
      "\u001b[1;31mTypeError\u001b[0m                                 Traceback (most recent call last)",
      "Cell \u001b[1;32mIn[60], line 8\u001b[0m\n\u001b[0;32m      5\u001b[0m g1 \u001b[38;5;241m=\u001b[39m Greeting()\n\u001b[0;32m      7\u001b[0m \u001b[38;5;66;03m# g1.greet()\u001b[39;00m\n\u001b[1;32m----> 8\u001b[0m Greeting\u001b[38;5;241m.\u001b[39mgreet(g1)\n",
      "\u001b[1;31mTypeError\u001b[0m: Greeting.greet() takes 0 positional arguments but 1 was given"
     ]
    }
   ],
   "source": [
    "class Greeting:\n",
    "    def greet():\n",
    "        print(\"Good Morning!\")\n",
    "\n",
    "g1 = Greeting()\n",
    "\n",
    "# g1.greet()\n",
    "Greeting.greet(g1)"
   ]
  },
  {
   "cell_type": "code",
   "execution_count": 61,
   "metadata": {},
   "outputs": [
    {
     "name": "stdout",
     "output_type": "stream",
     "text": [
      "Good Morning!\n"
     ]
    }
   ],
   "source": [
    "class Greeting:\n",
    "    def greet(self):\n",
    "        print(\"Good Morning!\")\n",
    "\n",
    "g1 = Greeting()\n",
    "\n",
    "# g1.greet()\n",
    "Greeting.greet(g1)"
   ]
  },
  {
   "cell_type": "code",
   "execution_count": 75,
   "metadata": {},
   "outputs": [
    {
     "name": "stdout",
     "output_type": "stream",
     "text": [
      "I am learning python\n",
      "Good Morning!\n",
      "I am learning python\n"
     ]
    }
   ],
   "source": [
    "class Greeting:\n",
    "    @staticmethod\n",
    "    def greet():\n",
    "        print(\"Good Morning!\")\n",
    "\n",
    "    def __init__(self) :       # __init__ (dunder method) which is automatically called when object is created\n",
    "        print(\"I am learning python\")\n",
    "\n",
    "g1 = Greeting()\n",
    "\n",
    "# g1.greet()\n",
    "Greeting.greet()\n",
    "\n",
    "g2 = Greeting()"
   ]
  },
  {
   "cell_type": "markdown",
   "metadata": {},
   "source": [
    "self refers to the instance of the class. It is automatically passed with a function call\n",
    "from an object"
   ]
  },
  {
   "cell_type": "code",
   "execution_count": 72,
   "metadata": {},
   "outputs": [
    {
     "name": "stdout",
     "output_type": "stream",
     "text": [
      "Salary is not there\n"
     ]
    }
   ],
   "source": [
    "class Employee:\n",
    "    company = \"Google\"\n",
    "    def getSalary(self):\n",
    "        print(\"Salary is not there\")\n",
    "\n",
    "harry = Employee()        \n",
    "\n",
    "harry.getSalary() # here self is harry\n",
    "# equivalent to Employee.getSalary(harry)"
   ]
  },
  {
   "cell_type": "markdown",
   "metadata": {},
   "source": [
    "Create a class “Programmer” for storing information of few programmers\n",
    "working at Microsoft"
   ]
  },
  {
   "cell_type": "code",
   "execution_count": 77,
   "metadata": {},
   "outputs": [
    {
     "name": "stdout",
     "output_type": "stream",
     "text": [
      "Majid 120000 12345\n",
      "Sajid 50000 5489\n"
     ]
    }
   ],
   "source": [
    "class Programmer:\n",
    "    def __init__(self,name,salary,pin):\n",
    "        self.name = name\n",
    "        self.salary = salary\n",
    "        self.pin = pin\n",
    "\n",
    "p1 = Programmer(\"Majid\",120000,12345)\n",
    "p2 = Programmer(\"Sajid\",50000, 5489)\n",
    "\n",
    "print(p1.name,p1.salary,p1.pin)\n",
    "print(p2.name,p2.salary,p2.pin)\n"
   ]
  },
  {
   "cell_type": "markdown",
   "metadata": {},
   "source": [
    "Write a class “Calculator” capable of finding square, cube and square root of a\n",
    "number."
   ]
  },
  {
   "cell_type": "code",
   "execution_count": 62,
   "metadata": {},
   "outputs": [
    {
     "name": "stdout",
     "output_type": "stream",
     "text": [
      "the square is 1296\n",
      "the cube is 46656\n",
      "the square root is 6.0\n"
     ]
    }
   ],
   "source": [
    "class Calculator:\n",
    "    def __init__(self,n):\n",
    "        self.n = n\n",
    "\n",
    "    def square(self):\n",
    "        print(f\"the square is {self.n * self.n}\")\n",
    "\n",
    "    def cube(self):\n",
    "        print(f\"the cube is {self.n * self.n * self.n}\")\n",
    "\n",
    "    def square_root(self):\n",
    "        print(f\"the square root is {self.n**0.5}\")\n",
    "        \n",
    "\n",
    "c = Calculator(36)\n",
    "\n",
    "c.square()\n",
    "c.cube()\n",
    "c.square_root()"
   ]
  },
  {
   "cell_type": "markdown",
   "metadata": {},
   "source": [
    "Create a class with a class attribute a; create an object from it and set ‘a’\n",
    "directly using ‘object.a = 0’. Does this change the class attribute?"
   ]
  },
  {
   "cell_type": "code",
   "execution_count": 1,
   "metadata": {},
   "outputs": [
    {
     "name": "stdout",
     "output_type": "stream",
     "text": [
      "4\n",
      "0\n",
      "4\n"
     ]
    }
   ],
   "source": [
    "class Demo:\n",
    "    a = 4\n",
    "\n",
    "o = Demo()\n",
    "print(o.a)  # print class attribute bcoz instance attribute is not present\n",
    "\n",
    "o.a = 0 # instance attribure is set\n",
    "print(o.a) # print instance attribute bcoz instance attribute is present\n",
    "\n",
    "print(Demo.a)  # print the class attribure\n",
    "\n"
   ]
  },
  {
   "cell_type": "code",
   "execution_count": 20,
   "metadata": {},
   "outputs": [
    {
     "name": "stdout",
     "output_type": "stream",
     "text": [
      "4\n",
      "0\n",
      "0\n"
     ]
    }
   ],
   "source": [
    "class Demo:\n",
    "    _a = 4  # Using a private class attribute\n",
    "\n",
    "    def __init__(self):\n",
    "        self._a = Demo._a  # Initialize instance attribute from class attribute\n",
    "\n",
    "    @property\n",
    "    def a(self):\n",
    "        return self._a\n",
    "\n",
    "    @a.setter\n",
    "    def a(self, value):\n",
    "        self._a = value\n",
    "        Demo._a = value  # Update the class attribute whenever instance attribute is set\n",
    "\n",
    "# Testing the code\n",
    "o = Demo()\n",
    "print(o.a)  # prints the instance attribute (initialized to the class attribute value)\n",
    "\n",
    "o.a = 0  # sets the instance attribute and updates the class attribute\n",
    "print(o.a)  # prints the updated instance attribute\n",
    "\n",
    "print(Demo._a)  # prints the updated class attribute\n"
   ]
  },
  {
   "cell_type": "markdown",
   "metadata": {},
   "source": [
    "Add a static method in problem 2, to greet the user with hello"
   ]
  },
  {
   "cell_type": "code",
   "execution_count": 24,
   "metadata": {},
   "outputs": [
    {
     "name": "stdout",
     "output_type": "stream",
     "text": [
      "Hello there!\n",
      "the square is 1296\n",
      "the cube is 46656\n",
      "the square root is 6.0\n"
     ]
    }
   ],
   "source": [
    "class Calculator:\n",
    "    def __init__(self,n):\n",
    "        self.n = n\n",
    "\n",
    "    def square(self):\n",
    "        print(f\"the square is {self.n * self.n}\")\n",
    "\n",
    "    def cube(self):\n",
    "        print(f\"the cube is {self.n * self.n * self.n}\")\n",
    "\n",
    "    def square_root(self):\n",
    "        print(f\"the square root is {self.n**0.5}\")\n",
    "\n",
    "    @staticmethod\n",
    "    def hello():\n",
    "        print(\"Hello there!\")\n",
    "        \n",
    "\n",
    "c = Calculator(36)\n",
    "\n",
    "c.hello()\n",
    "c.square()\n",
    "c.cube()\n",
    "c.square_root()"
   ]
  },
  {
   "cell_type": "markdown",
   "metadata": {},
   "source": [
    "Write a Class ‘Train’ which has methods to book a ticket, get status (no of seats)\n",
    "and get fare information of train running under Indian Railways."
   ]
  },
  {
   "cell_type": "code",
   "execution_count": 26,
   "metadata": {},
   "outputs": [
    {
     "name": "stdout",
     "output_type": "stream",
     "text": [
      "ticket is booked in train no: 12399 form rampur to Delhi\n",
      "ticket fare in train no: 12399 form mumbai to Ram Kishan is 2379\n"
     ]
    }
   ],
   "source": [
    "from random import randint\n",
    "\n",
    "class Train():\n",
    "    def __init__(self,trainNo):\n",
    "        self.trainNo = trainNo \n",
    "\n",
    "    def book(self , fro , to):\n",
    "        print(f\"ticket is booked in train no: {self.trainNo} form {fro} to {to}\")\n",
    "\n",
    "    def getStatus(self):\n",
    "        print(f\"The train no: {self.trainNo} is running successfully\")\n",
    "\n",
    "    def getFare(self , fro , to):\n",
    "        print(f\"ticket fare in train no: {self.trainNo} form {fro} to {to} is {randint(222,5555)}\")\n",
    "\n",
    "t = Train(12399)\n",
    "\n",
    "t.book('rampur','Delhi')\n",
    "\n",
    "t.getFare(\"mumbai\", \"Ram Kishan\")"
   ]
  },
  {
   "cell_type": "markdown",
   "metadata": {},
   "source": [
    "# Inheritance   chap 11"
   ]
  },
  {
   "cell_type": "code",
   "execution_count": 31,
   "metadata": {},
   "outputs": [
    {
     "name": "stdout",
     "output_type": "stream",
     "text": [
      "ITC , ITC infoTec\n"
     ]
    }
   ],
   "source": [
    "class Employee:\n",
    "    comapany = \"ITC\"\n",
    "\n",
    "    def show(self):\n",
    "        print(f\"The name is {self.name} and the salary is {self.salary}\")\n",
    "\n",
    "class Programmer:\n",
    "    company = \"ITC infoTec\"\n",
    "\n",
    "    def show(self):\n",
    "        print(f\"The name is {self.name} and the salary is {self.salary}\")\n",
    "\n",
    "    def language(self):\n",
    "        print(f\"the name is {self.name} and he is good with {self.language} language\")     \n",
    "\n",
    "\n",
    "e = Employee()\n",
    "p = Programmer()\n",
    "\n",
    "print(e.comapany, \",\" ,p.company)"
   ]
  },
  {
   "cell_type": "code",
   "execution_count": 36,
   "metadata": {},
   "outputs": [
    {
     "name": "stdout",
     "output_type": "stream",
     "text": [
      "1\n",
      "2\n",
      "3\n"
     ]
    }
   ],
   "source": [
    "class Employee:\n",
    "    a = 1\n",
    "\n",
    "class Coder:\n",
    "    b = 2\n",
    "\n",
    "class Programmer:\n",
    "    c = 3\n",
    "\n",
    "e = Employee()\n",
    "print(e.a)\n",
    "\n",
    "c = Coder()\n",
    "print(c.b)\n",
    "\n",
    "p = Programmer()\n",
    "print(p.c)\n",
    "\n"
   ]
  },
  {
   "cell_type": "code",
   "execution_count": 48,
   "metadata": {},
   "outputs": [
    {
     "name": "stdout",
     "output_type": "stream",
     "text": [
      "1\n",
      "1 2\n",
      "1 2 3\n"
     ]
    }
   ],
   "source": [
    "class Employee:\n",
    "    a = 1\n",
    "\n",
    "class Coder(Employee):\n",
    "    b = 2\n",
    "\n",
    "class Programmer(Coder):\n",
    "    c = 3\n",
    "\n",
    "o = Employee()\n",
    "print(o.a)\n",
    "\n",
    "o = Coder()\n",
    "print(o.a ,o.b )\n",
    "\n",
    "o = Programmer()\n",
    "print(o.a,o.b, o.c)"
   ]
  },
  {
   "cell_type": "code",
   "execution_count": 45,
   "metadata": {},
   "outputs": [
    {
     "name": "stdout",
     "output_type": "stream",
     "text": [
      "Constructor of Programmer\n",
      "Constructor of Manger\n",
      "1 2 3\n"
     ]
    }
   ],
   "source": [
    "class Employee:\n",
    "    def __init__(self):\n",
    "        print(\"Constructor of Employee\")\n",
    "    a = 1\n",
    "\n",
    "class Programmer(Employee):\n",
    "    def __init__(self):\n",
    "        print(\"Constructor of Programmer\")\n",
    "    b = 2\n",
    "\n",
    "class Manager(Programmer):\n",
    "    def __init__(self):\n",
    "        super().__init__()\n",
    "        print(\"Constructor of Manger\")\n",
    "    c = 3\n",
    "\n",
    "# o = Employee()\n",
    "# print(o.a)\n",
    "\n",
    "# o = Programmer()\n",
    "# print(o.a, o.b)\n",
    "\n",
    "o = Manager()\n",
    "print(o.a,o.b,o.c)"
   ]
  },
  {
   "cell_type": "markdown",
   "metadata": {},
   "source": [
    "# class method"
   ]
  },
  {
   "cell_type": "code",
   "execution_count": 5,
   "metadata": {},
   "outputs": [
    {
     "name": "stdout",
     "output_type": "stream",
     "text": [
      "the class value of a is 45\n"
     ]
    }
   ],
   "source": [
    "class Employee:\n",
    "    a = 1          # class attribute\n",
    "    def show(self):\n",
    "        print(f\"the class value of a is {self.a}\")\n",
    "\n",
    "e = Employee()\n",
    "\n",
    "e.a = 45       # instance attribure\n",
    "e.show()\n"
   ]
  },
  {
   "cell_type": "code",
   "execution_count": 6,
   "metadata": {},
   "outputs": [
    {
     "name": "stdout",
     "output_type": "stream",
     "text": [
      "the class value of a is 1\n"
     ]
    }
   ],
   "source": [
    "class Employee:\n",
    "    a = 1          # class attribute\n",
    "\n",
    "    @classmethod\n",
    "    def show(cls):\n",
    "        print(f\"the class value of a is {cls.a}\")\n",
    "\n",
    "e = Employee()\n",
    "\n",
    "e.a = 45       # instance attribure\n",
    "e.show()"
   ]
  },
  {
   "cell_type": "code",
   "execution_count": 9,
   "metadata": {},
   "outputs": [
    {
     "data": {
      "text/plain": [
       "['Majid', 'Ali']"
      ]
     },
     "execution_count": 9,
     "metadata": {},
     "output_type": "execute_result"
    }
   ],
   "source": [
    "z = \"Majid Ali\"\n",
    "\n",
    "z.split(\" \")"
   ]
  },
  {
   "cell_type": "markdown",
   "metadata": {},
   "source": [
    "# property decorator, Encapsulation, Abstraction"
   ]
  },
  {
   "cell_type": "code",
   "execution_count": 16,
   "metadata": {},
   "outputs": [
    {
     "name": "stdout",
     "output_type": "stream",
     "text": [
      "Harry potter\n",
      "the class value of a is 1\n"
     ]
    }
   ],
   "source": [
    "class Employee:\n",
    "    a = 1          # class attribute\n",
    "\n",
    "    @classmethod\n",
    "    def show(cls):\n",
    "        print(f\"the class value of a is {cls.a}\")\n",
    "\n",
    "    @property\n",
    "    def name(self):\n",
    "        return self.ename\n",
    "    \n",
    "    @name.setter\n",
    "    def name(self,value):\n",
    "        self.ename = value\n",
    "e = Employee()\n",
    "e.a = 45 \n",
    "\n",
    "e.name = \"Harry potter\"\n",
    "print(e.name)  \n",
    "\n",
    "e.show()"
   ]
  },
  {
   "cell_type": "markdown",
   "metadata": {},
   "source": [
    "# @property"
   ]
  },
  {
   "cell_type": "code",
   "execution_count": 15,
   "metadata": {},
   "outputs": [
    {
     "name": "stdout",
     "output_type": "stream",
     "text": [
      "Harry Khan\n"
     ]
    }
   ],
   "source": [
    "class Employee:\n",
    "    \n",
    "    @property\n",
    "    def name(self):\n",
    "        return f\"{self.fname} {self.lname}\"\n",
    "    \n",
    "    @name.setter\n",
    "    def name(self,value):\n",
    "        self.fname = value.split()[0]\n",
    "        self.lname = value.split()[1]\n",
    "e = Employee()\n",
    "\n",
    "e.name = \"Harry Khan\"\n",
    "print(e.name)  \n"
   ]
  },
  {
   "cell_type": "markdown",
   "metadata": {},
   "source": [
    "# Operator overloading"
   ]
  },
  {
   "cell_type": "code",
   "execution_count": 18,
   "metadata": {},
   "outputs": [
    {
     "ename": "TypeError",
     "evalue": "unsupported operand type(s) for +: 'Number' and 'Number'",
     "output_type": "error",
     "traceback": [
      "\u001b[1;31m---------------------------------------------------------------------------\u001b[0m",
      "\u001b[1;31mTypeError\u001b[0m                                 Traceback (most recent call last)",
      "Cell \u001b[1;32mIn[18], line 8\u001b[0m\n\u001b[0;32m      5\u001b[0m n \u001b[38;5;241m=\u001b[39m Number(\u001b[38;5;241m1\u001b[39m)\n\u001b[0;32m      6\u001b[0m m \u001b[38;5;241m=\u001b[39m Number(\u001b[38;5;241m2\u001b[39m)\n\u001b[1;32m----> 8\u001b[0m \u001b[38;5;28mprint\u001b[39m(n \u001b[38;5;241m+\u001b[39m m)\n",
      "\u001b[1;31mTypeError\u001b[0m: unsupported operand type(s) for +: 'Number' and 'Number'"
     ]
    }
   ],
   "source": [
    "class Number:\n",
    "    def __init__(self,n):\n",
    "        self.n = n\n",
    "\n",
    "n = Number(1)\n",
    "m = Number(2)\n",
    "\n",
    "print(n + m)\n"
   ]
  },
  {
   "cell_type": "code",
   "execution_count": 37,
   "metadata": {},
   "outputs": [
    {
     "name": "stdout",
     "output_type": "stream",
     "text": [
      "30\n"
     ]
    }
   ],
   "source": [
    "class Number:\n",
    "    def __init__(self,n):\n",
    "        self.n = n\n",
    "\n",
    "    def __add__(self,num):     \n",
    "        return self.n + num.n\n",
    "\n",
    "n = Number(10)\n",
    "m = Number(20)\n",
    "\n",
    "print(n + m) # This expression calls the __add__ method, passing n as self and m as num.\n",
    "\n",
    "\"\"\" \n",
    "__add__ Method: This special method is used to define the behavior of the + operator for instances of the class. \n",
    "It takes two instances of Number and returns the sum of their n attributes.\n",
    "\"\"\""
   ]
  },
  {
   "cell_type": "code",
   "execution_count": 35,
   "metadata": {},
   "outputs": [
    {
     "name": "stdout",
     "output_type": "stream",
     "text": [
      "30\n"
     ]
    }
   ],
   "source": [
    "class Number:\n",
    "    def __init__(self,d):\n",
    "        self.d = d\n",
    "\n",
    "    def __add__(self,num):\n",
    "        return self.d + num.d\n",
    "\n",
    "y = Number(10)\n",
    "z = Number(20)\n",
    "\n",
    "print(y + z)"
   ]
  },
  {
   "cell_type": "markdown",
   "metadata": {},
   "source": [
    "Create a class (2-D vector) and use it to create another class representing a 3-D\n",
    "vector."
   ]
  },
  {
   "cell_type": "code",
   "execution_count": 1,
   "metadata": {},
   "outputs": [
    {
     "name": "stdout",
     "output_type": "stream",
     "text": [
      "the vector is 2i + 4j\n",
      "the vector is 1i + 3j + 5k\n"
     ]
    }
   ],
   "source": [
    "class TwoVector:\n",
    "    def __init__(self,i,j):\n",
    "        self.i = i\n",
    "        self.j = j\n",
    "\n",
    "    def show(self):\n",
    "        print(f\"the vector is {self.i}i + {self.j}j\")\n",
    "\n",
    "class ThreeVector(TwoVector):\n",
    "    def __init__(self,i,j,k):\n",
    "        super().__init__(i,j)\n",
    "        self.k = k\n",
    "\n",
    "    def show(self):\n",
    "        print(f\"the vector is {self.i}i + {self.j}j + {self.k}k\")\n",
    "\n",
    "a = TwoVector(2,4)\n",
    "a.show()\n",
    "\n",
    "b = ThreeVector(1,3,5)\n",
    "b.show()\n"
   ]
  },
  {
   "cell_type": "markdown",
   "metadata": {},
   "source": [
    "2. Create a class ‘Pets’ from a class ‘Animals’ and further create a class ‘Dog’ from\n",
    "‘Pets’. Add a method ‘bark’ to class ‘Dog’."
   ]
  },
  {
   "cell_type": "code",
   "execution_count": 8,
   "metadata": {},
   "outputs": [
    {
     "name": "stdout",
     "output_type": "stream",
     "text": [
      " Bow Bow!\n"
     ]
    }
   ],
   "source": [
    "class Animals:\n",
    "    pass\n",
    "\n",
    "class Pets(Animals):\n",
    "    pass\n",
    "\n",
    "class Dog(Pets):\n",
    "    @staticmethod\n",
    "    def bark():\n",
    "        print(\" Bow Bow!\")\n",
    "\n",
    "d = Dog()\n",
    "d.bark()"
   ]
  },
  {
   "cell_type": "markdown",
   "metadata": {},
   "source": [
    "3. Create a class ‘Employee’ and add salary and increment properties to it. Write a method ‘salaryAfterIncrement’ method with a @property decorator with a setter\n",
    "which changes the value of increment based on the salary."
   ]
  },
  {
   "cell_type": "code",
   "execution_count": 9,
   "metadata": {},
   "outputs": [],
   "source": [
    "class Employee:\n",
    "    pass\n",
    "\n",
    "e = Employee()\n",
    "e.salary = 234\n",
    "e.increment = 80"
   ]
  },
  {
   "cell_type": "code",
   "execution_count": null,
   "metadata": {},
   "outputs": [],
   "source": [
    "class Employee:\n",
    "    salary = 234\n",
    "    increment = 80\n",
    "\n",
    "e = Employee()\n"
   ]
  },
  {
   "cell_type": "code",
   "execution_count": 17,
   "metadata": {},
   "outputs": [
    {
     "name": "stdout",
     "output_type": "stream",
     "text": [
      "80\n",
      "234\n",
      "19.999999999999996\n"
     ]
    },
    {
     "data": {
      "text/plain": [
       "280.8"
      ]
     },
     "execution_count": 17,
     "metadata": {},
     "output_type": "execute_result"
    }
   ],
   "source": [
    "class Employee:\n",
    "    salary = 234\n",
    "    increment = 80\n",
    "\n",
    "    @property             # Getter\n",
    "    def SalaryAfterIncrement(self):\n",
    "        return (self.salary + self.salary * (self.increment/100))\n",
    "    \n",
    "    @SalaryAfterIncrement.setter\n",
    "    def SalaryAfterIncrement(self,salary):\n",
    "        self.increment = ((salary / self.salary) - 1 ) * 100\n",
    " \n",
    "e = Employee()            # Setter\n",
    "print(e.increment)\n",
    "\n",
    "e.SalaryAfterIncrement = 280.8\n",
    "print(e.salary)\n",
    "print(e.increment)\n",
    "e.SalaryAfterIncrement"
   ]
  },
  {
   "cell_type": "markdown",
   "metadata": {},
   "source": [
    "Write a class ‘Complex’ to represent complex numbers, along with overloaded\n",
    "operators ‘+’ and ‘*’ which adds and multiplies them."
   ]
  },
  {
   "cell_type": "code",
   "execution_count": 1,
   "metadata": {},
   "outputs": [
    {
     "name": "stdout",
     "output_type": "stream",
     "text": [
      "<__main__.Complex object at 0x0000028FD1E42270>\n"
     ]
    }
   ],
   "source": [
    "class Complex:\n",
    "    def __init__(self, r,i):\n",
    "        self.r = r\n",
    "        self.i = i\n",
    "\n",
    "    def __add__(self,n2):\n",
    "        return Complex(self.r + n2.r , self.i + n2.i)\n",
    "    \n",
    "\n",
    "n1 = Complex(1,2)\n",
    "n2 = Complex(3,4)\n",
    "\n",
    "print(n1 + n2)\n",
    "        "
   ]
  },
  {
   "cell_type": "code",
   "execution_count": 5,
   "metadata": {},
   "outputs": [
    {
     "name": "stdout",
     "output_type": "stream",
     "text": [
      "4 + 6i\n",
      "-5 + 10i\n"
     ]
    }
   ],
   "source": [
    "class Complex:\n",
    "    def __init__(self, r, i):\n",
    "        self.r = r\n",
    "        self.i = i\n",
    "\n",
    "    def __add__(self, n2):\n",
    "        # Adds two Complex objects and returns a new Complex object\n",
    "        return Complex(self.r + n2.r, self.i + n2.i)\n",
    "    \n",
    "    def __mul__(self, other):\n",
    "        real_part = self.r * other.r - self.i * other.i\n",
    "        imaginary_part = self.r * other.i + self.i * other.r\n",
    "        return Complex(real_part, imaginary_part)\n",
    "    \n",
    "    def __str__(self):\n",
    "        # Returns a string representation of the Complex object\n",
    "        return f\"{self.r} + {self.i}i\"\n",
    "\n",
    "# Create two Complex objects\n",
    "n1 = Complex(1, 2)\n",
    "n2 = Complex(3, 4)\n",
    "\n",
    "# Add the two Complex objects and print the result\n",
    "print(n1 + n2)  # Outputs: 4 + 6i\n",
    "\n",
    "print(n1 * n2)\n"
   ]
  },
  {
   "cell_type": "markdown",
   "metadata": {},
   "source": [
    "Write a class vector representing a vector of n dimensions. Overload the + and *\n",
    "operator which calculates the sum and the dot(.) product of them."
   ]
  },
  {
   "cell_type": "code",
   "execution_count": 11,
   "metadata": {},
   "outputs": [
    {
     "name": "stdout",
     "output_type": "stream",
     "text": [
      "12, 15, 18\n",
      "32\n"
     ]
    }
   ],
   "source": [
    "class Vector:\n",
    "    def __init__(self,x,y,z):\n",
    "        self.x = x\n",
    "        self.y = y\n",
    "        self.z = z\n",
    "\n",
    "    def __add__(self,other):\n",
    "        return Vector(self.x + other.x , self.y + other.y , self.z + other.z)\n",
    "    \n",
    "    def __mul__(self,other):\n",
    "        return self.x * other.x + self.y * other.y + self.z * other.z\n",
    "    \n",
    "    def __str__(self):\n",
    "        return f\"{self.x}, {self.y}, {self.z}\"\n",
    "    \n",
    "v1 = Vector(1,2,3)\n",
    "v2 = Vector(4,5,6)\n",
    "v3 = Vector(7,8,9)\n",
    "\n",
    "print(v1+v2+v3)\n",
    "\n",
    "print(v1*v2)\n",
    "    \n",
    "\n",
    "        "
   ]
  },
  {
   "cell_type": "markdown",
   "metadata": {},
   "source": [
    "Write __str__() method to print the vector as follows:\n",
    "7i + 8j +10k"
   ]
  },
  {
   "cell_type": "code",
   "execution_count": 21,
   "metadata": {},
   "outputs": [
    {
     "name": "stdout",
     "output_type": "stream",
     "text": [
      "5i + 7j + 9k\n",
      "32\n"
     ]
    }
   ],
   "source": [
    "class Vector:\n",
    "    def __init__(self,x,y,z):\n",
    "        self.x = x\n",
    "        self.y = y\n",
    "        self.z = z\n",
    "\n",
    "    def __add__(self,other):\n",
    "        return Vector(self.x + other.x , self.y + other.y , self.z + other.z)\n",
    "    \n",
    "    def __mul__(self,other):\n",
    "        return self.x * other.x + self.y * other.y + self.z * other.z\n",
    "    \n",
    "    def __str__(self):\n",
    "        return f\"{self.x}i + {self.y}j + {self.z}k\"\n",
    "    \n",
    "\n",
    "    \n",
    "v1 = Vector(1,2,3)\n",
    "v2 = Vector(4,5,6)\n",
    "v3 = Vector(7,8,9)\n",
    "\n",
    "print(v1+v2)\n",
    "\n",
    "print(v1*v2)\n"
   ]
  },
  {
   "cell_type": "markdown",
   "metadata": {},
   "source": [
    "7. Override the __len__() method on vector of problem 5 to display the dimension of the\n",
    "vector"
   ]
  },
  {
   "cell_type": "code",
   "execution_count": 1,
   "metadata": {},
   "outputs": [
    {
     "name": "stdout",
     "output_type": "stream",
     "text": [
      "3\n"
     ]
    }
   ],
   "source": [
    "class Vector:\n",
    "    def __init__(self,l):\n",
    "        self.l = l\n",
    "\n",
    "    def __len__(self):\n",
    "        return len(self.l)\n",
    "    \n",
    "\n",
    "v = Vector([1,2,3])\n",
    "print(len(v))\n",
    "\n",
    "\n"
   ]
  },
  {
   "cell_type": "code",
   "execution_count": 5,
   "metadata": {},
   "outputs": [
    {
     "data": {
      "text/plain": [
       "100"
      ]
     },
     "execution_count": 5,
     "metadata": {},
     "output_type": "execute_result"
    }
   ],
   "source": [
    "ps_values = [0,100]\n",
    "\n",
    "ps_values[1]"
   ]
  }
 ],
 "metadata": {
  "kernelspec": {
   "display_name": "python12",
   "language": "python",
   "name": "python3"
  },
  "language_info": {
   "codemirror_mode": {
    "name": "ipython",
    "version": 3
   },
   "file_extension": ".py",
   "mimetype": "text/x-python",
   "name": "python",
   "nbconvert_exporter": "python",
   "pygments_lexer": "ipython3",
   "version": "3.12.2"
  }
 },
 "nbformat": 4,
 "nbformat_minor": 2
}
