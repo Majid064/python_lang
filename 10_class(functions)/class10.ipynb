{
 "cells": [
  {
   "cell_type": "markdown",
   "metadata": {},
   "source": [
    "# functions\n",
    "* pre-defined function\n",
    "    * provided by in language\n",
    "* user-define function\n",
    "    * custom function\n",
    "* return and non return functions\n",
    "    *return\n",
    "        * we can assign the function output to any variable\n",
    "    * None return\n",
    "        * only run, we cannot assign value to variable\n",
    "\n",
    "# components\n",
    "* function declararion / function signature\n",
    "* function body\n",
    "* function calling\n",
    "\n",
    "# syntax function\n",
    "'''\n",
    "def function_name(para1 : type, para2 : type, ....)-> return_type :\n",
    "    function body\n",
    "\n",
    "funtion_name(arg1,arg2,...)    \n",
    "\n",
    "'''\n",
    "\n",
    "### syntax lambda function\n",
    "\n",
    "* one line function\n",
    "* without name\n",
    "* only use in this line\n",
    "'''\n",
    "lambda para1 ,para2 : function body\n",
    "'''"
   ]
  },
  {
   "cell_type": "markdown",
   "metadata": {},
   "source": [
    "# Pre_define functions\n",
    "\n",
    "* print\n",
    "* len\n",
    "* id\n",
    "* dir\n",
    "* chr\n",
    "* ord\n",
    "* exec"
   ]
  },
  {
   "cell_type": "markdown",
   "metadata": {},
   "source": [
    "# Reuturn and None-return functions"
   ]
  },
  {
   "cell_type": "code",
   "execution_count": 1,
   "metadata": {},
   "outputs": [
    {
     "name": "stdout",
     "output_type": "stream",
     "text": [
      " I love Pakistan \n"
     ]
    },
    {
     "data": {
      "text/plain": [
       "None"
      ]
     },
     "metadata": {},
     "output_type": "display_data"
    }
   ],
   "source": [
    "a :None = print(\" I love Pakistan \")        # print is a None-return function\n",
    "\n",
    "display(a)"
   ]
  },
  {
   "cell_type": "code",
   "execution_count": 2,
   "metadata": {},
   "outputs": [
    {
     "data": {
      "text/plain": [
       "8"
      ]
     },
     "metadata": {},
     "output_type": "display_data"
    }
   ],
   "source": [
    "a : int = len(\"Pakistan\")   # return function\n",
    "\n",
    "display(a)"
   ]
  },
  {
   "cell_type": "markdown",
   "metadata": {},
   "source": [
    "# create simple functon without arguments (default function)"
   ]
  },
  {
   "cell_type": "code",
   "execution_count": 2,
   "metadata": {},
   "outputs": [
    {
     "name": "stdout",
     "output_type": "stream",
     "text": [
      "Generative AI\n",
      "Python crashed course\n"
     ]
    }
   ],
   "source": [
    "def PIAIC():\n",
    "    print(\"Generative AI\")\n",
    "    print(\"Python crashed course\")\n",
    "\n",
    "PIAIC()"
   ]
  },
  {
   "cell_type": "code",
   "execution_count": 17,
   "metadata": {},
   "outputs": [
    {
     "data": {
      "text/plain": [
       "100"
      ]
     },
     "execution_count": 17,
     "metadata": {},
     "output_type": "execute_result"
    }
   ],
   "source": [
    "def add_two_numbers(num1 : int , num2 : int)-> int:\n",
    "\n",
    "    return num1 + num2             # \"\"\"return: Is used to exit the function and return a value to the caller. It's useful when you want to compute a value within a function and use it elsewhere in your code. \"\"\"\n",
    "                                     \n",
    "result = add_two_numbers(25, 75)\n",
    "\n",
    "result"
   ]
  },
  {
   "cell_type": "code",
   "execution_count": 18,
   "metadata": {},
   "outputs": [
    {
     "name": "stdout",
     "output_type": "stream",
     "text": [
      "150\n"
     ]
    }
   ],
   "source": [
    "def add_two_numbers(num1 : int , num2 : int)-> int:\n",
    "\n",
    "   print(num1 + num2)    # \"\"\"print: Is used to display output to the console. It's useful for debugging or providing information to the user but doesn't provide a value that can be used elsewhere in your code.\"\"\"\n",
    "\n",
    "result2 = add_two_numbers(25, 125)\n",
    "result2"
   ]
  },
  {
   "cell_type": "markdown",
   "metadata": {},
   "source": [
    "# functions with optional parameters"
   ]
  },
  {
   "cell_type": "code",
   "execution_count": 19,
   "metadata": {},
   "outputs": [
    {
     "name": "stdout",
     "output_type": "stream",
     "text": [
      "25 0\n",
      "25\n"
     ]
    }
   ],
   "source": [
    "def add_two_numbers(num1 : int , num2 : int = 0)-> int:\n",
    "   \n",
    "   print(num1 , num2)\n",
    "\n",
    "   print(num1 + num2)\n",
    "\n",
    "add_two_numbers(25)"
   ]
  },
  {
   "cell_type": "code",
   "execution_count": 2,
   "metadata": {},
   "outputs": [
    {
     "name": "stdout",
     "output_type": "stream",
     "text": [
      "25 35\n",
      "60\n"
     ]
    }
   ],
   "source": [
    "add_two_numbers(25,35)"
   ]
  },
  {
   "cell_type": "markdown",
   "metadata": {},
   "source": [
    "# Lambda function\n"
   ]
  },
  {
   "cell_type": "code",
   "execution_count": 7,
   "metadata": {},
   "outputs": [
    {
     "data": {
      "text/plain": [
       "15"
      ]
     },
     "execution_count": 7,
     "metadata": {},
     "output_type": "execute_result"
    }
   ],
   "source": [
    "a = lambda num1, num2 : num1 + num2\n",
    "\n",
    "a(7,8)"
   ]
  },
  {
   "cell_type": "code",
   "execution_count": 20,
   "metadata": {},
   "outputs": [
    {
     "data": {
      "text/plain": [
       "[1, 4, 9, 16, 25, 36, 49, 64, 81, 100]"
      ]
     },
     "execution_count": 20,
     "metadata": {},
     "output_type": "execute_result"
    }
   ],
   "source": [
    "data : list[int] = [1,2,3,4,5,6,7,8,9,10]\n",
    "\n",
    "data1 = list(map(lambda x:x**2 ,data))\n",
    "\n",
    "data1"
   ]
  },
  {
   "cell_type": "code",
   "execution_count": 13,
   "metadata": {},
   "outputs": [
    {
     "data": {
      "text/plain": [
       "[2, 4, 6, 8, 10]"
      ]
     },
     "execution_count": 13,
     "metadata": {},
     "output_type": "execute_result"
    }
   ],
   "source": [
    "data : list[int] = [1,2,3,4,5,6,7,8,9,10]\n",
    "\n",
    "data = list(filter(lambda x:x%2==0 ,data))\n",
    "\n",
    "data"
   ]
  },
  {
   "cell_type": "code",
   "execution_count": 14,
   "metadata": {},
   "outputs": [
    {
     "data": {
      "text/plain": [
       "[1, 3, 5, 7, 9]"
      ]
     },
     "execution_count": 14,
     "metadata": {},
     "output_type": "execute_result"
    }
   ],
   "source": [
    "data : list[int] = [1,2,3,4,5,6,7,8,9,10]\n",
    "\n",
    "data = list(filter(lambda x:x%2!=0 ,data))\n",
    "\n",
    "data"
   ]
  },
  {
   "cell_type": "code",
   "execution_count": 4,
   "metadata": {},
   "outputs": [
    {
     "data": {
      "text/plain": [
       "[2, 4, 6, 8, 10, 12, 14, 16, 18]"
      ]
     },
     "execution_count": 4,
     "metadata": {},
     "output_type": "execute_result"
    }
   ],
   "source": [
    "data: list[int] = list(filter(lambda x:x%2==0 , range(1,20)))\n",
    "data"
   ]
  },
  {
   "cell_type": "code",
   "execution_count": 36,
   "metadata": {},
   "outputs": [
    {
     "name": "stdout",
     "output_type": "stream",
     "text": [
      "2\n",
      "4\n"
     ]
    }
   ],
   "source": [
    "\n",
    "data: list[int] = filter(lambda x:x%2==0 , range(1,20))\n",
    "\n",
    "print(next(data))\n",
    "print(next(data))"
   ]
  },
  {
   "cell_type": "code",
   "execution_count": 7,
   "metadata": {},
   "outputs": [
    {
     "name": "stdout",
     "output_type": "stream",
     "text": [
      "2\n",
      "4\n"
     ]
    }
   ],
   "source": [
    "data:list[int] = filter(lambda x:x%2==0 ,range(1,101))\n",
    "\n",
    "print(next(data))\n",
    "print(next(data))"
   ]
  },
  {
   "cell_type": "code",
   "execution_count": 3,
   "metadata": {},
   "outputs": [
    {
     "name": "stdout",
     "output_type": "stream",
     "text": [
      "30\n"
     ]
    }
   ],
   "source": [
    "from typing import Callable\n",
    "\n",
    "add : Callable[[int,int],int] = lambda x,y : x + y\n",
    "\n",
    "result = add(10,20)\n",
    "print(result)"
   ]
  },
  {
   "cell_type": "markdown",
   "metadata": {},
   "source": [
    "# Generator Function\n",
    "\n",
    "* iterate on element one by one\n",
    "* stop after each iteration\n",
    "* remember old iteration value (last iterate value)\n",
    "* next iterate\n",
    "    * go farward from last iterate value"
   ]
  },
  {
   "cell_type": "code",
   "execution_count": 9,
   "metadata": {},
   "outputs": [
    {
     "name": "stdout",
     "output_type": "stream",
     "text": [
      "<generator object my_range at 0x000002021E1A34C0>\n"
     ]
    }
   ],
   "source": [
    "## Generator Function\n",
    "def my_range(start:int , end:int , step: int=1):\n",
    "    for i in range(start,end+1,step):\n",
    "        yield i # Generator fucntion\n",
    "\n",
    "a = my_range(1,10)\n",
    "print(a)        "
   ]
  },
  {
   "cell_type": "code",
   "execution_count": 6,
   "metadata": {},
   "outputs": [
    {
     "name": "stdout",
     "output_type": "stream",
     "text": [
      "1\n",
      "2\n",
      "3\n",
      "4\n",
      "5\n",
      "6\n",
      "7\n",
      "8\n",
      "9\n",
      "10\n"
     ]
    }
   ],
   "source": [
    "# a = list(my_range(1,10,2))\n",
    "# print(a)\n",
    "\n",
    "for value in a:\n",
    "    print(value)"
   ]
  },
  {
   "cell_type": "code",
   "execution_count": 10,
   "metadata": {},
   "outputs": [
    {
     "name": "stdout",
     "output_type": "stream",
     "text": [
      "[1, 2, 3, 4, 5, 6, 7, 8, 9, 10]\n"
     ]
    }
   ],
   "source": [
    "print(list(a))"
   ]
  },
  {
   "cell_type": "code",
   "execution_count": 11,
   "metadata": {},
   "outputs": [
    {
     "name": "stdout",
     "output_type": "stream",
     "text": [
      "<generator object my_range at 0x000002021E3F3B50>\n",
      "1\n",
      "2\n",
      "Pakistan\n",
      "3\n"
     ]
    }
   ],
   "source": [
    "a = my_range(1,10)\n",
    "print(a) \n",
    "print(next(a))\n",
    "print(next(a))\n",
    "print(\"Pakistan\")\n",
    "print(next(a))"
   ]
  },
  {
   "cell_type": "code",
   "execution_count": 42,
   "metadata": {},
   "outputs": [
    {
     "name": "stdout",
     "output_type": "stream",
     "text": [
      "1\n",
      "2\n"
     ]
    }
   ],
   "source": [
    "from collections.abc import Iterator    # abc stands for abstract base classes\n",
    "\n",
    "def my_range(start:int , end:int , step: int=1)->Iterator[int]:     # -> indicate return type\n",
    "    for i in range(start,end+1,step):\n",
    "        yield i # Generator fucntion\n",
    "\n",
    "\n",
    "iterator_variable = my_range(1,10)\n",
    "\n",
    "print(next(iterator_variable))\n",
    "print(next(iterator_variable))"
   ]
  },
  {
   "cell_type": "code",
   "execution_count": 18,
   "metadata": {},
   "outputs": [
    {
     "name": "stdout",
     "output_type": "stream",
     "text": [
      "3\n",
      "4\n",
      "5\n",
      "6\n",
      "7\n",
      "8\n",
      "9\n",
      "10\n"
     ]
    }
   ],
   "source": [
    "for i in iterator_variable:\n",
    "    print(i)"
   ]
  },
  {
   "cell_type": "code",
   "execution_count": 17,
   "metadata": {},
   "outputs": [
    {
     "data": {
      "text/plain": [
       "['__class__',\n",
       " '__del__',\n",
       " '__delattr__',\n",
       " '__dir__',\n",
       " '__doc__',\n",
       " '__eq__',\n",
       " '__format__',\n",
       " '__ge__',\n",
       " '__getattribute__',\n",
       " '__getstate__',\n",
       " '__gt__',\n",
       " '__hash__',\n",
       " '__init__',\n",
       " '__init_subclass__',\n",
       " '__iter__',\n",
       " '__le__',\n",
       " '__lt__',\n",
       " '__name__',\n",
       " '__ne__',\n",
       " '__new__',\n",
       " '__next__',\n",
       " '__qualname__',\n",
       " '__reduce__',\n",
       " '__reduce_ex__',\n",
       " '__repr__',\n",
       " '__setattr__',\n",
       " '__sizeof__',\n",
       " '__str__',\n",
       " '__subclasshook__',\n",
       " 'close',\n",
       " 'gi_code',\n",
       " 'gi_frame',\n",
       " 'gi_running',\n",
       " 'gi_suspended',\n",
       " 'gi_yieldfrom',\n",
       " 'send',\n",
       " 'throw']"
      ]
     },
     "execution_count": 17,
     "metadata": {},
     "output_type": "execute_result"
    }
   ],
   "source": [
    "dir(a)"
   ]
  },
  {
   "cell_type": "markdown",
   "metadata": {},
   "source": [
    "# Pass unlimited parameters"
   ]
  },
  {
   "cell_type": "code",
   "execution_count": 19,
   "metadata": {},
   "outputs": [
    {
     "name": "stdout",
     "output_type": "stream",
     "text": [
      "(1, 2, 3, 4, 5, 6) <class 'tuple'>\n"
     ]
    }
   ],
   "source": [
    "def abc(*nums):\n",
    "    print(nums,type(nums))\n",
    "\n",
    "abc(1,2,3,4,5,6)    "
   ]
  },
  {
   "cell_type": "code",
   "execution_count": 43,
   "metadata": {},
   "outputs": [
    {
     "name": "stdout",
     "output_type": "stream",
     "text": [
      "(1, 2, 3, 4, 5, 6) <class 'tuple'>\n"
     ]
    },
    {
     "data": {
      "text/plain": [
       "21"
      ]
     },
     "execution_count": 43,
     "metadata": {},
     "output_type": "execute_result"
    }
   ],
   "source": [
    "def abc(*nums):\n",
    "    print(nums,type(nums))\n",
    "\n",
    "    total = 0\n",
    "    for n in nums:\n",
    "        total += n\n",
    "\n",
    "    return total\n",
    "\n",
    "\n",
    "\n",
    "\n",
    "abc(1,2,3,4,5,6)    "
   ]
  },
  {
   "cell_type": "code",
   "execution_count": 31,
   "metadata": {},
   "outputs": [
    {
     "name": "stdout",
     "output_type": "stream",
     "text": [
      "Hello Monica\n",
      "Hello Luke\n",
      "Hello Steve\n",
      "Hello John\n",
      "Hello Sir Zia\n",
      "Hello Muhammad Qasim\n",
      "Hello Majid Ali\n"
     ]
    }
   ],
   "source": [
    "from typing import Tuple\n",
    "\n",
    "def greet(*names: Tuple[str, ...]) -> None:\n",
    "    \"\"\"\n",
    "    This function greets all persons in the names tuple.\n",
    "    \"\"\"\n",
    "    for name in names:\n",
    "        print(\"Hello\", name)\n",
    "\n",
    "greet(\"Monica\", \"Luke\", \"Steve\", \"John\",\"Sir Zia\", \"Muhammad Qasim\",\"Majid Ali\")"
   ]
  },
  {
   "cell_type": "code",
   "execution_count": 23,
   "metadata": {},
   "outputs": [
    {
     "name": "stdout",
     "output_type": "stream",
     "text": [
      "100\n"
     ]
    }
   ],
   "source": [
    "def add_two_numbers(num1 : int , num2 : int)-> int:\n",
    "\n",
    "   print(num1 + num2)\n",
    "\n",
    "add_two_numbers(25, 75)      # positional arguments"
   ]
  },
  {
   "cell_type": "code",
   "execution_count": 24,
   "metadata": {},
   "outputs": [
    {
     "name": "stdout",
     "output_type": "stream",
     "text": [
      "210\n"
     ]
    }
   ],
   "source": [
    "add_two_numbers(num2=125,num1=85)     #key word arguments"
   ]
  },
  {
   "cell_type": "code",
   "execution_count": 45,
   "metadata": {},
   "outputs": [
    {
     "name": "stdout",
     "output_type": "stream",
     "text": [
      "{'a': 4, 'b': 8, 'name': 'Majd Ali', 'x': 5, 'y': 9} <class 'dict'>\n"
     ]
    }
   ],
   "source": [
    "def xyz(**xyz):\n",
    "    print(xyz , type(xyz))\n",
    "\n",
    "xyz(a=4 , b= 8 , name = \"Majd Ali\", x=5, y=9)    "
   ]
  },
  {
   "cell_type": "code",
   "execution_count": 30,
   "metadata": {},
   "outputs": [
    {
     "name": "stdout",
     "output_type": "stream",
     "text": [
      "7 8 (6.8, 7.15, 6, 7, 9) {'x': 'majid', 'y': 2, 'z': 10}\n"
     ]
    }
   ],
   "source": [
    "def my_function(a,b,*abc,**xyz):\n",
    "    print(a,b,abc,xyz)\n",
    "\n",
    "my_function(7,8,6.8,7.15,6,7,9 , x=\"majid\",y=2,z=10)    "
   ]
  },
  {
   "cell_type": "code",
   "execution_count": 29,
   "metadata": {},
   "outputs": [
    {
     "name": "stdout",
     "output_type": "stream",
     "text": [
      "1 2 (7, 9, 9, 9) {'c': 20, 'd': 30, 'x': 100}\n"
     ]
    }
   ],
   "source": [
    "def my_function(a, b, *abc, **xyz):\n",
    "    print(a,b, abc, xyz)\n",
    "\n",
    "my_function(1,2, 7,9,9,9, c=20, d= 30, x=100)"
   ]
  },
  {
   "cell_type": "code",
   "execution_count": 32,
   "metadata": {},
   "outputs": [
    {
     "name": "stdout",
     "output_type": "stream",
     "text": [
      "{'a': 'Pakistan', 'b': 'China', 'c': 'Oman'}\n"
     ]
    }
   ],
   "source": [
    "from typing import Dict\n",
    "\n",
    "def greet(**xyz : Dict[str,str]):\n",
    "    print(xyz)\n",
    "\n",
    "greet(a=\"Pakistan\", b=\"China\",c=\"Oman\")"
   ]
  },
  {
   "cell_type": "code",
   "execution_count": 33,
   "metadata": {},
   "outputs": [
    {
     "name": "stdout",
     "output_type": "stream",
     "text": [
      "1 2 (7, 9, 9, 9) {'c': 20, 'd': 30, 'x': 100}\n"
     ]
    }
   ],
   "source": [
    "def my_function(a: int, b: int, *abc: int, **xyz: int) -> None:\n",
    "    print(a, b, abc, xyz)\n",
    "\n",
    "my_function(1, 2, 7, 9, 9, 9, c=20, d=30, x=100)"
   ]
  },
  {
   "cell_type": "code",
   "execution_count": 52,
   "metadata": {},
   "outputs": [
    {
     "name": "stdout",
     "output_type": "stream",
     "text": [
      "Something is happening before the function is called.\n",
      "Hello!\n",
      "Something is happening after the function is called.\n"
     ]
    }
   ],
   "source": [
    "from typing import Callable\n",
    "\n",
    "def my_decorator(func: Callable[[], None])-> Callable[[], None]:\n",
    "    def wrapper():\n",
    "        print(\"Something is happening before the function is called.\")\n",
    "        func()\n",
    "        print(\"Something is happening after the function is called.\")\n",
    "    return wrapper\n",
    "\n",
    "@my_decorator\n",
    "def say_hello():\n",
    "    print(\"Hello!\")\n",
    "\n",
    "say_hello()"
   ]
  },
  {
   "cell_type": "code",
   "execution_count": 41,
   "metadata": {},
   "outputs": [
    {
     "name": "stdout",
     "output_type": "stream",
     "text": [
      "Something is happening before the function is called.\n",
      "100\n",
      "Something is happening after the function is called.\n"
     ]
    }
   ],
   "source": [
    "from typing import Callable\n",
    "\n",
    "def my_decorator(func: Callable[[int], None]) -> Callable[[int], None]:\n",
    "    def wrapper(num1: int) -> None:\n",
    "        print(\"Something is happening before the function is called.\")\n",
    "        func(num1)\n",
    "        print(\"Something is happening after the function is called.\")\n",
    "    return wrapper\n",
    "\n",
    "@my_decorator\n",
    "def say_hello(num1: int) -> None:\n",
    "    print(num1)\n",
    "\n",
    "say_hello(100)"
   ]
  },
  {
   "cell_type": "markdown",
   "metadata": {},
   "source": [
    "# Recursion function"
   ]
  },
  {
   "cell_type": "code",
   "execution_count": 42,
   "metadata": {},
   "outputs": [
    {
     "data": {
      "text/plain": [
       "120"
      ]
     },
     "execution_count": 42,
     "metadata": {},
     "output_type": "execute_result"
    }
   ],
   "source": [
    "def factorial(x: int) -> int:\n",
    "    \"\"\"This is a recursive function\n",
    "    to find the factorial of an integer\"\"\"\n",
    "    if x == 1:\n",
    "        return 1\n",
    "    else:\n",
    "        return (x * factorial(x-1))\n",
    "    \n",
    "factorial(5)    \n",
    "\"\"\" \n",
    "Recursive Process:\n",
    "\n",
    "Each recursive call reduces the value of x by 1 until it reaches 1 (the base case).\n",
    "At each step, the intermediate results are stored in memory until the base case is reached.\n",
    "Here's how the function executes for factorial(5):\n",
    "\n",
    "factorial(5) calls factorial(4) (since 5 * factorial(4) is returned).\n",
    "factorial(4) calls factorial(3) (since 4 * factorial(3) is returned).\n",
    "factorial(3) calls factorial(2) (since 3 * factorial(2) is returned).\n",
    "factorial(2) calls factorial(1) (since 2 * factorial(1) is returned).\n",
    "factorial(1) returns 1.\n",
    "\n",
    "The recursive calls now start to unwind:\n",
    "factorial(2) returns 2 * 1 = 2.\n",
    "factorial(3) returns 3 * 2 = 6.\n",
    "factorial(4) returns 4 * 6 = 24.\n",
    "factorial(5) returns 5 * 24 = 120.\n",
    "So, factorial(5) returns 120, which is the factorial of 5.\n",
    "\"\"\""
   ]
  },
  {
   "cell_type": "code",
   "execution_count": 44,
   "metadata": {},
   "outputs": [
    {
     "name": "stdout",
     "output_type": "stream",
     "text": [
      "The factorial of 5 is 120\n"
     ]
    }
   ],
   "source": [
    "def factorial(x: int) -> int:\n",
    "    \"\"\"This is a recursive function\n",
    "    to find the factorial of an integer\"\"\"\n",
    "    if x == 1:\n",
    "        return 1\n",
    "    else:\n",
    "        return (x * factorial(x-1))\n",
    "        #       5*4*3*2*1\n",
    "\n",
    "x = 5\n",
    "print(\"The factorial of\", x, \"is\", factorial(x))"
   ]
  },
  {
   "cell_type": "code",
   "execution_count": 45,
   "metadata": {},
   "outputs": [
    {
     "name": "stdout",
     "output_type": "stream",
     "text": [
      "The factorial of 5 is 120\n"
     ]
    }
   ],
   "source": [
    "def factorial(x: int) -> int:\n",
    "    \"\"\"This is a recursive function\n",
    "    to find the factorial of an integer\"\"\"\n",
    "    if x == 1:\n",
    "        return 1\n",
    "    else:\n",
    "        return (x * factorial(x-1))\n",
    "        #       5*4*3*2*1\n",
    "\n",
    "num = 5\n",
    "print(\"The factorial of\", num, \"is\", factorial(num))"
   ]
  },
  {
   "cell_type": "code",
   "execution_count": 47,
   "metadata": {},
   "outputs": [
    {
     "name": "stdout",
     "output_type": "stream",
     "text": [
      "The factorial of 5 is : 120\n"
     ]
    }
   ],
   "source": [
    "def factorial(x: int) -> int:\n",
    "    \"\"\"This is a recursive function\n",
    "    to find the factorial of an integer\"\"\"\n",
    "    if x == 1:\n",
    "        return 1\n",
    "    else:\n",
    "        return (x * factorial(x-1))\n",
    "        #       5*4*3*2*1\n",
    "\n",
    "num = 5\n",
    "print(f\"The factorial of {num} is :\" , factorial(num))"
   ]
  }
 ],
 "metadata": {
  "kernelspec": {
   "display_name": "python12",
   "language": "python",
   "name": "python3"
  },
  "language_info": {
   "codemirror_mode": {
    "name": "ipython",
    "version": 3
   },
   "file_extension": ".py",
   "mimetype": "text/x-python",
   "name": "python",
   "nbconvert_exporter": "python",
   "pygments_lexer": "ipython3",
   "version": "3.12.2"
  }
 },
 "nbformat": 4,
 "nbformat_minor": 2
}
