{
 "cells": [
  {
   "cell_type": "markdown",
   "metadata": {},
   "source": [
    "# List\n",
    "\n",
    "* iteraton operation with loop\n",
    "* apply any operaton on element"
   ]
  },
  {
   "cell_type": "code",
   "execution_count": 2,
   "metadata": {},
   "outputs": [
    {
     "name": "stdout",
     "output_type": "stream",
     "text": [
      "Qasim\n",
      "Sir Zia\n",
      "Sir Inam\n",
      "Majid Ali\n",
      "Dr Noman\n"
     ]
    }
   ],
   "source": [
    "names : list[str] = ['Qasim', 'Sir Zia', 'Sir Inam', 'Majid Ali', 'Dr Noman']\n",
    "\n",
    "for name in names:\n",
    "  print(name)"
   ]
  },
  {
   "cell_type": "code",
   "execution_count": 7,
   "metadata": {},
   "outputs": [
    {
     "name": "stdout",
     "output_type": "stream",
     "text": [
      "Welcome dear teacher, QASIM\n",
      "Welcome dear teacher, SIR ZIA\n",
      "Welcome dear teacher, SIR INAM\n",
      "Welcome dear teacher, MAJID ALI\n",
      "Welcome dear teacher, DR NOMAN\n"
     ]
    }
   ],
   "source": [
    "for name in names:\n",
    "    print(f\"Welcome dear teacher, {name.upper()}\")"
   ]
  },
  {
   "cell_type": "code",
   "execution_count": 8,
   "metadata": {},
   "outputs": [
    {
     "name": "stdout",
     "output_type": "stream",
     "text": [
      "Welcome dear teacher, QASIM\n",
      "Welcome dear teacher, SIR ZIA\n",
      "Welcome dear teacher, SIR INAM\n"
     ]
    }
   ],
   "source": [
    "for name in names[:3]:\n",
    "    print(f\"Welcome dear teacher, {name.upper()}\")"
   ]
  },
  {
   "cell_type": "code",
   "execution_count": 2,
   "metadata": {},
   "outputs": [
    {
     "name": "stdout",
     "output_type": "stream",
     "text": [
      "('Qasim', '123')\n",
      "('Inam', '345')\n",
      "('Ikhlas', '678')\n"
     ]
    }
   ],
   "source": [
    "data_base : list[tuple[str,str]] = [(\"Qasim\", \"123\"),\n",
    "                                    (\"Inam\",'345'),\n",
    "                                    (\"Ikhlas\", '678')]\n",
    "\n",
    "for row in data_base:\n",
    "    print(row)"
   ]
  },
  {
   "cell_type": "code",
   "execution_count": 3,
   "metadata": {},
   "outputs": [
    {
     "name": "stdout",
     "output_type": "stream",
     "text": [
      "Qasim 123\n",
      "Inam 345\n",
      "Ikhlas 678\n"
     ]
    }
   ],
   "source": [
    "data_base : list[tuple[str,str]] = [(\"Qasim\", \"123\"),\n",
    "                                    (\"Inam\",'345'),\n",
    "                                    (\"Ikhlas\", '678')]\n",
    "\n",
    "for row in data_base:\n",
    "    username , password = row\n",
    "    print(username , password)"
   ]
  },
  {
   "cell_type": "code",
   "execution_count": 1,
   "metadata": {},
   "outputs": [
    {
     "name": "stdout",
     "output_type": "stream",
     "text": [
      "Not found or invalid user name/password\n"
     ]
    }
   ],
   "source": [
    "data_base : list[tuple[str,str]] = [(\"Qasim\", \"123\"),\n",
    "                                    (\"Inam\",'345'),\n",
    "                                    (\"Ikhlas\", '678')]\n",
    "\n",
    "input_user : str = input(\"Enter your UserName\")\n",
    "input_password : str = input(\"Enter your Password\")\n",
    "\n",
    "for row in data_base:\n",
    "    username , password = row\n",
    "    if input_user == username and input_password == password:\n",
    "        print(\"Valid User\")\n",
    "        break\n",
    "else:\n",
    "    print(\"Not found or invalid user name/password\")    \n"
   ]
  },
  {
   "cell_type": "code",
   "execution_count": 4,
   "metadata": {},
   "outputs": [
    {
     "name": "stdout",
     "output_type": "stream",
     "text": [
      "Qasim\n",
      "Sir Zia\n",
      "Sir Inam\n",
      "Majid Ali\n",
      "Dr Noman\n",
      "Hello World!\n"
     ]
    }
   ],
   "source": [
    "names : list[str] = ['Qasim', 'Sir Zia', 'Sir Inam', 'Majid Ali', 'Dr Noman']\n",
    "\n",
    "for name in names:\n",
    "  print(name)\n",
    "\n",
    "else:\n",
    "  print(\"Hello World!\")  "
   ]
  },
  {
   "cell_type": "markdown",
   "metadata": {},
   "source": [
    "# Number with loop\n",
    "\n",
    "*range(start , end, step)     range is a generator fucntion"
   ]
  },
  {
   "cell_type": "code",
   "execution_count": 1,
   "metadata": {},
   "outputs": [
    {
     "data": {
      "text/plain": [
       "range(0, 10)"
      ]
     },
     "execution_count": 1,
     "metadata": {},
     "output_type": "execute_result"
    }
   ],
   "source": [
    "range(10)"
   ]
  },
  {
   "cell_type": "code",
   "execution_count": 2,
   "metadata": {},
   "outputs": [
    {
     "data": {
      "text/plain": [
       "[0, 1, 2, 3, 4, 5, 6, 7, 8, 9]"
      ]
     },
     "execution_count": 2,
     "metadata": {},
     "output_type": "execute_result"
    }
   ],
   "source": [
    "list(range(10))"
   ]
  },
  {
   "cell_type": "code",
   "execution_count": 3,
   "metadata": {},
   "outputs": [
    {
     "data": {
      "text/plain": [
       "[2, 4, 6, 8, 10, 12, 14, 16, 18, 20]"
      ]
     },
     "execution_count": 3,
     "metadata": {},
     "output_type": "execute_result"
    }
   ],
   "source": [
    "list(range(2,21,2))"
   ]
  },
  {
   "cell_type": "code",
   "execution_count": 6,
   "metadata": {},
   "outputs": [
    {
     "data": {
      "text/plain": [
       "[(0, 'Qasim'),\n",
       " (1, 'Sir Zia'),\n",
       " (2, 'Sir Inam'),\n",
       " (3, 'Majid Ali'),\n",
       " (4, 'Dr Noman')]"
      ]
     },
     "execution_count": 6,
     "metadata": {},
     "output_type": "execute_result"
    }
   ],
   "source": [
    "names : list[str] = ['Qasim', 'Sir Zia', 'Sir Inam', 'Majid Ali', 'Dr Noman']\n",
    "\n",
    "list(enumerate(names))"
   ]
  },
  {
   "cell_type": "code",
   "execution_count": 7,
   "metadata": {},
   "outputs": [
    {
     "name": "stdout",
     "output_type": "stream",
     "text": [
      "0 Qasim\n",
      "1 Sir Zia\n",
      "2 Sir Inam\n",
      "3 Majid Ali\n",
      "4 Dr Noman\n"
     ]
    }
   ],
   "source": [
    "for index , name in enumerate(names):\n",
    "    print(index, name)"
   ]
  },
  {
   "cell_type": "code",
   "execution_count": 2,
   "metadata": {},
   "outputs": [
    {
     "name": "stdout",
     "output_type": "stream",
     "text": [
      "2 X 1 = 2\n",
      "2 X 2 = 4\n",
      "2 X 3 = 6\n",
      "2 X 4 = 8\n",
      "2 X 5 = 10\n",
      "2 X 6 = 12\n",
      "2 X 7 = 14\n",
      "2 X 8 = 16\n",
      "2 X 9 = 18\n",
      "2 X 10 = 20\n"
     ]
    }
   ],
   "source": [
    "for n in range(1,11):\n",
    "    print(f\"2 X {n} = {n*2}\")"
   ]
  },
  {
   "cell_type": "code",
   "execution_count": 10,
   "metadata": {},
   "outputs": [
    {
     "name": "stdout",
     "output_type": "stream",
     "text": [
      "[1, 4, 9, 16, 25, 36, 49, 64, 81, 100]\n"
     ]
    }
   ],
   "source": [
    "squares : list[int] = []\n",
    "for value in range(1, 11):\n",
    "    square = value ** 2\n",
    "    squares.append(square)\n",
    "print(squares)"
   ]
  },
  {
   "cell_type": "markdown",
   "metadata": {},
   "source": [
    "# List comprehensive\n",
    "'''\n",
    "for item in items_list:\n",
    "    loop body\n",
    "    ''''\n",
    "\n",
    "In List compre hensive:\n",
    "\n",
    "[loop body for item in items_list]"
   ]
  },
  {
   "cell_type": "code",
   "execution_count": 2,
   "metadata": {},
   "outputs": [
    {
     "data": {
      "text/plain": [
       "[1, 4, 9, 16, 25, 36, 49, 64, 81, 100]"
      ]
     },
     "execution_count": 2,
     "metadata": {},
     "output_type": "execute_result"
    }
   ],
   "source": [
    "[value **2 for value in range(1,11)]   # this style is called list comprehensive"
   ]
  },
  {
   "cell_type": "code",
   "execution_count": 4,
   "metadata": {},
   "outputs": [
    {
     "name": "stdout",
     "output_type": "stream",
     "text": [
      "['pizza', 'falafel', 'carrot cake']\n",
      "['pizza', 'falafel', 'carrot cake']\n",
      "['pizza', 'falafel', 'carrot cake']\n",
      "['Tikka', 'falafel', 'carrot cake']\n"
     ]
    }
   ],
   "source": [
    "my_foods = ['pizza', 'falafel', 'carrot cake']\n",
    "friend_foods = my_foods[:] # slicing provide deep copy like .copy\n",
    "\n",
    "print(my_foods)\n",
    "print(friend_foods)\n",
    "\n",
    "friend_foods[0] = \"Tikka\"\n",
    "\n",
    "print(my_foods)\n",
    "print(friend_foods)"
   ]
  },
  {
   "cell_type": "code",
   "execution_count": 2,
   "metadata": {},
   "outputs": [
    {
     "name": "stdout",
     "output_type": "stream",
     "text": [
      "['apple', 'banana', 'cherry', 'kiwi', 'mango']\n"
     ]
    }
   ],
   "source": [
    "fruits = [\"apple\", \"banana\", \"cherry\", \"kiwi\", \"mango\"]\n",
    "newlist = [x for x in fruits ]\n",
    "print(newlist)"
   ]
  },
  {
   "cell_type": "markdown",
   "metadata": {},
   "source": [
    "# Tuple"
   ]
  },
  {
   "cell_type": "code",
   "execution_count": 5,
   "metadata": {},
   "outputs": [
    {
     "name": "stdout",
     "output_type": "stream",
     "text": [
      "A\n",
      "('A', 'B')\n"
     ]
    }
   ],
   "source": [
    "names : tuple[str] = (\"A\",\"B\",\"C\")\n",
    "\n",
    "print(names[0])\n",
    "print(names[0:2])"
   ]
  },
  {
   "cell_type": "code",
   "execution_count": 3,
   "metadata": {},
   "outputs": [
    {
     "ename": "NameError",
     "evalue": "name 'names' is not defined",
     "output_type": "error",
     "traceback": [
      "\u001b[1;31m---------------------------------------------------------------------------\u001b[0m",
      "\u001b[1;31mNameError\u001b[0m                                 Traceback (most recent call last)",
      "Cell \u001b[1;32mIn[3], line 1\u001b[0m\n\u001b[1;32m----> 1\u001b[0m names[\u001b[38;5;241m0\u001b[39m] \u001b[38;5;241m=\u001b[39m \u001b[38;5;124m\"\u001b[39m\u001b[38;5;124mPakistan\u001b[39m\u001b[38;5;124m\"\u001b[39m\n",
      "\u001b[1;31mNameError\u001b[0m: name 'names' is not defined"
     ]
    }
   ],
   "source": [
    "names[0] = \"Pakistan\""
   ]
  },
  {
   "cell_type": "code",
   "execution_count": 10,
   "metadata": {},
   "outputs": [
    {
     "name": "stdout",
     "output_type": "stream",
     "text": [
      "('Pakistan', 'B', 'C')\n"
     ]
    }
   ],
   "source": [
    "names : tuple[str] = (\"A\",\"B\",\"C\")\n",
    "\n",
    "names : tuple[str] = (\"Pakistan\",\"B\",\"C\")\n",
    "\n",
    "print(names)"
   ]
  },
  {
   "cell_type": "code",
   "execution_count": 8,
   "metadata": {},
   "outputs": [
    {
     "name": "stdout",
     "output_type": "stream",
     "text": [
      "('Pakistan', 'B', 'C')\n"
     ]
    }
   ],
   "source": [
    "names: tuple[str, str, str] = (\"A\", \"B\", \"C\")  # Initial assignment with type hint\n",
    "\n",
    "names = (\"Pakistan\", \"B\", \"C\")  # Reassignment without repeating the type hint\n",
    "\n",
    "print(names)  # Output: ('Pakistan', 'B', 'C')\n"
   ]
  },
  {
   "cell_type": "code",
   "execution_count": 11,
   "metadata": {},
   "outputs": [
    {
     "name": "stdout",
     "output_type": "stream",
     "text": [
      "('A', [1, 2, 3], True)\n"
     ]
    }
   ],
   "source": [
    "from typing import Any\n",
    "\n",
    "data : tuple[Any] = (\"A\",[1,2,3],True)\n",
    "\n",
    "print(data)"
   ]
  },
  {
   "cell_type": "code",
   "execution_count": 12,
   "metadata": {},
   "outputs": [
    {
     "name": "stdout",
     "output_type": "stream",
     "text": [
      "('A', [1, 2, 3], True)\n"
     ]
    }
   ],
   "source": [
    "from typing import Any, List, Tuple\n",
    "\n",
    "data: Tuple[str, List[int], bool] = (\"A\", [1, 2, 3], True)\n",
    "\n",
    "print(data)\n"
   ]
  },
  {
   "cell_type": "code",
   "execution_count": 5,
   "metadata": {},
   "outputs": [
    {
     "name": "stdout",
     "output_type": "stream",
     "text": [
      "[1, 2, 3]\n"
     ]
    }
   ],
   "source": [
    "print(data[1])"
   ]
  },
  {
   "cell_type": "code",
   "execution_count": 6,
   "metadata": {},
   "outputs": [
    {
     "name": "stdout",
     "output_type": "stream",
     "text": [
      "('A', [1, 2, 3, 20], True)\n"
     ]
    }
   ],
   "source": [
    "data[1].append(20)\n",
    "\n",
    "print(data)"
   ]
  },
  {
   "cell_type": "code",
   "execution_count": 11,
   "metadata": {},
   "outputs": [
    {
     "name": "stdout",
     "output_type": "stream",
     "text": [
      "65.5\n",
      "<class 'str'>\n"
     ]
    }
   ],
   "source": [
    "a = input(\"Enter something\")   # input function is by default return string type\n",
    "\n",
    "print(a)\n",
    "print(type(a))"
   ]
  },
  {
   "cell_type": "code",
   "execution_count": 12,
   "metadata": {},
   "outputs": [
    {
     "data": {
      "text/plain": [
       "[-5, 2, 7, 9, 10]"
      ]
     },
     "execution_count": 12,
     "metadata": {},
     "output_type": "execute_result"
    }
   ],
   "source": [
    "sorted([9,10,2,7,-5])"
   ]
  }
 ],
 "metadata": {
  "kernelspec": {
   "display_name": "python12",
   "language": "python",
   "name": "python3"
  },
  "language_info": {
   "codemirror_mode": {
    "name": "ipython",
    "version": 3
   },
   "file_extension": ".py",
   "mimetype": "text/x-python",
   "name": "python",
   "nbconvert_exporter": "python",
   "pygments_lexer": "ipython3",
   "version": "3.12.2"
  }
 },
 "nbformat": 4,
 "nbformat_minor": 2
}
