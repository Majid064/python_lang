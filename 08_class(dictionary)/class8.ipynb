{
 "cells": [
  {
   "cell_type": "code",
   "execution_count": 4,
   "metadata": {},
   "outputs": [
    {
     "name": "stdout",
     "output_type": "stream",
     "text": [
      "['clear', 'copy', 'fromkeys', 'get', 'items', 'keys', 'pop', 'popitem', 'setdefault', 'update', 'values']\n"
     ]
    }
   ],
   "source": [
    "from typing import Dict, Union, Optional\n",
    "import pprint             # pprint is used to show data more beautifully\n",
    "\n",
    "Key = Union[int,str]\n",
    "Value = Union[int,str,list, dict, tuple,set]\n",
    "\n",
    "data : Dict[Key,Value] = {\"fname\" : \"Muhammad Qasim\",\n",
    "                        \"name\" : \"Abu Bakr\",\n",
    "                         \"Education\" :\"Engineering\"\n",
    "                         }\n",
    "\n",
    "methods : list[str] = [m for m in dir(data) if \"__\" not in m]\n",
    "print(methods)"
   ]
  },
  {
   "cell_type": "code",
   "execution_count": 1,
   "metadata": {},
   "outputs": [
    {
     "name": "stdout",
     "output_type": "stream",
     "text": [
      "Before {'fname': 'Muhammad Qasim', 'name': 'Abu Bakr', 'Education': 'Engineering'}\n",
      "After {}\n"
     ]
    }
   ],
   "source": [
    "from typing import Dict, Union, Optional\n",
    "import pprint             # pprint is used to show data more beautifully\n",
    "\n",
    "Key = Union[int,str]\n",
    "Value = Union[int,str,list, dict, tuple,set]\n",
    "\n",
    "data : Dict[Key,Value] = {\"fname\" : \"Muhammad Qasim\",\n",
    "                        \"name\" : \"Abu Bakr\",\n",
    "                         \"Education\" :\"Engineering\"\n",
    "                         }\n",
    "\n",
    "print(\"Before\", data)\n",
    "\n",
    "data.clear()\n",
    "print(\"After\", data)"
   ]
  },
  {
   "cell_type": "code",
   "execution_count": 4,
   "metadata": {},
   "outputs": [
    {
     "name": "stdout",
     "output_type": "stream",
     "text": [
      "Before {'fname': 'Muhammad Qasim', 'name': 'Abu Bakr', 'Education': 'Engineering'}\n",
      "After {'fname': 'Muhammad Qasim', 'Education': 'Engineering'}\n"
     ]
    }
   ],
   "source": [
    "from typing import Dict, Union, Optional\n",
    "import pprint             # pprint is used to show data more beautifully\n",
    "\n",
    "Key = Union[int,str]\n",
    "Value = Union[int,str,list, dict, tuple,set]\n",
    "\n",
    "data : Dict[Key,Value] = {\"fname\" : \"Muhammad Qasim\",\n",
    "                        \"name\" : \"Abu Bakr\",\n",
    "                         \"Education\" :\"Engineering\"\n",
    "                         }\n",
    "\n",
    "print(\"Before\", data)\n",
    "\n",
    "del data[\"name\"]\n",
    "print(\"After\", data)"
   ]
  },
  {
   "cell_type": "code",
   "execution_count": 6,
   "metadata": {},
   "outputs": [
    {
     "name": "stdout",
     "output_type": "stream",
     "text": [
      "Before {'fname': 'Muhammad Qasim', 'name': 'Abu Bakr', 'Education': 'Engineering'}\n",
      "{'fname': 'Muhammad Qasim', 'name': 'Abu Bakr', 'Education': 'Engineering'}\n",
      "{'fname': 'Muhammad Qasim', 'name': 'Abu Bakr', 'Education': 'Engineering', 'city': 'Hafizabad'}\n",
      "after {'fname': 'Muhammad Qasim', 'name': 'Abu Bakr', 'Education': 'Engineering'}\n"
     ]
    }
   ],
   "source": [
    "from typing import Dict, Union, Optional\n",
    "import pprint             # pprint is used to show data more beautifully\n",
    "\n",
    "Key = Union[int,str]\n",
    "Value = Union[int,str,list, dict, tuple,set]\n",
    "\n",
    "data : Dict[Key,Value] = {\"fname\" : \"Muhammad Qasim\",\n",
    "                        \"name\" : \"Abu Bakr\",\n",
    "                         \"Education\" :\"Engineering\"\n",
    "                         }\n",
    "\n",
    "print(\"Before\", data)\n",
    "\n",
    "a = data.copy()                # shallow copy\n",
    "print(a)\n",
    "\n",
    "a.update({\"city\": \"Hafizabad\"})\n",
    "print(a)\n",
    "\n",
    "print(\"after\",data)"
   ]
  },
  {
   "cell_type": "code",
   "execution_count": 5,
   "metadata": {},
   "outputs": [
    {
     "name": "stdout",
     "output_type": "stream",
     "text": [
      "Before {'fname': 'Muhammad Qasim', 'name': 'Abu Bakr', 'Education': 'Engineering'}\n",
      "{'fname': 'Muhammad Qasim', 'name': 'Abu Bakr', 'Education': 'Engineering', 'city': 'Hafizabad'}\n",
      "after {'fname': 'Muhammad Qasim', 'name': 'Abu Bakr', 'Education': 'Engineering', 'city': 'Hafizabad'}\n"
     ]
    }
   ],
   "source": [
    "from typing import Dict, Union, Optional\n",
    "import pprint             # pprint is used to show data more beautifully\n",
    "\n",
    "Key = Union[int,str]\n",
    "Value = Union[int,str,list, dict, tuple,set]\n",
    "\n",
    "data : Dict[Key,Value] = {\"fname\" : \"Muhammad Qasim\",\n",
    "                        \"name\" : \"Abu Bakr\",\n",
    "                         \"Education\" :\"Engineering\"\n",
    "                         }\n",
    "\n",
    "print(\"Before\", data)\n",
    "\n",
    "a = data               # deep copy\n",
    "\n",
    "a.update({\"city\": \"Hafizabad\"})\n",
    "print(a)\n",
    "\n",
    "print(\"after\",data)"
   ]
  },
  {
   "cell_type": "code",
   "execution_count": 1,
   "metadata": {},
   "outputs": [
    {
     "name": "stdout",
     "output_type": "stream",
     "text": [
      "Before {'fname': 'Muhammad Qasim', 'name': 'Abu Bakr', 'Education': 'Engineering'}\n",
      "Abu Bakr\n",
      "After {'fname': 'Muhammad Qasim', 'Education': 'Engineering'}\n"
     ]
    }
   ],
   "source": [
    "from typing import Dict, Union, Optional\n",
    "import pprint             # pprint is used to show data more beautifully\n",
    "\n",
    "Key = Union[int,str]\n",
    "Value = Union[int,str,list, dict, tuple,set]\n",
    "\n",
    "data : Dict[Key,Value] = {\"fname\" : \"Muhammad Qasim\",\n",
    "                        \"name\" : \"Abu Bakr\",\n",
    "                         \"Education\" :\"Engineering\"\n",
    "                         }\n",
    "\n",
    "print(\"Before\", data)\n",
    "\n",
    "a = data.pop('name')\n",
    "print(a)\n",
    "print(\"After\",data)"
   ]
  },
  {
   "cell_type": "code",
   "execution_count": 2,
   "metadata": {},
   "outputs": [
    {
     "name": "stdout",
     "output_type": "stream",
     "text": [
      "Before {'fname': 'Muhammad Qasim', 'name': 'Abu Bakr', 'Education': 'Engineering'}\n",
      "('Education', 'Engineering')\n",
      "After {'fname': 'Muhammad Qasim', 'name': 'Abu Bakr'}\n"
     ]
    }
   ],
   "source": [
    "from typing import Dict, Union, Optional\n",
    "import pprint             # pprint is used to show data more beautifully\n",
    "\n",
    "Key = Union[int,str]\n",
    "Value = Union[int,str,list, dict, tuple,set]\n",
    "\n",
    "data : Dict[Key,Value] = {\"fname\" : \"Muhammad Qasim\",\n",
    "                        \"name\" : \"Abu Bakr\",\n",
    "                         \"Education\" :\"Engineering\"\n",
    "                         }\n",
    "\n",
    "print(\"Before\", data)\n",
    "\n",
    "a = data.popitem()\n",
    "print(a)\n",
    "print(\"After\", data)"
   ]
  },
  {
   "cell_type": "code",
   "execution_count": 15,
   "metadata": {},
   "outputs": [
    {
     "name": "stdout",
     "output_type": "stream",
     "text": [
      "Before {'fname': 'Muhammad Qasim', 'name': 'Abu Bakr', 'Education': 'Engineering'}\n",
      "Not available in the database\n",
      "After {'fname': 'Muhammad Qasim', 'name': 'Abu Bakr', 'Education': 'Engineering'}\n"
     ]
    }
   ],
   "source": [
    "from typing import Dict, Union, Optional\n",
    "import pprint             # pprint is used to show data more beautifully\n",
    "\n",
    "Key = Union[int,str]\n",
    "Value = Union[int,str,list, dict, tuple,set]\n",
    "\n",
    "data : Dict[Key,Value] = {\"fname\" : \"Muhammad Qasim\",\n",
    "                        \"name\" : \"Abu Bakr\",\n",
    "                         \"Education\" :\"Engineering\"\n",
    "                         }\n",
    "\n",
    "print(\"Before\", data)\n",
    "\n",
    "a = data.get(\"city\",'Not available in the database')\n",
    "print(a)\n",
    "print(\"After\", data)"
   ]
  },
  {
   "cell_type": "code",
   "execution_count": 3,
   "metadata": {},
   "outputs": [
    {
     "name": "stdout",
     "output_type": "stream",
     "text": [
      "Before {'fname': 'Muhammad Qasim', 'name': 'Abu Bakr', 'Education': 'Engineering'}\n",
      "None\n",
      "After {'fname': 'Muhammad Qasim', 'name': 'Abu Bakr', 'Education': 'Engineering', 'Pakistan': None}\n"
     ]
    }
   ],
   "source": [
    "from typing import Dict, Union, Optional\n",
    "import pprint             # pprint is used to show data more beautifully\n",
    "\n",
    "Key = Union[int,str]\n",
    "Value = Union[int,str,list, dict, tuple,set]\n",
    "\n",
    "data : Dict[Key,Value] = {\"fname\" : \"Muhammad Qasim\",\n",
    "                        \"name\" : \"Abu Bakr\",\n",
    "                         \"Education\" :\"Engineering\"\n",
    "                         }\n",
    "\n",
    "print(\"Before\", data)\n",
    "a = data.setdefault(\"Pakistan\")\n",
    "print(a)\n",
    "\n",
    "print(\"After\", data)"
   ]
  },
  {
   "cell_type": "code",
   "execution_count": 17,
   "metadata": {},
   "outputs": [
    {
     "name": "stdout",
     "output_type": "stream",
     "text": [
      "Before {'fname': 'Muhammad Qasim', 'name': 'Abu Bakr', 'Education': 'Engineering'}\n",
      "Empty value\n",
      "After {'fname': 'Muhammad Qasim', 'name': 'Abu Bakr', 'Education': 'Engineering', 'Pakistan': 'Empty value'}\n"
     ]
    }
   ],
   "source": [
    "from typing import Dict, Union, Optional\n",
    "import pprint             # pprint is used to show data more beautifully\n",
    "\n",
    "Key = Union[int,str]\n",
    "Value = Union[int,str,list, dict, tuple,set]\n",
    "\n",
    "data : Dict[Key,Value] = {\"fname\" : \"Muhammad Qasim\",\n",
    "                        \"name\" : \"Abu Bakr\",\n",
    "                         \"Education\" :\"Engineering\"\n",
    "                         }\n",
    "\n",
    "print(\"Before\", data)\n",
    "\n",
    "a = data.setdefault(\"Pakistan\", \"Empty value\")\n",
    "print(a)\n",
    "print(\"After\", data)"
   ]
  },
  {
   "cell_type": "code",
   "execution_count": 5,
   "metadata": {},
   "outputs": [
    {
     "name": "stdout",
     "output_type": "stream",
     "text": [
      "Before {'fname': 'Muhammad Qasim', 'name': 'Abu Bakr', 'Education': 'Engineering'}\n",
      "Abu Bakr\n",
      "After {'fname': 'Muhammad Qasim', 'name': 'Abu Bakr', 'Education': 'Engineering'}\n"
     ]
    }
   ],
   "source": [
    "from typing import Dict, Union, Optional\n",
    "import pprint             # pprint is used to show data more beautifully\n",
    "\n",
    "Key = Union[int,str]\n",
    "Value = Union[int,str,list, dict, tuple,set]\n",
    "\n",
    "data : Dict[Key,Value] = {\"fname\" : \"Muhammad Qasim\",\n",
    "                        \"name\" : \"Abu Bakr\",\n",
    "                         \"Education\" :\"Engineering\"\n",
    "                         }\n",
    "\n",
    "print(\"Before\", data)\n",
    "\n",
    "a = data.setdefault(\"name\", \"Majid Ali\")\n",
    "print(a)\n",
    "print(\"After\", data)"
   ]
  },
  {
   "cell_type": "code",
   "execution_count": 6,
   "metadata": {},
   "outputs": [
    {
     "name": "stdout",
     "output_type": "stream",
     "text": [
      "{'fname': 'Muhammad Qasim', 'name': 'Majid Ali', 'Education': 'Engineering', 'city': 'Hafizabad', 'age': 32}\n"
     ]
    }
   ],
   "source": [
    "from typing import Dict, Union, Optional\n",
    "import pprint             # pprint is used to show data more beautifully\n",
    "\n",
    "Key = Union[int,str]\n",
    "Value = Union[int,str,list, dict, tuple,set]\n",
    "\n",
    "data : Dict[Key,Value] = {\"fname\" : \"Muhammad Qasim\",\n",
    "                        \"name\" : \"Abu Bakr\",\n",
    "                         \"Education\" :\"Engineering\"\n",
    "                         }\n",
    "\n",
    "data1 : Dict[Key,Value] = {'name':'Majid Ali',\n",
    "                           'city':\"Hafizabad\",\n",
    "                           'age': 32}\n",
    "\n",
    "data.update(data1)\n",
    "\n",
    "print(data)"
   ]
  },
  {
   "cell_type": "code",
   "execution_count": 7,
   "metadata": {},
   "outputs": [
    {
     "data": {
      "text/html": [
       "<div>\n",
       "<style scoped>\n",
       "    .dataframe tbody tr th:only-of-type {\n",
       "        vertical-align: middle;\n",
       "    }\n",
       "\n",
       "    .dataframe tbody tr th {\n",
       "        vertical-align: top;\n",
       "    }\n",
       "\n",
       "    .dataframe thead th {\n",
       "        text-align: right;\n",
       "    }\n",
       "</style>\n",
       "<table border=\"1\" class=\"dataframe\">\n",
       "  <thead>\n",
       "    <tr style=\"text-align: right;\">\n",
       "      <th></th>\n",
       "      <th>roll no</th>\n",
       "      <th>name</th>\n",
       "      <th>Education</th>\n",
       "    </tr>\n",
       "  </thead>\n",
       "  <tbody>\n",
       "    <tr>\n",
       "      <th>0</th>\n",
       "      <td>1</td>\n",
       "      <td>Majid</td>\n",
       "      <td>Master</td>\n",
       "    </tr>\n",
       "    <tr>\n",
       "      <th>1</th>\n",
       "      <td>2</td>\n",
       "      <td>Sajid</td>\n",
       "      <td>Master</td>\n",
       "    </tr>\n",
       "    <tr>\n",
       "      <th>2</th>\n",
       "      <td>3</td>\n",
       "      <td>Kashif</td>\n",
       "      <td>Master</td>\n",
       "    </tr>\n",
       "  </tbody>\n",
       "</table>\n",
       "</div>"
      ],
      "text/plain": [
       "   roll no    name Education\n",
       "0        1   Majid    Master\n",
       "1        2   Sajid    Master\n",
       "2        3  Kashif    Master"
      ]
     },
     "execution_count": 7,
     "metadata": {},
     "output_type": "execute_result"
    }
   ],
   "source": [
    "import pandas as pd\n",
    "from typing import Any\n",
    "\n",
    "students_data : Dict[str,list[Any]] = {\n",
    "    \"roll no\": [1,2,3],\n",
    "    \"name\": ['Majid','Sajid','Kashif'],\n",
    "    \"Education\": ['Master','Master','Master']\n",
    "}\n",
    "\n",
    "df : pd.DataFrame = pd.DataFrame(students_data)\n",
    "\n",
    "df\n"
   ]
  },
  {
   "cell_type": "code",
   "execution_count": 9,
   "metadata": {},
   "outputs": [
    {
     "name": "stdout",
     "output_type": "stream",
     "text": [
      "Original position: 0\n",
      "New position: 3\n"
     ]
    }
   ],
   "source": [
    "alien_0 = {'x_position': 0, 'y_position': 25, 'speed': 'high'}\n",
    "print(f\"Original position: {alien_0['x_position']}\")\n",
    "\n",
    "if alien_0['speed'] == 'slow':\n",
    "    x_increment = 1\n",
    "elif alien_0['speed'] == 'medium':\n",
    "    x_increment = 2\n",
    "else:\n",
    "    x_increment = 3\n",
    "\n",
    "#alien_0['x_position'] = alien_0['x_position'] + x_increment\n",
    "alien_0['x_position'] +=  x_increment\n",
    "\n",
    "print(f\"New position: {alien_0['x_position']}\")"
   ]
  },
  {
   "cell_type": "code",
   "execution_count": 26,
   "metadata": {},
   "outputs": [
    {
     "name": "stdout",
     "output_type": "stream",
     "text": [
      "{'fname': 'Muhammad Qasim', 'name': 'Majid Ali', 'Education': 'Engineering'}\n"
     ]
    }
   ],
   "source": [
    "from typing import Dict, Union, Optional\n",
    "import pprint             # pprint is used to show data more beautifully\n",
    "\n",
    "Key = Union[int,str]\n",
    "Value = Union[int,str,list, dict, tuple,set]\n",
    "\n",
    "data : Dict[Key,Value] = {\"fname\" : \"Muhammad Qasim\",\n",
    "                        \"name\" : \"Abu Bakr\",\n",
    "                         \"Education\" :\"Engineering\",\n",
    "                         \"name\": \"Majid Ali\"\n",
    "                         }\n",
    "\n",
    "print(data)"
   ]
  },
  {
   "cell_type": "code",
   "execution_count": 11,
   "metadata": {},
   "outputs": [
    {
     "name": "stdout",
     "output_type": "stream",
     "text": [
      "Sarah's favorite language is Java.\n"
     ]
    }
   ],
   "source": [
    "favorite_languages = {\n",
    "'jen': 'python',\n",
    "'sarah': 'java',\n",
    "'edward': 'rust',\n",
    "'phil': 'python',\n",
    "}\n",
    "\n",
    "language = favorite_languages['sarah'].title()\n",
    "print(f\"Sarah's favorite language is {language}.\")"
   ]
  },
  {
   "cell_type": "code",
   "execution_count": 12,
   "metadata": {},
   "outputs": [
    {
     "name": "stdout",
     "output_type": "stream",
     "text": [
      "Hi Jen.\n",
      "Hi Sarah.\n",
      "\tSarah, I see you love C!\n",
      "Hi Edward.\n",
      "Hi Phil.\n",
      "\tPhil, I see you love Python!\n"
     ]
    }
   ],
   "source": [
    "favorite_languages = {\n",
    "'jen': 'python',\n",
    "'sarah': 'c',\n",
    "'edward': 'rust',\n",
    "'phil': 'python',\n",
    "}\n",
    "\n",
    "friends = ['phil', 'sarah']\n",
    "for name in favorite_languages.keys():\n",
    "    print(f\"Hi {name.title()}.\")\n",
    "    if name in friends:\n",
    "        language = favorite_languages[name].title()\n",
    "        print(f\"\\t{name.title()}, I see you love {language}!\")"
   ]
  },
  {
   "cell_type": "code",
   "execution_count": 13,
   "metadata": {},
   "outputs": [
    {
     "data": {
      "text/plain": [
       "True"
      ]
     },
     "execution_count": 13,
     "metadata": {},
     "output_type": "execute_result"
    }
   ],
   "source": [
    "\"Qasim\" in \"\"\"My name is Muhammad Qasim. I am working as cheif data scientist\"\"\"\n",
    "\n",
    "# RegEx is very important. without RegEx we cannot survive in NLP"
   ]
  },
  {
   "cell_type": "code",
   "execution_count": 31,
   "metadata": {},
   "outputs": [
    {
     "name": "stdout",
     "output_type": "stream",
     "text": [
      "{'color': 'green', 'points': 5}\n",
      "{'color': 'yellow', 'points': 10}\n",
      "{'color': 'red', 'points': 15}\n"
     ]
    }
   ],
   "source": [
    "alien_0 = {'color': 'green', 'points': 5}\n",
    "alien_1 = {'color': 'yellow', 'points': 10}\n",
    "alien_2 = {'color': 'red', 'points': 15}\n",
    "\n",
    "aliens = [alien_0, alien_1, alien_2]\n",
    "for alien in aliens:\n",
    "    print(alien)"
   ]
  },
  {
   "cell_type": "code",
   "execution_count": 37,
   "metadata": {},
   "outputs": [
    {
     "name": "stdout",
     "output_type": "stream",
     "text": [
      "[]\n",
      "[{'color': 'green', 'points': 5, 'speed': 'slow'}, {'color': 'green', 'points': 5, 'speed': 'slow'}, {'color': 'green', 'points': 5, 'speed': 'slow'}, {'color': 'green', 'points': 5, 'speed': 'slow'}, {'color': 'green', 'points': 5, 'speed': 'slow'}, {'color': 'green', 'points': 5, 'speed': 'slow'}, {'color': 'green', 'points': 5, 'speed': 'slow'}, {'color': 'green', 'points': 5, 'speed': 'slow'}, {'color': 'green', 'points': 5, 'speed': 'slow'}, {'color': 'green', 'points': 5, 'speed': 'slow'}, {'color': 'green', 'points': 5, 'speed': 'slow'}, {'color': 'green', 'points': 5, 'speed': 'slow'}, {'color': 'green', 'points': 5, 'speed': 'slow'}, {'color': 'green', 'points': 5, 'speed': 'slow'}, {'color': 'green', 'points': 5, 'speed': 'slow'}]\n"
     ]
    }
   ],
   "source": [
    "# Make an empty list for storing aliens.\n",
    "aliens = []\n",
    "print(aliens)\n",
    "# Make 30 green aliens.\n",
    "for alien_number in range(15):\n",
    "    new_alien = {'color': 'green', 'points': 5, 'speed': 'slow'}\n",
    "    aliens.append(new_alien)\n",
    "print(aliens)    "
   ]
  },
  {
   "cell_type": "code",
   "execution_count": 23,
   "metadata": {},
   "outputs": [
    {
     "name": "stdout",
     "output_type": "stream",
     "text": [
      "[]\n",
      "[{'color': 'green', 'points': 5, 'speed': 'slow'},\n",
      " {'color': 'green', 'points': 5, 'speed': 'slow'},\n",
      " {'color': 'green', 'points': 5, 'speed': 'slow'},\n",
      " {'color': 'green', 'points': 5, 'speed': 'slow'},\n",
      " {'color': 'green', 'points': 5, 'speed': 'slow'},\n",
      " {'color': 'green', 'points': 5, 'speed': 'slow'},\n",
      " {'color': 'green', 'points': 5, 'speed': 'slow'},\n",
      " {'color': 'green', 'points': 5, 'speed': 'slow'},\n",
      " {'color': 'green', 'points': 5, 'speed': 'slow'},\n",
      " {'color': 'green', 'points': 5, 'speed': 'slow'},\n",
      " {'color': 'green', 'points': 5, 'speed': 'slow'},\n",
      " {'color': 'green', 'points': 5, 'speed': 'slow'},\n",
      " {'color': 'green', 'points': 5, 'speed': 'slow'},\n",
      " {'color': 'green', 'points': 5, 'speed': 'slow'},\n",
      " {'color': 'green', 'points': 5, 'speed': 'slow'}]\n"
     ]
    }
   ],
   "source": [
    "# Make an empty list for storing aliens.\n",
    "aliens : list[Dict[str,str]] = []\n",
    "import pprint\n",
    "print(aliens)\n",
    "\n",
    "# Make 30 green aliens.\n",
    "for alien_number in range(15):\n",
    "    new_alien = {'color': 'green', 'points': 5, 'speed': 'slow'}\n",
    "    aliens.append(new_alien)\n",
    "pprint.pprint(aliens)  "
   ]
  },
  {
   "cell_type": "code",
   "execution_count": 16,
   "metadata": {},
   "outputs": [
    {
     "name": "stdout",
     "output_type": "stream",
     "text": [
      "[{'color': 'green', 'points': 5, 'speed': 'slow'},\n",
      " {'color': 'green', 'points': 5, 'speed': 'slow'},\n",
      " {'color': 'green', 'points': 5, 'speed': 'slow'},\n",
      " {'color': 'green', 'points': 5, 'speed': 'slow'},\n",
      " {'color': 'green', 'points': 5, 'speed': 'slow'}]\n"
     ]
    }
   ],
   "source": [
    "pprint.pprint(aliens[:5]) "
   ]
  },
  {
   "cell_type": "code",
   "execution_count": 24,
   "metadata": {},
   "outputs": [
    {
     "name": "stdout",
     "output_type": "stream",
     "text": [
      "[{'color': 'yellow', 'points': 10, 'speed': 'medium'},\n",
      " {'color': 'yellow', 'points': 10, 'speed': 'medium'},\n",
      " {'color': 'green', 'points': 5, 'speed': 'slow'},\n",
      " {'color': 'green', 'points': 5, 'speed': 'slow'},\n",
      " {'color': 'green', 'points': 5, 'speed': 'slow'},\n",
      " {'color': 'green', 'points': 5, 'speed': 'slow'},\n",
      " {'color': 'green', 'points': 5, 'speed': 'slow'},\n",
      " {'color': 'green', 'points': 5, 'speed': 'slow'},\n",
      " {'color': 'green', 'points': 5, 'speed': 'slow'},\n",
      " {'color': 'green', 'points': 5, 'speed': 'slow'},\n",
      " {'color': 'green', 'points': 5, 'speed': 'slow'},\n",
      " {'color': 'green', 'points': 5, 'speed': 'slow'},\n",
      " {'color': 'green', 'points': 5, 'speed': 'slow'},\n",
      " {'color': 'green', 'points': 5, 'speed': 'slow'},\n",
      " {'color': 'green', 'points': 5, 'speed': 'slow'}]\n"
     ]
    }
   ],
   "source": [
    "for alien in aliens[:2]:\n",
    "    if alien['color'] == 'green':\n",
    "        alien['color'] = 'yellow'\n",
    "        alien['speed'] = 'medium'\n",
    "        alien['points'] = '10'\n",
    "\n",
    "pprint.pprint(aliens)      "
   ]
  },
  {
   "cell_type": "code",
   "execution_count": 47,
   "metadata": {},
   "outputs": [
    {
     "name": "stdout",
     "output_type": "stream",
     "text": [
      "{'fname': 'Muhammad Qasim', 'name': 'Abu Bakr', 'Education': 'Engineering'}\n",
      "<class 'dict'>\n"
     ]
    }
   ],
   "source": [
    "from typing import Dict, Union, Optional\n",
    "import pprint             # pprint is used to show data more beautifully\n",
    "\n",
    "Key = Union[int,str]\n",
    "Value = Union[int,str,list, dict, tuple,set]\n",
    "\n",
    "data : Dict[Key,Value] = {\"fname\" : \"Muhammad Qasim\",\n",
    "                        \"name\" : \"Abu Bakr\",\n",
    "                         \"Education\" :\"Engineering\"\n",
    "                         }\n",
    "\n",
    "print(data)\n",
    "print(type(data))"
   ]
  },
  {
   "cell_type": "code",
   "execution_count": 18,
   "metadata": {},
   "outputs": [
    {
     "name": "stdout",
     "output_type": "stream",
     "text": [
      "{\"fname\": \"Muhammad Qasim\", \"name\": \"Majid Ali\", \"Education\": \"Engineering\", \"city\": \"Hafizabad\", \"age\": 32}\n",
      "<class 'str'>\n"
     ]
    }
   ],
   "source": [
    "import json\n",
    "\n",
    "data1 = json.dumps(data)\n",
    "\n",
    "print(data1)\n",
    "print(type(data1))"
   ]
  }
 ],
 "metadata": {
  "kernelspec": {
   "display_name": "python12",
   "language": "python",
   "name": "python3"
  },
  "language_info": {
   "codemirror_mode": {
    "name": "ipython",
    "version": 3
   },
   "file_extension": ".py",
   "mimetype": "text/x-python",
   "name": "python",
   "nbconvert_exporter": "python",
   "pygments_lexer": "ipython3",
   "version": "3.12.2"
  }
 },
 "nbformat": 4,
 "nbformat_minor": 2
}
