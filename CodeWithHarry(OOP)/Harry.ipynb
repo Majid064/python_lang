{
 "cells": [
  {
   "cell_type": "code",
   "execution_count": 9,
   "metadata": {},
   "outputs": [
    {
     "name": "stdout",
     "output_type": "stream",
     "text": [
      "Harry\n",
      "Harry is a Developer\n",
      "True\n",
      "False\n"
     ]
    }
   ],
   "source": [
    "class Person:\n",
    "    name = \"Harry\"\n",
    "    occ = \"Developer\"\n",
    "    \n",
    "    def info(self):\n",
    "        print(f\"{self.name} is a {self.occ}\")\n",
    "\n",
    "p1 = Person()\n",
    "\n",
    "print(p1.name)\n",
    "p1.info()\n",
    "\n",
    "\n",
    "print(callable(Person))\n",
    "print(callable(p1))"
   ]
  },
  {
   "cell_type": "code",
   "execution_count": 6,
   "metadata": {},
   "outputs": [
    {
     "name": "stdout",
     "output_type": "stream",
     "text": [
      "Hello, World!\n"
     ]
    }
   ],
   "source": [
    "def greet():\n",
    "    print(\"Hello, World!\")\n",
    "\n",
    "# greet()\n",
    "greet.__call__()"
   ]
  },
  {
   "cell_type": "code",
   "execution_count": 8,
   "metadata": {},
   "outputs": [
    {
     "data": {
      "text/plain": [
       "True"
      ]
     },
     "execution_count": 8,
     "metadata": {},
     "output_type": "execute_result"
    }
   ],
   "source": [
    "callable(greet)"
   ]
  },
  {
   "cell_type": "code",
   "execution_count": 10,
   "metadata": {},
   "outputs": [
    {
     "data": {
      "text/plain": [
       "True"
      ]
     },
     "execution_count": 10,
     "metadata": {},
     "output_type": "execute_result"
    }
   ],
   "source": [
    "callable(abs)"
   ]
  },
  {
   "cell_type": "code",
   "execution_count": 24,
   "metadata": {},
   "outputs": [
    {
     "name": "stdout",
     "output_type": "stream",
     "text": [
      "Majid Ali\n",
      "Majid Ali is a HR\n"
     ]
    }
   ],
   "source": [
    "class Person:\n",
    "    name = \"Harry\"\n",
    "    occ = \"Developer\"\n",
    "\n",
    "    def info(self):\n",
    "        print(f\"{self.name} is a {self.occ}\")\n",
    "\n",
    "p1 = Person()\n",
    "\n",
    "p1.name = \"Majid Ali\"\n",
    "p1.occ = 'HR'\n",
    "print(p1.name)\n",
    "p1.info()\n"
   ]
  },
  {
   "cell_type": "code",
   "execution_count": 10,
   "metadata": {},
   "outputs": [
    {
     "name": "stdout",
     "output_type": "stream",
     "text": [
      "Hey! I'm a person\n"
     ]
    }
   ],
   "source": [
    "class Person:\n",
    "    print(\"Hey! I'm a person\")\n",
    "\n",
    "# p1 = Person()\n",
    "# p2 = Person()\n"
   ]
  },
  {
   "cell_type": "markdown",
   "metadata": {},
   "source": [
    "# Decorator"
   ]
  },
  {
   "cell_type": "code",
   "execution_count": 29,
   "metadata": {},
   "outputs": [
    {
     "name": "stdout",
     "output_type": "stream",
     "text": [
      "Hello World\n"
     ]
    }
   ],
   "source": [
    "def hello():\n",
    "    print(\"Hello World\")\n",
    "\n",
    "\n",
    "hello()"
   ]
  },
  {
   "cell_type": "code",
   "execution_count": 11,
   "metadata": {},
   "outputs": [
    {
     "name": "stdout",
     "output_type": "stream",
     "text": [
      "Good Morning\n",
      "Hello World\n",
      "Thanks for using this function\n"
     ]
    }
   ],
   "source": [
    "def greet(fx):\n",
    "    def mfx():\n",
    "        print(\"Good Morning\")\n",
    "        fx()\n",
    "        print(\"Thanks for using this function\")\n",
    "    return mfx\n",
    "    \n",
    "\n",
    "@greet\n",
    "def hello():\n",
    "    print(\"Hello World\")\n",
    "\n",
    "hello()"
   ]
  },
  {
   "cell_type": "code",
   "execution_count": 12,
   "metadata": {},
   "outputs": [
    {
     "name": "stdout",
     "output_type": "stream",
     "text": [
      "Good Morning\n",
      "Hello World\n",
      "Thanks for using this function\n"
     ]
    }
   ],
   "source": [
    "def greet(fx):\n",
    "    def mfx():\n",
    "        print(\"Good Morning\")\n",
    "        fx()\n",
    "        print(\"Thanks for using this function\")\n",
    "    return mfx\n",
    "    \n",
    "\n",
    "def hello():\n",
    "    print(\"Hello World\")\n",
    "\n",
    "# greet(hello)()\n",
    "\n",
    "hello = greet(hello)\n",
    "hello()"
   ]
  },
  {
   "cell_type": "code",
   "execution_count": 17,
   "metadata": {},
   "outputs": [
    {
     "name": "stdout",
     "output_type": "stream",
     "text": [
      "Good Morning\n",
      "22\n",
      "Thanks for using this function\n"
     ]
    }
   ],
   "source": [
    "def greet(fx):\n",
    "    def mfx(*args , **kwargs):\n",
    "        print(\"Good Morning\")\n",
    "        fx(*args,**kwargs)\n",
    "        print(\"Thanks for using this function\")\n",
    "    return mfx\n",
    "    \n",
    "\n",
    "def add(a,b,c=10):\n",
    "    print(a+b+c)\n",
    "\n",
    "greet(add)(2,5,c=15)"
   ]
  },
  {
   "cell_type": "code",
   "execution_count": 24,
   "metadata": {},
   "outputs": [
    {
     "name": "stdout",
     "output_type": "stream",
     "text": [
      "Good Morning\n",
      "60\n",
      "Thanks for using this function\n"
     ]
    }
   ],
   "source": [
    "def greet(fx):\n",
    "    def mfx(*args , **kwargs):\n",
    "        print(\"Good Morning\")\n",
    "        fx(*args,**kwargs)\n",
    "        print(\"Thanks for using this function\")\n",
    "    return mfx\n",
    "    \n",
    "\n",
    "def add(a=2,b=5,c=15,d=20):\n",
    "    print(a+b+c+d)\n",
    "\n",
    "greet(add)(10,30,10,10)"
   ]
  },
  {
   "cell_type": "code",
   "execution_count": 16,
   "metadata": {},
   "outputs": [
    {
     "name": "stdout",
     "output_type": "stream",
     "text": [
      "Good Morning\n",
      "7\n",
      "Thanks for using this function\n"
     ]
    }
   ],
   "source": [
    "def greet(fx):\n",
    "    def mfx(*args , **kwargs):\n",
    "        print(\"Good Morning\")\n",
    "        fx(*args,**kwargs)\n",
    "        print(\"Thanks for using this function\")\n",
    "    return mfx\n",
    "    \n",
    "@greet\n",
    "def add(a,b):\n",
    "    print(a+b)\n",
    "\n",
    "add(2,5)"
   ]
  },
  {
   "cell_type": "markdown",
   "metadata": {},
   "source": [
    "# Getters and Setters"
   ]
  },
  {
   "cell_type": "code",
   "execution_count": 25,
   "metadata": {},
   "outputs": [
    {
     "name": "stdout",
     "output_type": "stream",
     "text": [
      "Value is 10\n"
     ]
    },
    {
     "data": {
      "text/plain": [
       "10"
      ]
     },
     "execution_count": 25,
     "metadata": {},
     "output_type": "execute_result"
    }
   ],
   "source": [
    "class MyClass:\n",
    "    def __init__(self, value):\n",
    "        self._value = value\n",
    "\n",
    "    def show(self):\n",
    "        print(f\"Value is {self._value}\")\n",
    "\n",
    "obj = MyClass(10)   \n",
    "obj.show() \n",
    "obj._value\n",
    "        "
   ]
  },
  {
   "cell_type": "code",
   "execution_count": 26,
   "metadata": {},
   "outputs": [
    {
     "name": "stdout",
     "output_type": "stream",
     "text": [
      "Value is 8\n"
     ]
    },
    {
     "data": {
      "text/plain": [
       "80"
      ]
     },
     "execution_count": 26,
     "metadata": {},
     "output_type": "execute_result"
    }
   ],
   "source": [
    "class MyClass:\n",
    "    def __init__(self, value):\n",
    "        self._value = value\n",
    "\n",
    "    def show(self):\n",
    "        print(f\"Value is {self._value}\")\n",
    "\n",
    "    @property   #  A property allows you to define methods that can be accessed like attributes\n",
    "    def ten_value(self):              # Getter\n",
    "        return 10 * self._value\n",
    "\n",
    "obj = MyClass(8)   \n",
    "obj.show() \n",
    "obj.ten_value\n"
   ]
  },
  {
   "cell_type": "code",
   "execution_count": 49,
   "metadata": {},
   "outputs": [
    {
     "name": "stdout",
     "output_type": "stream",
     "text": [
      "Value is 10\n"
     ]
    },
    {
     "ename": "AttributeError",
     "evalue": "property 'ten_value' of 'MyClass' object has no setter",
     "output_type": "error",
     "traceback": [
      "\u001b[1;31m---------------------------------------------------------------------------\u001b[0m",
      "\u001b[1;31mAttributeError\u001b[0m                            Traceback (most recent call last)",
      "Cell \u001b[1;32mIn[49], line 14\u001b[0m\n\u001b[0;32m     12\u001b[0m obj \u001b[38;5;241m=\u001b[39m MyClass(\u001b[38;5;241m10\u001b[39m)   \n\u001b[0;32m     13\u001b[0m obj\u001b[38;5;241m.\u001b[39mshow() \n\u001b[1;32m---> 14\u001b[0m obj\u001b[38;5;241m.\u001b[39mten_value \u001b[38;5;241m=\u001b[39m \u001b[38;5;241m67\u001b[39m\n\u001b[0;32m     15\u001b[0m obj\u001b[38;5;241m.\u001b[39mten_value\n",
      "\u001b[1;31mAttributeError\u001b[0m: property 'ten_value' of 'MyClass' object has no setter"
     ]
    }
   ],
   "source": [
    "class MyClass:\n",
    "    def __init__(self, value):\n",
    "        self._value = value\n",
    "\n",
    "    def show(self):\n",
    "        print(f\"Value is {self._value}\")\n",
    "\n",
    "    @property\n",
    "    def ten_value(self):              # Getter\n",
    "        return 10 * self._value\n",
    "\n",
    "obj = MyClass(10)   \n",
    "obj.show() \n",
    "obj.ten_value = 67\n",
    "obj.ten_value"
   ]
  },
  {
   "cell_type": "code",
   "execution_count": 29,
   "metadata": {},
   "outputs": [
    {
     "name": "stdout",
     "output_type": "stream",
     "text": [
      "50\n",
      "Value is 5\n",
      "700\n",
      "Value is 70\n"
     ]
    }
   ],
   "source": [
    "class MyClass:\n",
    "    def __init__(self, value):\n",
    "        self._value = value\n",
    "\n",
    "    def show(self):\n",
    "        print(f\"Value is {self._value}\")\n",
    "\n",
    "    @property\n",
    "    def ten_value(self):              # Getter\n",
    "        return 10 * self._value\n",
    "    \n",
    "    @ten_value.setter                # setter\n",
    "    def ten_value(self, new_value):       # here func name can be any, like abc,xyz etc.\n",
    "        self._value = new_value\n",
    "\n",
    "obj = MyClass(5)  \n",
    "print(obj.ten_value)\n",
    "obj.show()\n",
    "\n",
    "obj.ten_value = 70\n",
    "print(obj.ten_value)\n",
    "obj.show()"
   ]
  },
  {
   "cell_type": "markdown",
   "metadata": {},
   "source": [
    "# Here's the same code using self.value for demonstration, but it's not recommended due to potential confusion:"
   ]
  },
  {
   "cell_type": "code",
   "execution_count": 1,
   "metadata": {},
   "outputs": [
    {
     "name": "stdout",
     "output_type": "stream",
     "text": [
      "50\n",
      "Value is 5\n",
      "700\n",
      "Value is 70\n"
     ]
    }
   ],
   "source": [
    "class MyClass:\n",
    "    def __init__(self, value):\n",
    "        self.value = value\n",
    "\n",
    "    def show(self):\n",
    "        print(f\"Value is {self.value}\")\n",
    "\n",
    "    @property\n",
    "    def ten_value(self):\n",
    "        return 10 * self.value\n",
    "    \n",
    "    @ten_value.setter\n",
    "    def ten_value(self, new_value):\n",
    "        self.value = new_value\n",
    "\n",
    "obj = MyClass(5)  \n",
    "print(obj.ten_value)  # Prints: 50\n",
    "obj.show()  # Prints: Value is 5\n",
    "\n",
    "obj.ten_value = 70\n",
    "print(obj.ten_value)  # Prints: 700\n",
    "obj.show()  # Prints: Value is 70\n"
   ]
  },
  {
   "cell_type": "markdown",
   "metadata": {},
   "source": [
    "# Access Modifiers"
   ]
  },
  {
   "cell_type": "code",
   "execution_count": 33,
   "metadata": {},
   "outputs": [
    {
     "data": {
      "text/plain": [
       "'Majid'"
      ]
     },
     "execution_count": 33,
     "metadata": {},
     "output_type": "execute_result"
    }
   ],
   "source": [
    "class Employee:\n",
    "    def __init__(self):\n",
    "        self.name = \"Majid\"    # all variables in python are public by default\n",
    "\n",
    "e = Employee()\n",
    "\n",
    "e.name\n",
    "\n"
   ]
  },
  {
   "cell_type": "code",
   "execution_count": 21,
   "metadata": {},
   "outputs": [
    {
     "ename": "AttributeError",
     "evalue": "'Employee' object has no attribute '__name'",
     "output_type": "error",
     "traceback": [
      "\u001b[1;31m---------------------------------------------------------------------------\u001b[0m",
      "\u001b[1;31mAttributeError\u001b[0m                            Traceback (most recent call last)",
      "Cell \u001b[1;32mIn[21], line 7\u001b[0m\n\u001b[0;32m      3\u001b[0m         \u001b[38;5;28mself\u001b[39m\u001b[38;5;241m.\u001b[39m__name \u001b[38;5;241m=\u001b[39m \u001b[38;5;124m\"\u001b[39m\u001b[38;5;124mMajid\u001b[39m\u001b[38;5;124m\"\u001b[39m     \u001b[38;5;66;03m# to make a varible private , put ___ before it\u001b[39;00m\n\u001b[0;32m      5\u001b[0m e \u001b[38;5;241m=\u001b[39m Employee()\n\u001b[1;32m----> 7\u001b[0m e\u001b[38;5;241m.\u001b[39m__name\n",
      "\u001b[1;31mAttributeError\u001b[0m: 'Employee' object has no attribute '__name'"
     ]
    }
   ],
   "source": [
    "class Employee:\n",
    "    def __init__(self):\n",
    "        self.__name = \"Majid\"     # to make a varible private , put ___ before it\n",
    "\n",
    "e = Employee()\n",
    "\n",
    "e.__name"
   ]
  },
  {
   "cell_type": "code",
   "execution_count": 30,
   "metadata": {},
   "outputs": [
    {
     "data": {
      "text/plain": [
       "'Majid'"
      ]
     },
     "execution_count": 30,
     "metadata": {},
     "output_type": "execute_result"
    }
   ],
   "source": [
    "class Employee:\n",
    "    def __init__(self):\n",
    "        self.__name = \"Majid\"     # to make a varible private , put ___ before it\n",
    "\n",
    "e = Employee()\n",
    "\n",
    "e._Employee__name"
   ]
  },
  {
   "cell_type": "code",
   "execution_count": 29,
   "metadata": {},
   "outputs": [
    {
     "data": {
      "text/plain": [
       "['_Employee__name',\n",
       " '__class__',\n",
       " '__delattr__',\n",
       " '__dict__',\n",
       " '__dir__',\n",
       " '__doc__',\n",
       " '__eq__',\n",
       " '__format__',\n",
       " '__ge__',\n",
       " '__getattribute__',\n",
       " '__getstate__',\n",
       " '__gt__',\n",
       " '__hash__',\n",
       " '__init__',\n",
       " '__init_subclass__',\n",
       " '__le__',\n",
       " '__lt__',\n",
       " '__module__',\n",
       " '__ne__',\n",
       " '__new__',\n",
       " '__reduce__',\n",
       " '__reduce_ex__',\n",
       " '__repr__',\n",
       " '__setattr__',\n",
       " '__sizeof__',\n",
       " '__str__',\n",
       " '__subclasshook__',\n",
       " '__weakref__']"
      ]
     },
     "execution_count": 29,
     "metadata": {},
     "output_type": "execute_result"
    }
   ],
   "source": [
    "# e.__dir__()\n",
    "dir(e)"
   ]
  },
  {
   "cell_type": "code",
   "execution_count": 28,
   "metadata": {},
   "outputs": [
    {
     "name": "stdout",
     "output_type": "stream",
     "text": [
      "['__class__', '__delattr__', '__dict__', '__dir__', '__doc__', '__eq__', '__format__', '__ge__', '__getattribute__', '__getstate__', '__gt__', '__hash__', '__init__', '__init_subclass__', '__le__', '__lt__', '__module__', '__ne__', '__new__', '__reduce__', '__reduce_ex__', '__repr__', '__setattr__', '__sizeof__', '__str__', '__subclasshook__', '__weakref__', '_funName', '_name']\n",
      "Harry\n",
      "CodeWithHarry\n",
      "Harry\n",
      "CodeWithHarry\n"
     ]
    }
   ],
   "source": [
    "class Student:\n",
    "    def __init__(self):\n",
    "        self._name = \"Harry\"\n",
    "\n",
    "    def _funName(self):      # protected method\n",
    "        return \"CodeWithHarry\"\n",
    "\n",
    "class Subject(Student):       #inherited class\n",
    "    pass\n",
    "\n",
    "obj = Student()\n",
    "obj1 = Subject()\n",
    "print(dir(obj))\n",
    "# obj.__dir__()\n",
    "\n",
    "# calling by object of Student class\n",
    "print(obj._name)      \n",
    "print(obj._funName())     \n",
    "# calling by object of Subject class\n",
    "print(obj1._name)    \n",
    "print(obj1._funName())\n"
   ]
  },
  {
   "cell_type": "markdown",
   "metadata": {},
   "source": [
    "# Static Method"
   ]
  },
  {
   "cell_type": "code",
   "execution_count": 32,
   "metadata": {},
   "outputs": [
    {
     "data": {
      "text/plain": [
       "35"
      ]
     },
     "execution_count": 32,
     "metadata": {},
     "output_type": "execute_result"
    }
   ],
   "source": [
    "class Math:\n",
    "    def __init__(self, num):\n",
    "        self.num = num\n",
    "\n",
    "    def addtonum(self, n):\n",
    "        self.num = self.num + n\n",
    "        return self.num\n",
    "\n",
    "    @staticmethod          # The static method can be called using the class name or an instance\n",
    "    def add(a,b):          # static method belong to class not to object of a class\n",
    "        return a+b\n",
    "    \n",
    "a = Math(10)\n",
    "\n",
    "a.addtonum(25)\n",
    "\n"
   ]
  },
  {
   "cell_type": "code",
   "execution_count": 31,
   "metadata": {},
   "outputs": [
    {
     "data": {
      "text/plain": [
       "23"
      ]
     },
     "execution_count": 31,
     "metadata": {},
     "output_type": "execute_result"
    }
   ],
   "source": [
    "a.add(8,15)"
   ]
  },
  {
   "cell_type": "code",
   "execution_count": 32,
   "metadata": {},
   "outputs": [
    {
     "data": {
      "text/plain": [
       "40"
      ]
     },
     "execution_count": 32,
     "metadata": {},
     "output_type": "execute_result"
    }
   ],
   "source": [
    "Math.add(25,15)"
   ]
  },
  {
   "cell_type": "markdown",
   "metadata": {},
   "source": [
    "# class method"
   ]
  },
  {
   "cell_type": "code",
   "execution_count": 33,
   "metadata": {},
   "outputs": [
    {
     "name": "stdout",
     "output_type": "stream",
     "text": [
      "The name is Majid and company is Apple\n"
     ]
    }
   ],
   "source": [
    "class Employee:\n",
    "    company = \"Apple\"\n",
    "    def show(self):\n",
    "        print(f\"The name is {self.name} and company is {self.company}\")\n",
    "\n",
    "e1 = Employee()\n",
    "e1.name = \"Majid\"\n",
    "\n",
    "e1.show()"
   ]
  },
  {
   "cell_type": "code",
   "execution_count": 35,
   "metadata": {},
   "outputs": [
    {
     "name": "stdout",
     "output_type": "stream",
     "text": [
      "The name is Majid and company is Apple\n",
      "The name is Majid and company is Tesla\n"
     ]
    },
    {
     "data": {
      "text/plain": [
       "'Apple'"
      ]
     },
     "execution_count": 35,
     "metadata": {},
     "output_type": "execute_result"
    }
   ],
   "source": [
    "class Employee:\n",
    "    company = \"Apple\"\n",
    "    def show(self):\n",
    "        print(f\"The name is {self.name} and company is {self.company}\")\n",
    "\n",
    "    def changeCompany(self,newcompany):\n",
    "        self.company = newcompany \n",
    "\n",
    "e1 = Employee()\n",
    "e1.name = \"Majid\"\n",
    "e1.show()\n",
    "\n",
    "e1.changeCompany(\"Tesla\")\n",
    "e1.show()\n",
    "Employee.company"
   ]
  },
  {
   "cell_type": "code",
   "execution_count": 34,
   "metadata": {},
   "outputs": [
    {
     "name": "stdout",
     "output_type": "stream",
     "text": [
      "The name is Majid and company is Apple\n",
      "The name is Majid and company is Tesla\n"
     ]
    },
    {
     "data": {
      "text/plain": [
       "'Tesla'"
      ]
     },
     "execution_count": 34,
     "metadata": {},
     "output_type": "execute_result"
    }
   ],
   "source": [
    "class Employee:\n",
    "    company = \"Apple\"\n",
    "    def show(self):\n",
    "        print(f\"The name is {self.name} and company is {self.company}\")\n",
    "\n",
    "    @classmethod    # A class method in Python is a method that is bound to the class and not the instance of the class. \n",
    "    def changeCompany(cls,newcompany):\n",
    "        cls.company = newcompany \n",
    "\n",
    "e1 = Employee()\n",
    "e1.name = \"Majid\"\n",
    "e1.show()\n",
    "\n",
    "e1.changeCompany(\"Tesla\")\n",
    "e1.show()\n",
    "Employee.company"
   ]
  },
  {
   "cell_type": "markdown",
   "metadata": {},
   "source": [
    "# class method as alternative constructor"
   ]
  },
  {
   "cell_type": "code",
   "execution_count": 66,
   "metadata": {},
   "outputs": [
    {
     "name": "stdout",
     "output_type": "stream",
     "text": [
      "Majid\n",
      "12000\n"
     ]
    }
   ],
   "source": [
    "class Employee:\n",
    "    def __init__(self,name,salary):\n",
    "        self.name = name\n",
    "        self.salary = salary\n",
    "\n",
    "e1 = Employee(\"Majid\",12000)\n",
    "print(e1.name)\n",
    "print(e1.salary)"
   ]
  },
  {
   "cell_type": "code",
   "execution_count": 38,
   "metadata": {},
   "outputs": [
    {
     "name": "stdout",
     "output_type": "stream",
     "text": [
      "Majid\n",
      "12000\n"
     ]
    }
   ],
   "source": [
    "class Employee:\n",
    "    def __init__(self,name,salary):\n",
    "        self.name = name\n",
    "        self.salary = salary\n",
    "\n",
    "string = \"Majid-12000\"\n",
    "e2 = Employee(string.split(\"-\")[0] , string.split(\"-\")[1] )\n",
    "print(e2.name)\n",
    "print(e2.salary)"
   ]
  },
  {
   "cell_type": "code",
   "execution_count": 44,
   "metadata": {},
   "outputs": [
    {
     "name": "stdout",
     "output_type": "stream",
     "text": [
      "Majid\n",
      "12000\n"
     ]
    }
   ],
   "source": [
    "class Employee:\n",
    "    def __init__(self,name,salary):\n",
    "        self.name = name\n",
    "        self.salary = salary\n",
    "\n",
    "    @classmethod\n",
    "    def fromStr(cls,string):\n",
    "        return cls(string.split(\"-\")[0] , string.split(\"-\")[1] )\n",
    "\n",
    "string = \"Majid-12000\"\n",
    "e2 = Employee.fromStr(string)\n",
    "print(e2.name)\n",
    "print(e2.salary)"
   ]
  },
  {
   "cell_type": "code",
   "execution_count": 45,
   "metadata": {},
   "outputs": [
    {
     "name": "stdout",
     "output_type": "stream",
     "text": [
      "30\n",
      "John Doe\n"
     ]
    }
   ],
   "source": [
    "class Person:   # another example\n",
    "    def __init__(self, name, age):\n",
    "        self.name = name\n",
    "        self.age = age\n",
    "\n",
    "    @classmethod\n",
    "    def from_string(cls, string):\n",
    "        name, age = string.split(',')\n",
    "        return cls(name, int(age))\n",
    "    \n",
    "person = Person.from_string(\"John Doe, 30\")    \n",
    "\n",
    "print(person.age)\n",
    "print(person.name)"
   ]
  },
  {
   "cell_type": "code",
   "execution_count": 50,
   "metadata": {},
   "outputs": [
    {
     "name": "stdout",
     "output_type": "stream",
     "text": [
      "7\n",
      "7\n"
     ]
    }
   ],
   "source": [
    "class Rectangle:\n",
    "  def __init__(self, width, height):\n",
    "    self.width = width\n",
    "    self.height = height\n",
    "\n",
    "  @classmethod\n",
    "  def square(cls, size):\n",
    "    return cls(size, size)\n",
    "  \n",
    "rectangle = Rectangle.square(7)\n",
    "print(rectangle.height)\n",
    "print(rectangle.width)\n"
   ]
  },
  {
   "cell_type": "code",
   "execution_count": 11,
   "metadata": {},
   "outputs": [
    {
     "name": "stdout",
     "output_type": "stream",
     "text": [
      "{'name': 'John', 'age': 30, 'version': 1, 'clg': 'GES Kot Nawan'}\n"
     ]
    }
   ],
   "source": [
    "class Person:\n",
    "  def __init__(self, name, age):\n",
    "      self.name = name\n",
    "      self.age = age\n",
    "      self.version = 1\n",
    "      self.clg = \"GES Kot Nawan\"\n",
    "\n",
    "    \n",
    "p = Person(\"John\", 30)\n",
    "print(p.__dict__)"
   ]
  },
  {
   "cell_type": "markdown",
   "metadata": {},
   "source": [
    "# super()"
   ]
  },
  {
   "cell_type": "code",
   "execution_count": 3,
   "metadata": {},
   "outputs": [
    {
     "name": "stdout",
     "output_type": "stream",
     "text": [
      "This is the child method.\n",
      "This is the parent method.\n"
     ]
    }
   ],
   "source": [
    "class ParentClass:\n",
    "    def parent_method(self):\n",
    "        print(\"This is the parent method.\")\n",
    "\n",
    "class ChildClass(ParentClass):\n",
    "    def child_method(self):\n",
    "        print(\"This is the child method.\")\n",
    "        super().parent_method()\n",
    "\n",
    "child_object = ChildClass()\n",
    "child_object.child_method()"
   ]
  },
  {
   "cell_type": "code",
   "execution_count": 6,
   "metadata": {},
   "outputs": [
    {
     "name": "stdout",
     "output_type": "stream",
     "text": [
      "This is the child method.\n",
      "This is the parent method.\n"
     ]
    }
   ],
   "source": [
    "class ParentClass:\n",
    "    def parent_method(self):\n",
    "        print(\"This is the parent method.\")\n",
    "\n",
    "class ChildClass(ParentClass):\n",
    "    def child_method(self):\n",
    "        print(\"This is the child method.\")\n",
    "        # super().parent_method()\n",
    "\n",
    "child_object = ChildClass()\n",
    "\n",
    "child_object.child_method()\n",
    "child_object.parent_method()\n"
   ]
  },
  {
   "cell_type": "code",
   "execution_count": 8,
   "metadata": {},
   "outputs": [
    {
     "name": "stdout",
     "output_type": "stream",
     "text": [
      "This is the child method.\n",
      "This is the parent method.\n",
      "Majid Ali\n"
     ]
    }
   ],
   "source": [
    "class ParentClass:\n",
    "    def parent_method(self):\n",
    "        print(\"This is the parent method.\")\n",
    "\n",
    "class ChildClass(ParentClass):\n",
    "    def parent_method(self):\n",
    "        print(\"Majid Ali\")\n",
    "\n",
    "    def child_method(self):\n",
    "        print(\"This is the child method.\")\n",
    "        super().parent_method()\n",
    "\n",
    "child_object = ChildClass()\n",
    "\n",
    "child_object.child_method()\n",
    "child_object.parent_method()"
   ]
  },
  {
   "cell_type": "code",
   "execution_count": 51,
   "metadata": {},
   "outputs": [
    {
     "name": "stdout",
     "output_type": "stream",
     "text": [
      "This is the child method.\n",
      "This is the parent method.\n",
      "Majid Ali\n",
      "This is the parent method.\n"
     ]
    }
   ],
   "source": [
    "class ParentClass:\n",
    "    def parent_method(self):\n",
    "        print(\"This is the parent method.\")\n",
    "\n",
    "class ChildClass(ParentClass):\n",
    "    def parent_method(self):\n",
    "        print(\"Majid Ali\")\n",
    "        super().parent_method()\n",
    "\n",
    "    def child_method(self):\n",
    "        print(\"This is the child method.\")\n",
    "        super().parent_method()\n",
    "\n",
    "child_object = ChildClass()\n",
    "\n",
    "child_object.child_method()\n",
    "child_object.parent_method()"
   ]
  },
  {
   "cell_type": "code",
   "execution_count": 53,
   "metadata": {},
   "outputs": [
    {
     "name": "stdout",
     "output_type": "stream",
     "text": [
      "This is the child method2.\n",
      "This is the parent method1.\n",
      "Majid Ali\n",
      "This is the parent method1.\n"
     ]
    }
   ],
   "source": [
    "class ParentClass:\n",
    "    def parent_method(self):\n",
    "        print(\"This is the parent method1.\")\n",
    "\n",
    "class ChildClass(ParentClass):\n",
    "    def parent_method(self):\n",
    "        print(\"Majid Ali\")\n",
    "        super().parent_method()\n",
    "\n",
    "    def child_method(self):\n",
    "        print(\"This is the child method2.\")\n",
    "        super().parent_method()\n",
    "\n",
    "child_object = ChildClass()\n",
    "\n",
    "child_object.child_method()\n",
    "child_object.parent_method()"
   ]
  },
  {
   "cell_type": "markdown",
   "metadata": {},
   "source": [
    "# Dunder/special methods"
   ]
  },
  {
   "cell_type": "code",
   "execution_count": 12,
   "metadata": {},
   "outputs": [
    {
     "data": {
      "text/plain": [
       "'Harry'"
      ]
     },
     "execution_count": 12,
     "metadata": {},
     "output_type": "execute_result"
    }
   ],
   "source": [
    "class special:\n",
    "    name = \"Harry\"\n",
    "\n",
    "\n",
    "s = special()\n",
    "s.name"
   ]
  },
  {
   "cell_type": "code",
   "execution_count": 35,
   "metadata": {},
   "outputs": [
    {
     "name": "stdout",
     "output_type": "stream",
     "text": [
      "Harry\n"
     ]
    },
    {
     "ename": "TypeError",
     "evalue": "object of type 'special' has no len()",
     "output_type": "error",
     "traceback": [
      "\u001b[1;31m---------------------------------------------------------------------------\u001b[0m",
      "\u001b[1;31mTypeError\u001b[0m                                 Traceback (most recent call last)",
      "Cell \u001b[1;32mIn[35], line 7\u001b[0m\n\u001b[0;32m      5\u001b[0m s \u001b[38;5;241m=\u001b[39m special()\n\u001b[0;32m      6\u001b[0m \u001b[38;5;28mprint\u001b[39m(s\u001b[38;5;241m.\u001b[39mname)\n\u001b[1;32m----> 7\u001b[0m \u001b[38;5;28mprint\u001b[39m(\u001b[38;5;28mlen\u001b[39m(s))\n",
      "\u001b[1;31mTypeError\u001b[0m: object of type 'special' has no len()"
     ]
    }
   ],
   "source": [
    "class special:\n",
    "    name = \"Harry\"\n",
    "\n",
    "\n",
    "s = special()\n",
    "print(s.name)\n",
    "print(len(s))"
   ]
  },
  {
   "cell_type": "code",
   "execution_count": 29,
   "metadata": {},
   "outputs": [
    {
     "name": "stdout",
     "output_type": "stream",
     "text": [
      "Harry\n",
      "5\n"
     ]
    }
   ],
   "source": [
    "class special:\n",
    "    name = \"Harry\"\n",
    "    def __len__(self):\n",
    "        i = 0\n",
    "        for c in self.name:\n",
    "            i +=1\n",
    "        return i\n",
    "\n",
    "\n",
    "s = special()\n",
    "print(s.name)\n",
    "print(len(s))"
   ]
  },
  {
   "cell_type": "code",
   "execution_count": 4,
   "metadata": {},
   "outputs": [
    {
     "name": "stdout",
     "output_type": "stream",
     "text": [
      "Hey! I am good\n"
     ]
    }
   ],
   "source": [
    "class special:\n",
    "    def __call__(self):  # The __call__ method allows an instance of a class to be called as if it were a function.\n",
    "        print(\"Hey! I am good\")\n",
    "\n",
    "s = special()\n",
    "s()"
   ]
  },
  {
   "cell_type": "code",
   "execution_count": 36,
   "metadata": {},
   "outputs": [
    {
     "name": "stdout",
     "output_type": "stream",
     "text": [
      "Hey! my name is Majid Ali and roll no. is 64\n"
     ]
    }
   ],
   "source": [
    "class special:\n",
    "    def __call__(self,name, roll_no):\n",
    "        print(f\"Hey! my name is {name} and roll no. is {roll_no}\")\n",
    "\n",
    "s = special()\n",
    "s(\"Majid Ali\",64)\n"
   ]
  },
  {
   "cell_type": "markdown",
   "metadata": {},
   "source": [
    "# Method over loading"
   ]
  },
  {
   "cell_type": "code",
   "execution_count": 57,
   "metadata": {},
   "outputs": [
    {
     "data": {
      "text/plain": [
       "40"
      ]
     },
     "execution_count": 57,
     "metadata": {},
     "output_type": "execute_result"
    }
   ],
   "source": [
    "class Shape:\n",
    "    def __init__(self,x,y):\n",
    "        self.x = x\n",
    "        self.y = y\n",
    "\n",
    "    def area(self):\n",
    "        return self.x * self.y\n",
    "    \n",
    "rec = Shape(5,8)\n",
    "rec.area()"
   ]
  },
  {
   "cell_type": "code",
   "execution_count": 10,
   "metadata": {},
   "outputs": [
    {
     "data": {
      "text/plain": [
       "616.0"
      ]
     },
     "execution_count": 10,
     "metadata": {},
     "output_type": "execute_result"
    }
   ],
   "source": [
    "class Shape:\n",
    "    def __init__(self,x,y):\n",
    "        self.x = x\n",
    "        self.y = y\n",
    "\n",
    "    def area(self):\n",
    "        return self.x * self.y\n",
    "    \n",
    "class Circle(Shape):\n",
    "\n",
    "    def __init__(self, radius):\n",
    "        self.radius = radius\n",
    "        super().__init__(radius,radius)\n",
    "\n",
    "    def area(self):             # overridden method\n",
    "        return (22/7) * super().area()\n",
    "    \n",
    "\n",
    "c = Circle(14)\n",
    "c.area()\n"
   ]
  },
  {
   "cell_type": "code",
   "execution_count": 1,
   "metadata": {},
   "outputs": [
    {
     "name": "stdout",
     "output_type": "stream",
     "text": [
      "3\n",
      "6\n",
      "10\n"
     ]
    }
   ],
   "source": [
    "class MathOperations:                # method overloading by chatgpt\n",
    "    def add(self, *args):\n",
    "        return sum(args)\n",
    "\n",
    "math_op = MathOperations()\n",
    "print(math_op.add(1, 2))        \n",
    "print(math_op.add(1, 2, 3))     \n",
    "print(math_op.add(1, 2, 3, 4)) \n"
   ]
  },
  {
   "cell_type": "markdown",
   "metadata": {},
   "source": [
    "# operator overloding"
   ]
  },
  {
   "cell_type": "code",
   "execution_count": 16,
   "metadata": {},
   "outputs": [
    {
     "name": "stdout",
     "output_type": "stream",
     "text": [
      "3i + 5j + 7k\n",
      "4i + 6j + 2k\n"
     ]
    }
   ],
   "source": [
    "class Vector:\n",
    "    def __init__(self,i,j,k):\n",
    "        self.i = i\n",
    "        self.j = j\n",
    "        self.k = k\n",
    "\n",
    "    def __str__(self):\n",
    "        return f\"{self.i}i + {self.j}j + {self.k}k\"\n",
    "    \n",
    "v1 = Vector(3,5,7)\n",
    "print(v1)\n",
    "\n",
    "v2 = Vector(4,6,2)\n",
    "print(v2)\n",
    "        "
   ]
  },
  {
   "cell_type": "code",
   "execution_count": 17,
   "metadata": {},
   "outputs": [
    {
     "ename": "TypeError",
     "evalue": "unsupported operand type(s) for +: 'Vector' and 'Vector'",
     "output_type": "error",
     "traceback": [
      "\u001b[1;31m---------------------------------------------------------------------------\u001b[0m",
      "\u001b[1;31mTypeError\u001b[0m                                 Traceback (most recent call last)",
      "Cell \u001b[1;32mIn[17], line 1\u001b[0m\n\u001b[1;32m----> 1\u001b[0m \u001b[38;5;28mprint\u001b[39m(v1 \u001b[38;5;241m+\u001b[39m v2)\n",
      "\u001b[1;31mTypeError\u001b[0m: unsupported operand type(s) for +: 'Vector' and 'Vector'"
     ]
    }
   ],
   "source": [
    "print(v1 + v2)"
   ]
  },
  {
   "cell_type": "code",
   "execution_count": 14,
   "metadata": {},
   "outputs": [
    {
     "name": "stdout",
     "output_type": "stream",
     "text": [
      "3i + 5j + 7k\n",
      "4i + 6j + 2k\n",
      "7i + 11j + 9k\n",
      "<class '__main__.Vector'>\n"
     ]
    }
   ],
   "source": [
    "class Vector:\n",
    "    def __init__(self,i,j,k):\n",
    "        self.i = i\n",
    "        self.j = j\n",
    "        self.k = k\n",
    "\n",
    "    def __str__(self):\n",
    "        return f\"{self.i}i + {self.j}j + {self.k}k\"\n",
    "    \n",
    "    def __add__(self,x):\n",
    "        return Vector(self.i + x.i , self.j + x.j , self.k + x.k )\n",
    "    \n",
    "    # def __add__(self,x):                                               # return string type\n",
    "    #     return f\"{self.i + x.i}i + {self.j + x.j}j + {self.k + x.k}k\"\n",
    "    \n",
    "v1 = Vector(3,5,7)\n",
    "print(v1)\n",
    "\n",
    "v2 = Vector(4,6,2)\n",
    "print(v2)\n",
    "\n",
    "print(v1 + v2)\n",
    "print(type(v1+v2))"
   ]
  },
  {
   "cell_type": "code",
   "execution_count": 21,
   "metadata": {},
   "outputs": [
    {
     "name": "stdout",
     "output_type": "stream",
     "text": [
      "7i + 11j + 9k\n"
     ]
    }
   ],
   "source": [
    "class Vector:  #        copied from ChatGpt\n",
    "    def __init__(self, i, j, k):\n",
    "        self.i = i\n",
    "        self.j = j\n",
    "        self.k = k\n",
    "\n",
    "    def __str__(self):\n",
    "        return f\"{self.i}i + {self.j}j + {self.k}k\"\n",
    "    \n",
    "    def add(self, x):\n",
    "         return Vector(self.i + x.i , self.j + x.j , self.k + x.k )\n",
    "\n",
    "v1 = Vector(3, 5, 7)\n",
    "v2 = Vector(4, 6, 2)\n",
    "v3 = v1.add(v2)\n",
    "print(v3)  \n",
    "\n"
   ]
  },
  {
   "cell_type": "markdown",
   "metadata": {},
   "source": [
    "# Single Inheritance"
   ]
  },
  {
   "cell_type": "code",
   "execution_count": 7,
   "metadata": {},
   "outputs": [
    {
     "name": "stdout",
     "output_type": "stream",
     "text": [
      "Sound made by the animal\n",
      "Dog\n",
      "Doggerman\n",
      "Buffalo\n",
      "Cow\n",
      "Russian\n",
      "Bark!\n"
     ]
    }
   ],
   "source": [
    "class Animal:\n",
    "    def __init__(self, name, species):\n",
    "        self.name = name\n",
    "        self.species = species\n",
    "        \n",
    "    def make_sound(self):\n",
    "        print(\"Sound made by the animal\")\n",
    "\n",
    "\n",
    "class Dog(Animal):\n",
    "    def __init__(self, name, species,breed):\n",
    "        super().__init__(name, species)\n",
    "\n",
    "        self.breed = breed\n",
    "        \n",
    "    def make_sound(self):\n",
    "        print(\"Bark!\")\n",
    "\n",
    "\n",
    "d = Dog(\"Dog\", \"Doggerman\", \"Russian\")\n",
    "a = Animal(\"Cow\",\"Buffalo\")\n",
    "\n",
    "a.make_sound()\n",
    "\n",
    "print(d.name)\n",
    "print(d.species)\n",
    "print(a.species)\n",
    "\n",
    "print(a.name)\n",
    "print(d.breed)\n",
    "\n",
    "d.make_sound()\n"
   ]
  },
  {
   "cell_type": "code",
   "execution_count": 9,
   "metadata": {},
   "outputs": [
    {
     "name": "stdout",
     "output_type": "stream",
     "text": [
      "Bark!\n",
      "Doggerman\n",
      "Dog\n",
      "Sound made by the animal\n",
      "Puppy\n"
     ]
    }
   ],
   "source": [
    "class Animal:\n",
    "    def __init__(self, name, species):\n",
    "        self.name = name\n",
    "        self.species = species\n",
    "        \n",
    "    def make_sound(self):\n",
    "        print(\"Sound made by the animal\")\n",
    "\n",
    "class Dog(Animal):\n",
    "    def __init__(self, name, breed):\n",
    "        Animal.__init__(self,name,species=\"Dog\")\n",
    "        self.breed = breed\n",
    "\n",
    "    def make_sound(self):\n",
    "        print(\"Bark!\")\n",
    "\n",
    "d = Dog(\"Dog\", \"Doggerman\")\n",
    "d.make_sound()\n",
    "print(d.breed)\n",
    "print(d.species)\n",
    "\n",
    "a = Animal(\"Dog\", \"Puppy\")\n",
    "a.make_sound()\n",
    "print(a.species)"
   ]
  },
  {
   "cell_type": "markdown",
   "metadata": {},
   "source": [
    "# multiple inheritance"
   ]
  },
  {
   "cell_type": "code",
   "execution_count": 12,
   "metadata": {},
   "outputs": [],
   "source": [
    "class Animal:\n",
    "    def __init__(self, name, species):\n",
    "        self.name = name\n",
    "        self.species = species\n",
    "        \n",
    "    def make_sound(self):\n",
    "        print(\"Sound made by the animal\")\n",
    "\n",
    "    def show(self):\n",
    "        print(\"Animal eat meat\")\n",
    "        \n",
    "class Mammal:\n",
    "    def __init__(self, name, fur_color):\n",
    "        self.name = name\n",
    "        self.fur_color = fur_color\n",
    "\n",
    "    def show(self):\n",
    "        print(\"Mammal feed milk to their child\")\n",
    "        \n",
    "class Dog(Animal, Mammal):\n",
    "    def __init__(self, name, breed, fur_color,species):\n",
    "        Animal.__init__(self, name, species)\n",
    "        Mammal.__init__(self, name, fur_color)\n",
    "        self.breed = breed\n",
    "        \n",
    "    def make_sound(self):\n",
    "        print(\"Bark!\")"
   ]
  },
  {
   "cell_type": "code",
   "execution_count": 13,
   "metadata": {},
   "outputs": [
    {
     "name": "stdout",
     "output_type": "stream",
     "text": [
      "Russian\n",
      "white\n",
      "Harry\n",
      "Dog\n",
      "Bark!\n"
     ]
    }
   ],
   "source": [
    "d = Dog(\"Harry\",\"Russian\",\"white\",'Dog')\n",
    "a = Animal(\"Dog\",'Champanzy')\n",
    "m = Mammal(\"Cow\",'Black')\n",
    "\n",
    "print(d.breed)\n",
    "print(d.fur_color)\n",
    "print(d.name)\n",
    "print(d.species)\n",
    "d.make_sound()"
   ]
  },
  {
   "cell_type": "code",
   "execution_count": 14,
   "metadata": {},
   "outputs": [
    {
     "name": "stdout",
     "output_type": "stream",
     "text": [
      "Animal eat meat\n"
     ]
    }
   ],
   "source": [
    "d.show()"
   ]
  },
  {
   "cell_type": "code",
   "execution_count": 15,
   "metadata": {},
   "outputs": [
    {
     "data": {
      "text/plain": [
       "'Champanzy'"
      ]
     },
     "execution_count": 15,
     "metadata": {},
     "output_type": "execute_result"
    }
   ],
   "source": [
    "a.species"
   ]
  },
  {
   "cell_type": "code",
   "execution_count": 44,
   "metadata": {},
   "outputs": [
    {
     "data": {
      "text/plain": [
       "[__main__.Dog, __main__.Animal, __main__.Mammal, object]"
      ]
     },
     "execution_count": 44,
     "metadata": {},
     "output_type": "execute_result"
    }
   ],
   "source": [
    "Dog.mro()     # Method Resolution Order"
   ]
  },
  {
   "cell_type": "code",
   "execution_count": 58,
   "metadata": {},
   "outputs": [],
   "source": [
    "class Animal:\n",
    "    def __init__(self, name, species,forest):\n",
    "        self.name = name\n",
    "        self.species = species\n",
    "        self.forest = forest\n",
    "        \n",
    "    def make_sound(self):\n",
    "        print(\"Sound made by the animal\")\n",
    "\n",
    "    def show(self):\n",
    "        print(\"Animal eat meat\")\n",
    "        \n",
    "class Mammal:\n",
    "    def __init__(self, name, fur_color):\n",
    "        self.name = name\n",
    "        self.fur_color = fur_color\n",
    "\n",
    "    def show(self):\n",
    "        print(\"Mammal feed milk to their child\")\n",
    "        \n",
    "class Dog(Animal, Mammal):\n",
    "        def __init__(self, name, species,fur_color,breed,forest):\n",
    "            super().__init__(name,species,forest)\n",
    "            self.breed = breed\n",
    "            self.fur_color = fur_color\n",
    "            self.forest = forest\n",
    "\n",
    "        def make_sound(self):\n",
    "            print(\"Bark!\")"
   ]
  },
  {
   "cell_type": "code",
   "execution_count": 59,
   "metadata": {},
   "outputs": [
    {
     "name": "stdout",
     "output_type": "stream",
     "text": [
      "American\n",
      "white\n",
      "Harry\n",
      "Russian\n",
      "Bark!\n"
     ]
    },
    {
     "data": {
      "text/plain": [
       "'Amazon'"
      ]
     },
     "execution_count": 59,
     "metadata": {},
     "output_type": "execute_result"
    }
   ],
   "source": [
    "d = Dog(\"Harry\",\"Russian\",\"white\",\"American\",'Amazon')\n",
    "a = Animal(\"Dog\",'Champanzy',\"Amazon\")\n",
    "m = Mammal(\"Cow\",'Black')\n",
    "\n",
    "print(d.breed)\n",
    "print(d.fur_color)\n",
    "print(d.name)\n",
    "print(d.species)\n",
    "d.make_sound()\n",
    "d.forest"
   ]
  },
  {
   "cell_type": "markdown",
   "metadata": {},
   "source": [
    "# Multilevel Inheritance"
   ]
  },
  {
   "cell_type": "code",
   "execution_count": 16,
   "metadata": {},
   "outputs": [
    {
     "name": "stdout",
     "output_type": "stream",
     "text": [
      "Name: tommy\n",
      "Species: Dog\n",
      "Breed: Golden Retriever\n",
      "Color: Black\n"
     ]
    }
   ],
   "source": [
    "class Animal:\n",
    "    def __init__(self, name, species):\n",
    "        self.name = name\n",
    "        self.species = species\n",
    "        \n",
    "    def show_details(self):\n",
    "        print(f\"Name: {self.name}\")\n",
    "        print(f\"Species: {self.species}\")\n",
    "        \n",
    "class Dog(Animal):\n",
    "    def __init__(self, name, breed):\n",
    "        Animal.__init__(self, name, species=\"Dog\")\n",
    "        self.breed = breed\n",
    "        \n",
    "    def show_details(self):\n",
    "        Animal.show_details(self)\n",
    "        print(f\"Breed: {self.breed}\")\n",
    "        \n",
    "class GoldenRetriever(Dog):\n",
    "    def __init__(self, name, color):\n",
    "        Dog.__init__(self, name, breed=\"Golden Retriever\")\n",
    "        self.color = color\n",
    "        \n",
    "    def show_details(self):\n",
    "        Dog.show_details(self)\n",
    "        print(f\"Color: {self.color}\")\n",
    "\n",
    "o = GoldenRetriever(\"tommy\", \"Black\")\n",
    "o.show_details()        "
   ]
  },
  {
   "cell_type": "code",
   "execution_count": 67,
   "metadata": {},
   "outputs": [
    {
     "name": "stdout",
     "output_type": "stream",
     "text": [
      "Name: tommy\n",
      "Species: Dog\n",
      "Breed: Golden Retriever\n",
      "Color: Black\n"
     ]
    },
    {
     "data": {
      "text/plain": [
       "'Golden Retriever'"
      ]
     },
     "execution_count": 67,
     "metadata": {},
     "output_type": "execute_result"
    }
   ],
   "source": [
    "class Animal:\n",
    "    def __init__(self, name, species):\n",
    "        self.name = name\n",
    "        self.species = species\n",
    "        \n",
    "    def show_details(self):\n",
    "        print(f\"Name: {self.name}\")\n",
    "        print(f\"Species: {self.species}\")\n",
    "\n",
    "class Dog(Animal):\n",
    "    def __init__(self, name, breed):     #  species should pass here , if not then it would use it in hardcoded\n",
    "        super().__init__(name, species=\"Dog\") # hardcoded species value is used if we do not use it in __init__\n",
    "        self.breed = breed\n",
    "        \n",
    "    def show_details(self):\n",
    "        super().show_details()        # we can use super(). or class name\n",
    "        print(f\"Breed: {self.breed}\")\n",
    "\n",
    "class GoldenRetriever(Dog):\n",
    "    def __init__(self, name, color):\n",
    "        super().__init__(name, breed = \"Golden Retriever\")\n",
    "        self.color = color\n",
    "        \n",
    "    def show_details(self):\n",
    "        Dog.show_details(self)             # we can use super(). or class name\n",
    "        print(f\"Color: {self.color}\")\n",
    "\n",
    "o = GoldenRetriever(\"tommy\", \"Black\")\n",
    "o.show_details()  \n",
    "o.breed"
   ]
  },
  {
   "cell_type": "code",
   "execution_count": 68,
   "metadata": {},
   "outputs": [
    {
     "name": "stdout",
     "output_type": "stream",
     "text": [
      "Name: jerry\n",
      "Species: Dog\n",
      "Breed: Russian\n"
     ]
    }
   ],
   "source": [
    "a = Dog(\"jerry\", \"Russian\")\n",
    "a.show_details()"
   ]
  },
  {
   "cell_type": "markdown",
   "metadata": {},
   "source": [
    "# Walrus operator  :="
   ]
  },
  {
   "cell_type": "code",
   "execution_count": 37,
   "metadata": {},
   "outputs": [
    {
     "ename": "TypeError",
     "evalue": "'a' is an invalid keyword argument for print()",
     "output_type": "error",
     "traceback": [
      "\u001b[1;31m---------------------------------------------------------------------------\u001b[0m",
      "\u001b[1;31mTypeError\u001b[0m                                 Traceback (most recent call last)",
      "Cell \u001b[1;32mIn[37], line 2\u001b[0m\n\u001b[0;32m      1\u001b[0m a \u001b[38;5;241m=\u001b[39m \u001b[38;5;28;01mTrue\u001b[39;00m\n\u001b[1;32m----> 2\u001b[0m \u001b[38;5;28mprint\u001b[39m(a \u001b[38;5;241m=\u001b[39m \u001b[38;5;28;01mFalse\u001b[39;00m)\n",
      "\u001b[1;31mTypeError\u001b[0m: 'a' is an invalid keyword argument for print()"
     ]
    }
   ],
   "source": [
    "a = True\n",
    "print(a = False)"
   ]
  },
  {
   "cell_type": "code",
   "execution_count": 10,
   "metadata": {},
   "outputs": [
    {
     "name": "stdout",
     "output_type": "stream",
     "text": [
      "False\n"
     ]
    }
   ],
   "source": [
    "a = True               \n",
    "print(a := False)    #walrus operator"
   ]
  },
  {
   "cell_type": "code",
   "execution_count": 17,
   "metadata": {},
   "outputs": [
    {
     "name": "stdout",
     "output_type": "stream",
     "text": [
      "5\n",
      "5\n",
      "4\n",
      "3\n",
      "2\n",
      "1\n"
     ]
    }
   ],
   "source": [
    "numbers = [1, 2, 3, 4, 5]\n",
    "print(len(numbers))\n",
    "\n",
    "while (n := len(numbers)) > 0:\n",
    "    print(numbers.pop())"
   ]
  },
  {
   "cell_type": "code",
   "execution_count": 7,
   "metadata": {},
   "outputs": [
    {
     "name": "stdout",
     "output_type": "stream",
     "text": [
      "5\n",
      "4\n",
      "3\n",
      "2\n",
      "1\n"
     ]
    }
   ],
   "source": [
    "numbers = [1, 2, 3, 4, 5]\n",
    "\n",
    "while len(numbers) > 0:\n",
    "    print(numbers.pop())\n"
   ]
  },
  {
   "cell_type": "code",
   "execution_count": 8,
   "metadata": {},
   "outputs": [
    {
     "name": "stdout",
     "output_type": "stream",
     "text": [
      "1\n",
      "2\n",
      "3\n",
      "4\n",
      "5\n"
     ]
    }
   ],
   "source": [
    "numbers = [1, 2, 3, 4, 5]\n",
    "\n",
    "for number in numbers:\n",
    "    print(number)"
   ]
  },
  {
   "cell_type": "code",
   "execution_count": 18,
   "metadata": {},
   "outputs": [
    {
     "name": "stdout",
     "output_type": "stream",
     "text": [
      "Name not found.\n"
     ]
    }
   ],
   "source": [
    "names = [\"John\", \"Jane\", \"Jim\"]\n",
    "\n",
    "if (name := input(\"Enter a name: \")) in names:\n",
    "    print(f\"Hello, {name}!\")\n",
    "else:\n",
    "    print(\"Name not found.\")"
   ]
  },
  {
   "cell_type": "code",
   "execution_count": 13,
   "metadata": {},
   "outputs": [
    {
     "name": "stdout",
     "output_type": "stream",
     "text": [
      "['apple', 'banana', 'orange', 'malta']\n"
     ]
    }
   ],
   "source": [
    "# foods = list()\n",
    "foods = []\n",
    "while True:\n",
    "  food = input(\"What food do you like?: \")\n",
    "  if food == \"quit\":\n",
    "      break\n",
    "  foods.append(food)\n",
    "print(foods)"
   ]
  },
  {
   "cell_type": "code",
   "execution_count": 14,
   "metadata": {},
   "outputs": [
    {
     "name": "stdout",
     "output_type": "stream",
     "text": [
      "['apple', 'banana', 'malta', 'amrood']\n"
     ]
    }
   ],
   "source": [
    "foods = list()\n",
    "while (food := input(\"What food do you like?: \")) != \"quit\":          # walrus operator\n",
    "    foods.append(food)\n",
    "print(foods)\n"
   ]
  },
  {
   "cell_type": "markdown",
   "metadata": {},
   "source": [
    "# Generator Function"
   ]
  },
  {
   "cell_type": "code",
   "execution_count": 29,
   "metadata": {},
   "outputs": [],
   "source": [
    "def my_generator():\n",
    "    for i in range(5):\n",
    "        yield i"
   ]
  },
  {
   "cell_type": "code",
   "execution_count": 32,
   "metadata": {},
   "outputs": [
    {
     "name": "stdout",
     "output_type": "stream",
     "text": [
      "0\n",
      "1\n"
     ]
    }
   ],
   "source": [
    "gen = my_generator()\n",
    "\n",
    "print(next(gen))\n",
    "print(next(gen))"
   ]
  },
  {
   "cell_type": "code",
   "execution_count": 33,
   "metadata": {},
   "outputs": [
    {
     "name": "stdout",
     "output_type": "stream",
     "text": [
      "2\n",
      "3\n",
      "4\n"
     ]
    }
   ],
   "source": [
    "for j in gen:\n",
    "    print(j)"
   ]
  }
 ],
 "metadata": {
  "kernelspec": {
   "display_name": "python12",
   "language": "python",
   "name": "python3"
  },
  "language_info": {
   "codemirror_mode": {
    "name": "ipython",
    "version": 3
   },
   "file_extension": ".py",
   "mimetype": "text/x-python",
   "name": "python",
   "nbconvert_exporter": "python",
   "pygments_lexer": "ipython3",
   "version": "3.12.2"
  }
 },
 "nbformat": 4,
 "nbformat_minor": 2
}
